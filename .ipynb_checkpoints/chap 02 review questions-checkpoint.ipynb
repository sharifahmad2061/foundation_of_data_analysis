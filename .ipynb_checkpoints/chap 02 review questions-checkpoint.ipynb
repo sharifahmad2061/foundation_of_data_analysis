{
 "cells": [
  {
   "cell_type": "markdown",
   "metadata": {},
   "source": [
    "# Review Questions\n",
    "---"
   ]
  },
  {
   "cell_type": "markdown",
   "metadata": {},
   "source": [
    "## create data frame for question data"
   ]
  },
  {
   "cell_type": "code",
   "execution_count": 15,
   "metadata": {},
   "outputs": [],
   "source": [
    "material_data  <- data.frame(\"Material\"=c(\"Plastics\",\"Lead\",\"Aluminium\",\"Iron\",\"Copper\",\"Tin\",\"Zinc\",\"Nickel\",\"Barium\",\"Others\"),\n",
    "                             \"Kilograms\"=c(6.21,1.71,3.83,5.54,2.12,.27,.60,.23,.05,6.44),\n",
    "                             stringsAsFactors=FALSE)"
   ]
  },
  {
   "cell_type": "code",
   "execution_count": 16,
   "metadata": {},
   "outputs": [
    {
     "data": {
      "text/html": [
       "<table>\n",
       "<thead><tr><th scope=col>Material</th><th scope=col>Kilograms</th></tr></thead>\n",
       "<tbody>\n",
       "\t<tr><td>Plastics </td><td>6.21     </td></tr>\n",
       "\t<tr><td>Lead     </td><td>1.71     </td></tr>\n",
       "\t<tr><td>Aluminium</td><td>3.83     </td></tr>\n",
       "\t<tr><td>Iron     </td><td>5.54     </td></tr>\n",
       "\t<tr><td>Copper   </td><td>2.12     </td></tr>\n",
       "\t<tr><td>Tin      </td><td>0.27     </td></tr>\n",
       "\t<tr><td>Zinc     </td><td>0.60     </td></tr>\n",
       "\t<tr><td>Nickel   </td><td>0.23     </td></tr>\n",
       "\t<tr><td>Barium   </td><td>0.05     </td></tr>\n",
       "\t<tr><td>Others   </td><td>6.44     </td></tr>\n",
       "</tbody>\n",
       "</table>\n"
      ],
      "text/latex": [
       "\\begin{tabular}{r|ll}\n",
       " Material & Kilograms\\\\\n",
       "\\hline\n",
       "\t Plastics  & 6.21     \\\\\n",
       "\t Lead      & 1.71     \\\\\n",
       "\t Aluminium & 3.83     \\\\\n",
       "\t Iron      & 5.54     \\\\\n",
       "\t Copper    & 2.12     \\\\\n",
       "\t Tin       & 0.27     \\\\\n",
       "\t Zinc      & 0.60     \\\\\n",
       "\t Nickel    & 0.23     \\\\\n",
       "\t Barium    & 0.05     \\\\\n",
       "\t Others    & 6.44     \\\\\n",
       "\\end{tabular}\n"
      ],
      "text/markdown": [
       "\n",
       "| Material | Kilograms |\n",
       "|---|---|\n",
       "| Plastics  | 6.21      |\n",
       "| Lead      | 1.71      |\n",
       "| Aluminium | 3.83      |\n",
       "| Iron      | 5.54      |\n",
       "| Copper    | 2.12      |\n",
       "| Tin       | 0.27      |\n",
       "| Zinc      | 0.60      |\n",
       "| Nickel    | 0.23      |\n",
       "| Barium    | 0.05      |\n",
       "| Others    | 6.44      |\n",
       "\n"
      ],
      "text/plain": [
       "   Material  Kilograms\n",
       "1  Plastics  6.21     \n",
       "2  Lead      1.71     \n",
       "3  Aluminium 3.83     \n",
       "4  Iron      5.54     \n",
       "5  Copper    2.12     \n",
       "6  Tin       0.27     \n",
       "7  Zinc      0.60     \n",
       "8  Nickel    0.23     \n",
       "9  Barium    0.05     \n",
       "10 Others    6.44     "
      ]
     },
     "metadata": {},
     "output_type": "display_data"
    }
   ],
   "source": [
    "material_data"
   ]
  },
  {
   "cell_type": "code",
   "execution_count": 17,
   "metadata": {},
   "outputs": [
    {
     "data": {
      "image/png": "[encoded data removed]",
      "text/plain": [
       "plot without title"
      ]
     },
     "metadata": {},
     "output_type": "display_data"
    }
   ],
   "source": [
    "barplot(material_data$Kilograms)"
   ]
  },
  {
   "cell_type": "code",
   "execution_count": 27,
   "metadata": {},
   "outputs": [
    {
     "data": {
      "image/png": "[encoded data removed]",
      "text/plain": [
       "plot without title"
      ]
     },
     "metadata": {},
     "output_type": "display_data"
    }
   ],
   "source": [
    "barplot(material_data$Kilograms,\n",
    "        names.arg=substr(material_data$Material,1,3))"
   ]
  },
  {
   "cell_type": "code",
   "execution_count": 20,
   "metadata": {},
   "outputs": [
    {
     "data": {
      "text/html": [
       "<ol class=list-inline>\n",
       "\t<li>'Plastics'</li>\n",
       "\t<li>'Lead'</li>\n",
       "\t<li>'Aluminium'</li>\n",
       "\t<li>'Iron'</li>\n",
       "\t<li>'Copper'</li>\n",
       "\t<li>'Tin'</li>\n",
       "\t<li>'Zinc'</li>\n",
       "\t<li>'Nickel'</li>\n",
       "\t<li>'Barium'</li>\n",
       "\t<li>'Others'</li>\n",
       "</ol>\n"
      ],
      "text/latex": [
       "\\begin{enumerate*}\n",
       "\\item 'Plastics'\n",
       "\\item 'Lead'\n",
       "\\item 'Aluminium'\n",
       "\\item 'Iron'\n",
       "\\item 'Copper'\n",
       "\\item 'Tin'\n",
       "\\item 'Zinc'\n",
       "\\item 'Nickel'\n",
       "\\item 'Barium'\n",
       "\\item 'Others'\n",
       "\\end{enumerate*}\n"
      ],
      "text/markdown": [
       "1. 'Plastics'\n",
       "2. 'Lead'\n",
       "3. 'Aluminium'\n",
       "4. 'Iron'\n",
       "5. 'Copper'\n",
       "6. 'Tin'\n",
       "7. 'Zinc'\n",
       "8. 'Nickel'\n",
       "9. 'Barium'\n",
       "10. 'Others'\n",
       "\n",
       "\n"
      ],
      "text/plain": [
       " [1] \"Plastics\"  \"Lead\"      \"Aluminium\" \"Iron\"      \"Copper\"    \"Tin\"      \n",
       " [7] \"Zinc\"      \"Nickel\"    \"Barium\"    \"Others\"   "
      ]
     },
     "metadata": {},
     "output_type": "display_data"
    }
   ],
   "source": [
    "material_data$Material"
   ]
  },
  {
   "cell_type": "code",
   "execution_count": 21,
   "metadata": {},
   "outputs": [
    {
     "data": {
      "text/html": [
       "'data.frame'"
      ],
      "text/latex": [
       "'data.frame'"
      ],
      "text/markdown": [
       "'data.frame'"
      ],
      "text/plain": [
       "[1] \"data.frame\""
      ]
     },
     "metadata": {},
     "output_type": "display_data"
    }
   ],
   "source": [
    "class(material_data)"
   ]
  },
  {
   "cell_type": "code",
   "execution_count": 22,
   "metadata": {},
   "outputs": [
    {
     "data": {
      "text/html": [
       "'list'"
      ],
      "text/latex": [
       "'list'"
      ],
      "text/markdown": [
       "'list'"
      ],
      "text/plain": [
       "[1] \"list\""
      ]
     },
     "metadata": {},
     "output_type": "display_data"
    }
   ],
   "source": [
    "typeof(material_data)"
   ]
  },
  {
   "cell_type": "code",
   "execution_count": 23,
   "metadata": {},
   "outputs": [
    {
     "name": "stdout",
     "output_type": "stream",
     "text": [
      "'data.frame':\t10 obs. of  2 variables:\n",
      " $ Material : chr  \"Plastics\" \"Lead\" \"Aluminium\" \"Iron\" ...\n",
      " $ Kilograms: num  6.21 1.71 3.83 5.54 2.12 0.27 0.6 0.23 0.05 6.44\n"
     ]
    }
   ],
   "source": [
    "str(material_data)"
   ]
  },
  {
   "cell_type": "code",
   "execution_count": 25,
   "metadata": {},
   "outputs": [],
   "source": [
    "?barplot"
   ]
  },
  {
   "cell_type": "markdown",
   "metadata": {},
   "source": [
    "## Create the relative frequence table"
   ]
  },
  {
   "cell_type": "code",
   "execution_count": 33,
   "metadata": {},
   "outputs": [],
   "source": [
    "rel_freq = material_data$Kilograms / sum(material_data$Kilograms)"
   ]
  },
  {
   "cell_type": "code",
   "execution_count": 34,
   "metadata": {},
   "outputs": [
    {
     "data": {
      "text/html": [
       "<ol class=list-inline>\n",
       "\t<li>0.23</li>\n",
       "\t<li>0.0633333333333333</li>\n",
       "\t<li>0.141851851851852</li>\n",
       "\t<li>0.205185185185185</li>\n",
       "\t<li>0.0785185185185185</li>\n",
       "\t<li>0.01</li>\n",
       "\t<li>0.0222222222222222</li>\n",
       "\t<li>0.00851851851851852</li>\n",
       "\t<li>0.00185185185185185</li>\n",
       "\t<li>0.238518518518519</li>\n",
       "</ol>\n"
      ],
      "text/latex": [
       "\\begin{enumerate*}\n",
       "\\item 0.23\n",
       "\\item 0.0633333333333333\n",
       "\\item 0.141851851851852\n",
       "\\item 0.205185185185185\n",
       "\\item 0.0785185185185185\n",
       "\\item 0.01\n",
       "\\item 0.0222222222222222\n",
       "\\item 0.00851851851851852\n",
       "\\item 0.00185185185185185\n",
       "\\item 0.238518518518519\n",
       "\\end{enumerate*}\n"
      ],
      "text/markdown": [
       "1. 0.23\n",
       "2. 0.0633333333333333\n",
       "3. 0.141851851851852\n",
       "4. 0.205185185185185\n",
       "5. 0.0785185185185185\n",
       "6. 0.01\n",
       "7. 0.0222222222222222\n",
       "8. 0.00851851851851852\n",
       "9. 0.00185185185185185\n",
       "10. 0.238518518518519\n",
       "\n",
       "\n"
      ],
      "text/plain": [
       " [1] 0.230000000 0.063333333 0.141851852 0.205185185 0.078518519 0.010000000\n",
       " [7] 0.022222222 0.008518519 0.001851852 0.238518519"
      ]
     },
     "metadata": {},
     "output_type": "display_data"
    }
   ],
   "source": [
    "rel_freq"
   ]
  },
  {
   "cell_type": "code",
   "execution_count": 32,
   "metadata": {},
   "outputs": [
    {
     "data": {
      "text/html": [
       "<ol class=list-inline>\n",
       "\t<li>0.23</li>\n",
       "\t<li>0.0633333333333333</li>\n",
       "\t<li>0.141851851851852</li>\n",
       "\t<li>0.205185185185185</li>\n",
       "\t<li>0.0785185185185185</li>\n",
       "\t<li>0.01</li>\n",
       "\t<li>0.0222222222222222</li>\n",
       "\t<li>0.00851851851851852</li>\n",
       "\t<li>0.00185185185185185</li>\n",
       "\t<li>0.238518518518519</li>\n",
       "</ol>\n"
      ],
      "text/latex": [
       "\\begin{enumerate*}\n",
       "\\item 0.23\n",
       "\\item 0.0633333333333333\n",
       "\\item 0.141851851851852\n",
       "\\item 0.205185185185185\n",
       "\\item 0.0785185185185185\n",
       "\\item 0.01\n",
       "\\item 0.0222222222222222\n",
       "\\item 0.00851851851851852\n",
       "\\item 0.00185185185185185\n",
       "\\item 0.238518518518519\n",
       "\\end{enumerate*}\n"
      ],
      "text/markdown": [
       "1. 0.23\n",
       "2. 0.0633333333333333\n",
       "3. 0.141851851851852\n",
       "4. 0.205185185185185\n",
       "5. 0.0785185185185185\n",
       "6. 0.01\n",
       "7. 0.0222222222222222\n",
       "8. 0.00851851851851852\n",
       "9. 0.00185185185185185\n",
       "10. 0.238518518518519\n",
       "\n",
       "\n"
      ],
      "text/plain": [
       " [1] 0.230000000 0.063333333 0.141851852 0.205185185 0.078518519 0.010000000\n",
       " [7] 0.022222222 0.008518519 0.001851852 0.238518519"
      ]
     },
     "metadata": {},
     "output_type": "display_data"
    }
   ],
   "source": [
    "material_data$Kilograms / sum(material_data$Kilograms)"
   ]
  },
  {
   "cell_type": "code",
   "execution_count": 35,
   "metadata": {},
   "outputs": [],
   "source": [
    "material_data['rel_freq'] <- rel_freq"
   ]
  },
  {
   "cell_type": "code",
   "execution_count": 36,
   "metadata": {},
   "outputs": [
    {
     "data": {
      "text/html": [
       "<table>\n",
       "<thead><tr><th scope=col>Material</th><th scope=col>Kilograms</th><th scope=col>rel_freq</th></tr></thead>\n",
       "<tbody>\n",
       "\t<tr><td>Plastics   </td><td>6.21       </td><td>0.230000000</td></tr>\n",
       "\t<tr><td>Lead       </td><td>1.71       </td><td>0.063333333</td></tr>\n",
       "\t<tr><td>Aluminium  </td><td>3.83       </td><td>0.141851852</td></tr>\n",
       "\t<tr><td>Iron       </td><td>5.54       </td><td>0.205185185</td></tr>\n",
       "\t<tr><td>Copper     </td><td>2.12       </td><td>0.078518519</td></tr>\n",
       "\t<tr><td>Tin        </td><td>0.27       </td><td>0.010000000</td></tr>\n",
       "\t<tr><td>Zinc       </td><td>0.60       </td><td>0.022222222</td></tr>\n",
       "\t<tr><td>Nickel     </td><td>0.23       </td><td>0.008518519</td></tr>\n",
       "\t<tr><td>Barium     </td><td>0.05       </td><td>0.001851852</td></tr>\n",
       "\t<tr><td>Others     </td><td>6.44       </td><td>0.238518519</td></tr>\n",
       "</tbody>\n",
       "</table>\n"
      ],
      "text/latex": [
       "\\begin{tabular}{r|lll}\n",
       " Material & Kilograms & rel\\_freq\\\\\n",
       "\\hline\n",
       "\t Plastics    & 6.21        & 0.230000000\\\\\n",
       "\t Lead        & 1.71        & 0.063333333\\\\\n",
       "\t Aluminium   & 3.83        & 0.141851852\\\\\n",
       "\t Iron        & 5.54        & 0.205185185\\\\\n",
       "\t Copper      & 2.12        & 0.078518519\\\\\n",
       "\t Tin         & 0.27        & 0.010000000\\\\\n",
       "\t Zinc        & 0.60        & 0.022222222\\\\\n",
       "\t Nickel      & 0.23        & 0.008518519\\\\\n",
       "\t Barium      & 0.05        & 0.001851852\\\\\n",
       "\t Others      & 6.44        & 0.238518519\\\\\n",
       "\\end{tabular}\n"
      ],
      "text/markdown": [
       "\n",
       "| Material | Kilograms | rel_freq |\n",
       "|---|---|---|\n",
       "| Plastics    | 6.21        | 0.230000000 |\n",
       "| Lead        | 1.71        | 0.063333333 |\n",
       "| Aluminium   | 3.83        | 0.141851852 |\n",
       "| Iron        | 5.54        | 0.205185185 |\n",
       "| Copper      | 2.12        | 0.078518519 |\n",
       "| Tin         | 0.27        | 0.010000000 |\n",
       "| Zinc        | 0.60        | 0.022222222 |\n",
       "| Nickel      | 0.23        | 0.008518519 |\n",
       "| Barium      | 0.05        | 0.001851852 |\n",
       "| Others      | 6.44        | 0.238518519 |\n",
       "\n"
      ],
      "text/plain": [
       "   Material  Kilograms rel_freq   \n",
       "1  Plastics  6.21      0.230000000\n",
       "2  Lead      1.71      0.063333333\n",
       "3  Aluminium 3.83      0.141851852\n",
       "4  Iron      5.54      0.205185185\n",
       "5  Copper    2.12      0.078518519\n",
       "6  Tin       0.27      0.010000000\n",
       "7  Zinc      0.60      0.022222222\n",
       "8  Nickel    0.23      0.008518519\n",
       "9  Barium    0.05      0.001851852\n",
       "10 Others    6.44      0.238518519"
      ]
     },
     "metadata": {},
     "output_type": "display_data"
    }
   ],
   "source": [
    "material_data"
   ]
  },
  {
   "cell_type": "code",
   "execution_count": 40,
   "metadata": {},
   "outputs": [
    {
     "data": {
      "image/png": "[encoded data removed]",
      "text/plain": [
       "plot without title"
      ]
     },
     "metadata": {},
     "output_type": "display_data"
    }
   ],
   "source": [
    "pie(material_data$rel_freq,labels=material_data$Material)"
   ]
  }
 ],
 "metadata": {
  "kernelspec": {
   "display_name": "R",
   "language": "R",
   "name": "ir"
  },
  "language_info": {
   "codemirror_mode": "r",
   "file_extension": ".r",
   "mimetype": "text/x-r-source",
   "name": "R",
   "pygments_lexer": "r",
   "version": "3.6.1"
  }
 },
 "nbformat": 4,
 "nbformat_minor": 2
}

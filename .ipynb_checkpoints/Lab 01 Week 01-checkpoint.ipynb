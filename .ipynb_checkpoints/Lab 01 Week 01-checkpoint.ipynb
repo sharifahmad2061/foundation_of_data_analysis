{
 "cells": [
  {
   "cell_type": "markdown",
   "metadata": {},
   "source": [
    "# import bike riders data"
   ]
  },
  {
   "cell_type": "code",
   "execution_count": 2,
   "metadata": {},
   "outputs": [],
   "source": [
    ".libPaths('C:\\\\Program Files\\\\R\\\\R-3.6.1\\\\library')\n",
    "library(SDSFoundations)\n",
    "data <- BikeData"
   ]
  },
  {
   "cell_type": "markdown",
   "metadata": {},
   "source": [
    "## How many of the cyclists rode daily?"
   ]
  },
  {
   "cell_type": "code",
   "execution_count": 4,
   "metadata": {},
   "outputs": [
    {
     "data": {
      "text/plain": [
       "\n",
       "                  Daily  Less than once a month Several times per month \n",
       "                     47                       2                      14 \n",
       " Several times per week \n",
       "                     58 "
      ]
     },
     "metadata": {},
     "output_type": "display_data"
    }
   ],
   "source": [
    "table(data$cyc_freq)"
   ]
  },
  {
   "cell_type": "markdown",
   "metadata": {},
   "source": [
    "## How many of these riders were male and how many female?"
   ]
  },
  {
   "cell_type": "code",
   "execution_count": 5,
   "metadata": {},
   "outputs": [
    {
     "data": {
      "text/plain": [
       "\n",
       " F  M \n",
       "31 90 "
      ]
     },
     "metadata": {},
     "output_type": "display_data"
    }
   ],
   "source": [
    "table(data$gender)"
   ]
  },
  {
   "cell_type": "code",
   "execution_count": 7,
   "metadata": {},
   "outputs": [
    {
     "data": {
      "text/plain": [
       "\n",
       " F  M \n",
       " 9 38 "
      ]
     },
     "metadata": {},
     "output_type": "display_data"
    }
   ],
   "source": [
    "table(data[data$cyc_freq=='Daily',]$gender)"
   ]
  },
  {
   "cell_type": "markdown",
   "metadata": {},
   "source": [
    "## What were their average ages?"
   ]
  },
  {
   "cell_type": "code",
   "execution_count": 10,
   "metadata": {},
   "outputs": [
    {
     "data": {
      "text/html": [
       "33.6595744680851"
      ],
      "text/latex": [
       "33.6595744680851"
      ],
      "text/markdown": [
       "33.6595744680851"
      ],
      "text/plain": [
       "[1] 33.65957"
      ]
     },
     "metadata": {},
     "output_type": "display_data"
    }
   ],
   "source": [
    "mean(data[data$cyc_freq==\"Daily\",]$age)"
   ]
  },
  {
   "cell_type": "markdown",
   "metadata": {},
   "source": [
    "## What is the average age of female and male riders"
   ]
  },
  {
   "cell_type": "code",
   "execution_count": 12,
   "metadata": {},
   "outputs": [
    {
     "data": {
      "text/html": [
       "<table>\n",
       "<thead><tr><th></th><th scope=col>user_id</th><th scope=col>age</th><th scope=col>gender</th><th scope=col>student</th><th scope=col>employed</th><th scope=col>cyc_freq</th><th scope=col>distance</th><th scope=col>time</th><th scope=col>speed</th></tr></thead>\n",
       "<tbody>\n",
       "\t<tr><th scope=row>18</th><td> 18  </td><td>32   </td><td>F    </td><td>1    </td><td>1    </td><td>Daily</td><td> 9.34</td><td>40   </td><td>14.01</td></tr>\n",
       "\t<tr><th scope=row>52</th><td> 52  </td><td>36   </td><td>F    </td><td>0    </td><td>1    </td><td>Daily</td><td> 0.63</td><td> 4   </td><td> 9.45</td></tr>\n",
       "\t<tr><th scope=row>53</th><td> 53  </td><td>27   </td><td>F    </td><td>0    </td><td>1    </td><td>Daily</td><td> 1.78</td><td> 9   </td><td>11.87</td></tr>\n",
       "\t<tr><th scope=row>58</th><td> 58  </td><td>26   </td><td>F    </td><td>1    </td><td>1    </td><td>Daily</td><td> 2.77</td><td>16   </td><td>10.39</td></tr>\n",
       "\t<tr><th scope=row>62</th><td> 62  </td><td>32   </td><td>F    </td><td>0    </td><td>1    </td><td>Daily</td><td>11.01</td><td>38   </td><td>17.38</td></tr>\n",
       "\t<tr><th scope=row>81</th><td> 81  </td><td>29   </td><td>F    </td><td>0    </td><td>1    </td><td>Daily</td><td> 8.17</td><td>28   </td><td>17.51</td></tr>\n",
       "\t<tr><th scope=row>103</th><td>103  </td><td>25   </td><td>F    </td><td>1    </td><td>0    </td><td>Daily</td><td>13.43</td><td>37   </td><td>21.78</td></tr>\n",
       "\t<tr><th scope=row>105</th><td>105  </td><td>42   </td><td>F    </td><td>0    </td><td>1    </td><td>Daily</td><td> 1.01</td><td> 6   </td><td>10.10</td></tr>\n",
       "\t<tr><th scope=row>119</th><td>119  </td><td>44   </td><td>F    </td><td>0    </td><td>1    </td><td>Daily</td><td> 7.84</td><td>48   </td><td> 9.80</td></tr>\n",
       "</tbody>\n",
       "</table>\n"
      ],
      "text/latex": [
       "\\begin{tabular}{r|lllllllll}\n",
       "  & user\\_id & age & gender & student & employed & cyc\\_freq & distance & time & speed\\\\\n",
       "\\hline\n",
       "\t18 &  18   & 32    & F     & 1     & 1     & Daily &  9.34 & 40    & 14.01\\\\\n",
       "\t52 &  52   & 36    & F     & 0     & 1     & Daily &  0.63 &  4    &  9.45\\\\\n",
       "\t53 &  53   & 27    & F     & 0     & 1     & Daily &  1.78 &  9    & 11.87\\\\\n",
       "\t58 &  58   & 26    & F     & 1     & 1     & Daily &  2.77 & 16    & 10.39\\\\\n",
       "\t62 &  62   & 32    & F     & 0     & 1     & Daily & 11.01 & 38    & 17.38\\\\\n",
       "\t81 &  81   & 29    & F     & 0     & 1     & Daily &  8.17 & 28    & 17.51\\\\\n",
       "\t103 & 103   & 25    & F     & 1     & 0     & Daily & 13.43 & 37    & 21.78\\\\\n",
       "\t105 & 105   & 42    & F     & 0     & 1     & Daily &  1.01 &  6    & 10.10\\\\\n",
       "\t119 & 119   & 44    & F     & 0     & 1     & Daily &  7.84 & 48    &  9.80\\\\\n",
       "\\end{tabular}\n"
      ],
      "text/markdown": [
       "\n",
       "| <!--/--> | user_id | age | gender | student | employed | cyc_freq | distance | time | speed |\n",
       "|---|---|---|---|---|---|---|---|---|---|\n",
       "| 18 |  18   | 32    | F     | 1     | 1     | Daily |  9.34 | 40    | 14.01 |\n",
       "| 52 |  52   | 36    | F     | 0     | 1     | Daily |  0.63 |  4    |  9.45 |\n",
       "| 53 |  53   | 27    | F     | 0     | 1     | Daily |  1.78 |  9    | 11.87 |\n",
       "| 58 |  58   | 26    | F     | 1     | 1     | Daily |  2.77 | 16    | 10.39 |\n",
       "| 62 |  62   | 32    | F     | 0     | 1     | Daily | 11.01 | 38    | 17.38 |\n",
       "| 81 |  81   | 29    | F     | 0     | 1     | Daily |  8.17 | 28    | 17.51 |\n",
       "| 103 | 103   | 25    | F     | 1     | 0     | Daily | 13.43 | 37    | 21.78 |\n",
       "| 105 | 105   | 42    | F     | 0     | 1     | Daily |  1.01 |  6    | 10.10 |\n",
       "| 119 | 119   | 44    | F     | 0     | 1     | Daily |  7.84 | 48    |  9.80 |\n",
       "\n"
      ],
      "text/plain": [
       "    user_id age gender student employed cyc_freq distance time speed\n",
       "18   18     32  F      1       1        Daily     9.34    40   14.01\n",
       "52   52     36  F      0       1        Daily     0.63     4    9.45\n",
       "53   53     27  F      0       1        Daily     1.78     9   11.87\n",
       "58   58     26  F      1       1        Daily     2.77    16   10.39\n",
       "62   62     32  F      0       1        Daily    11.01    38   17.38\n",
       "81   81     29  F      0       1        Daily     8.17    28   17.51\n",
       "103 103     25  F      1       0        Daily    13.43    37   21.78\n",
       "105 105     42  F      0       1        Daily     1.01     6   10.10\n",
       "119 119     44  F      0       1        Daily     7.84    48    9.80"
      ]
     },
     "metadata": {},
     "output_type": "display_data"
    }
   ],
   "source": [
    "data[(data$cyc_freq==\"Daily\")&(data$gender==\"F\"),]"
   ]
  },
  {
   "cell_type": "code",
   "execution_count": 13,
   "metadata": {},
   "outputs": [
    {
     "data": {
      "text/html": [
       "32.5555555555556"
      ],
      "text/latex": [
       "32.5555555555556"
      ],
      "text/markdown": [
       "32.5555555555556"
      ],
      "text/plain": [
       "[1] 32.55556"
      ]
     },
     "metadata": {},
     "output_type": "display_data"
    }
   ],
   "source": [
    "mean(data[(data$cyc_freq==\"Daily\")&(data$gender==\"F\"),]$age)"
   ]
  },
  {
   "cell_type": "code",
   "execution_count": 14,
   "metadata": {},
   "outputs": [
    {
     "data": {
      "text/html": [
       "33.9210526315789"
      ],
      "text/latex": [
       "33.9210526315789"
      ],
      "text/markdown": [
       "33.9210526315789"
      ],
      "text/plain": [
       "[1] 33.92105"
      ]
     },
     "metadata": {},
     "output_type": "display_data"
    }
   ],
   "source": [
    "mean(data[(data$cyc_freq==\"Daily\")&(data$gender==\"M\"),]$age)"
   ]
  },
  {
   "cell_type": "markdown",
   "metadata": {},
   "source": [
    "## How many daily male riders are age 30 or older?"
   ]
  },
  {
   "cell_type": "code",
   "execution_count": 15,
   "metadata": {},
   "outputs": [
    {
     "data": {
      "text/html": [
       "<table>\n",
       "<thead><tr><th></th><th scope=col>user_id</th><th scope=col>age</th><th scope=col>gender</th><th scope=col>student</th><th scope=col>employed</th><th scope=col>cyc_freq</th><th scope=col>distance</th><th scope=col>time</th><th scope=col>speed</th></tr></thead>\n",
       "<tbody>\n",
       "\t<tr><th scope=row>2</th><td>  2  </td><td>35   </td><td>M    </td><td>0    </td><td>1    </td><td>Daily</td><td> 1.11</td><td> 5   </td><td>13.32</td></tr>\n",
       "\t<tr><th scope=row>17</th><td> 17  </td><td>33   </td><td>M    </td><td>0    </td><td>1    </td><td>Daily</td><td>10.02</td><td>45   </td><td>13.36</td></tr>\n",
       "\t<tr><th scope=row>19</th><td> 19  </td><td>43   </td><td>M    </td><td>0    </td><td>1    </td><td>Daily</td><td> 7.02</td><td>28   </td><td>15.04</td></tr>\n",
       "\t<tr><th scope=row>26</th><td> 26  </td><td>35   </td><td>M    </td><td>0    </td><td>1    </td><td>Daily</td><td> 6.04</td><td>31   </td><td>11.69</td></tr>\n",
       "\t<tr><th scope=row>32</th><td> 32  </td><td>39   </td><td>M    </td><td>0    </td><td>1    </td><td>Daily</td><td> 3.76</td><td>21   </td><td>10.74</td></tr>\n",
       "\t<tr><th scope=row>39</th><td> 39  </td><td>41   </td><td>M    </td><td>0    </td><td>1    </td><td>Daily</td><td> 6.33</td><td>25   </td><td>15.19</td></tr>\n",
       "\t<tr><th scope=row>44</th><td> 44  </td><td>46   </td><td>M    </td><td>0    </td><td>1    </td><td>Daily</td><td> 6.16</td><td>22   </td><td>16.80</td></tr>\n",
       "\t<tr><th scope=row>48</th><td> 48  </td><td>36   </td><td>M    </td><td>0    </td><td>1    </td><td>Daily</td><td> 2.15</td><td>19   </td><td> 6.79</td></tr>\n",
       "\t<tr><th scope=row>55</th><td> 55  </td><td>51   </td><td>M    </td><td>0    </td><td>1    </td><td>Daily</td><td> 3.74</td><td>14   </td><td>16.03</td></tr>\n",
       "\t<tr><th scope=row>60</th><td> 60  </td><td>36   </td><td>M    </td><td>0    </td><td>1    </td><td>Daily</td><td> 2.70</td><td>12   </td><td>13.50</td></tr>\n",
       "\t<tr><th scope=row>65</th><td> 65  </td><td>32   </td><td>M    </td><td>0    </td><td>0    </td><td>Daily</td><td> 2.52</td><td> 8   </td><td>18.90</td></tr>\n",
       "\t<tr><th scope=row>70</th><td> 70  </td><td>34   </td><td>M    </td><td>0    </td><td>0    </td><td>Daily</td><td>12.21</td><td>55   </td><td>13.32</td></tr>\n",
       "\t<tr><th scope=row>90</th><td> 90  </td><td>34   </td><td>M    </td><td>0    </td><td>1    </td><td>Daily</td><td> 3.90</td><td>16   </td><td>14.63</td></tr>\n",
       "\t<tr><th scope=row>91</th><td> 91  </td><td>36   </td><td>M    </td><td>0    </td><td>1    </td><td>Daily</td><td> 3.00</td><td>13   </td><td>13.85</td></tr>\n",
       "\t<tr><th scope=row>92</th><td> 92  </td><td>38   </td><td>M    </td><td>0    </td><td>1    </td><td>Daily</td><td> 1.31</td><td> 5   </td><td>15.72</td></tr>\n",
       "\t<tr><th scope=row>96</th><td> 96  </td><td>33   </td><td>M    </td><td>0    </td><td>1    </td><td>Daily</td><td> 7.92</td><td>49   </td><td> 9.70</td></tr>\n",
       "\t<tr><th scope=row>98</th><td> 98  </td><td>37   </td><td>M    </td><td>0    </td><td>1    </td><td>Daily</td><td> 3.13</td><td>12   </td><td>15.65</td></tr>\n",
       "\t<tr><th scope=row>99</th><td> 99  </td><td>43   </td><td>M    </td><td>0    </td><td>1    </td><td>Daily</td><td> 9.72</td><td>45   </td><td>12.96</td></tr>\n",
       "\t<tr><th scope=row>100</th><td>100  </td><td>30   </td><td>M    </td><td>0    </td><td>1    </td><td>Daily</td><td> 3.85</td><td>15   </td><td>15.40</td></tr>\n",
       "\t<tr><th scope=row>107</th><td>107  </td><td>37   </td><td>M    </td><td>0    </td><td>1    </td><td>Daily</td><td>13.47</td><td>41   </td><td>19.71</td></tr>\n",
       "\t<tr><th scope=row>108</th><td>108  </td><td>32   </td><td>M    </td><td>0    </td><td>1    </td><td>Daily</td><td> 6.10</td><td>35   </td><td>10.46</td></tr>\n",
       "\t<tr><th scope=row>110</th><td>110  </td><td>54   </td><td>M    </td><td>0    </td><td>1    </td><td>Daily</td><td> 2.78</td><td>27   </td><td> 6.18</td></tr>\n",
       "\t<tr><th scope=row>111</th><td>111  </td><td>30   </td><td>M    </td><td>1    </td><td>0    </td><td>Daily</td><td> 7.19</td><td>26   </td><td>16.59</td></tr>\n",
       "\t<tr><th scope=row>112</th><td>112  </td><td>34   </td><td>M    </td><td>0    </td><td>1    </td><td>Daily</td><td> 9.12</td><td>36   </td><td>15.20</td></tr>\n",
       "\t<tr><th scope=row>117</th><td>117  </td><td>46   </td><td>M    </td><td>0    </td><td>1    </td><td>Daily</td><td> 8.14</td><td>40   </td><td>12.21</td></tr>\n",
       "</tbody>\n",
       "</table>\n"
      ],
      "text/latex": [
       "\\begin{tabular}{r|lllllllll}\n",
       "  & user\\_id & age & gender & student & employed & cyc\\_freq & distance & time & speed\\\\\n",
       "\\hline\n",
       "\t2 &   2   & 35    & M     & 0     & 1     & Daily &  1.11 &  5    & 13.32\\\\\n",
       "\t17 &  17   & 33    & M     & 0     & 1     & Daily & 10.02 & 45    & 13.36\\\\\n",
       "\t19 &  19   & 43    & M     & 0     & 1     & Daily &  7.02 & 28    & 15.04\\\\\n",
       "\t26 &  26   & 35    & M     & 0     & 1     & Daily &  6.04 & 31    & 11.69\\\\\n",
       "\t32 &  32   & 39    & M     & 0     & 1     & Daily &  3.76 & 21    & 10.74\\\\\n",
       "\t39 &  39   & 41    & M     & 0     & 1     & Daily &  6.33 & 25    & 15.19\\\\\n",
       "\t44 &  44   & 46    & M     & 0     & 1     & Daily &  6.16 & 22    & 16.80\\\\\n",
       "\t48 &  48   & 36    & M     & 0     & 1     & Daily &  2.15 & 19    &  6.79\\\\\n",
       "\t55 &  55   & 51    & M     & 0     & 1     & Daily &  3.74 & 14    & 16.03\\\\\n",
       "\t60 &  60   & 36    & M     & 0     & 1     & Daily &  2.70 & 12    & 13.50\\\\\n",
       "\t65 &  65   & 32    & M     & 0     & 0     & Daily &  2.52 &  8    & 18.90\\\\\n",
       "\t70 &  70   & 34    & M     & 0     & 0     & Daily & 12.21 & 55    & 13.32\\\\\n",
       "\t90 &  90   & 34    & M     & 0     & 1     & Daily &  3.90 & 16    & 14.63\\\\\n",
       "\t91 &  91   & 36    & M     & 0     & 1     & Daily &  3.00 & 13    & 13.85\\\\\n",
       "\t92 &  92   & 38    & M     & 0     & 1     & Daily &  1.31 &  5    & 15.72\\\\\n",
       "\t96 &  96   & 33    & M     & 0     & 1     & Daily &  7.92 & 49    &  9.70\\\\\n",
       "\t98 &  98   & 37    & M     & 0     & 1     & Daily &  3.13 & 12    & 15.65\\\\\n",
       "\t99 &  99   & 43    & M     & 0     & 1     & Daily &  9.72 & 45    & 12.96\\\\\n",
       "\t100 & 100   & 30    & M     & 0     & 1     & Daily &  3.85 & 15    & 15.40\\\\\n",
       "\t107 & 107   & 37    & M     & 0     & 1     & Daily & 13.47 & 41    & 19.71\\\\\n",
       "\t108 & 108   & 32    & M     & 0     & 1     & Daily &  6.10 & 35    & 10.46\\\\\n",
       "\t110 & 110   & 54    & M     & 0     & 1     & Daily &  2.78 & 27    &  6.18\\\\\n",
       "\t111 & 111   & 30    & M     & 1     & 0     & Daily &  7.19 & 26    & 16.59\\\\\n",
       "\t112 & 112   & 34    & M     & 0     & 1     & Daily &  9.12 & 36    & 15.20\\\\\n",
       "\t117 & 117   & 46    & M     & 0     & 1     & Daily &  8.14 & 40    & 12.21\\\\\n",
       "\\end{tabular}\n"
      ],
      "text/markdown": [
       "\n",
       "| <!--/--> | user_id | age | gender | student | employed | cyc_freq | distance | time | speed |\n",
       "|---|---|---|---|---|---|---|---|---|---|\n",
       "| 2 |   2   | 35    | M     | 0     | 1     | Daily |  1.11 |  5    | 13.32 |\n",
       "| 17 |  17   | 33    | M     | 0     | 1     | Daily | 10.02 | 45    | 13.36 |\n",
       "| 19 |  19   | 43    | M     | 0     | 1     | Daily |  7.02 | 28    | 15.04 |\n",
       "| 26 |  26   | 35    | M     | 0     | 1     | Daily |  6.04 | 31    | 11.69 |\n",
       "| 32 |  32   | 39    | M     | 0     | 1     | Daily |  3.76 | 21    | 10.74 |\n",
       "| 39 |  39   | 41    | M     | 0     | 1     | Daily |  6.33 | 25    | 15.19 |\n",
       "| 44 |  44   | 46    | M     | 0     | 1     | Daily |  6.16 | 22    | 16.80 |\n",
       "| 48 |  48   | 36    | M     | 0     | 1     | Daily |  2.15 | 19    |  6.79 |\n",
       "| 55 |  55   | 51    | M     | 0     | 1     | Daily |  3.74 | 14    | 16.03 |\n",
       "| 60 |  60   | 36    | M     | 0     | 1     | Daily |  2.70 | 12    | 13.50 |\n",
       "| 65 |  65   | 32    | M     | 0     | 0     | Daily |  2.52 |  8    | 18.90 |\n",
       "| 70 |  70   | 34    | M     | 0     | 0     | Daily | 12.21 | 55    | 13.32 |\n",
       "| 90 |  90   | 34    | M     | 0     | 1     | Daily |  3.90 | 16    | 14.63 |\n",
       "| 91 |  91   | 36    | M     | 0     | 1     | Daily |  3.00 | 13    | 13.85 |\n",
       "| 92 |  92   | 38    | M     | 0     | 1     | Daily |  1.31 |  5    | 15.72 |\n",
       "| 96 |  96   | 33    | M     | 0     | 1     | Daily |  7.92 | 49    |  9.70 |\n",
       "| 98 |  98   | 37    | M     | 0     | 1     | Daily |  3.13 | 12    | 15.65 |\n",
       "| 99 |  99   | 43    | M     | 0     | 1     | Daily |  9.72 | 45    | 12.96 |\n",
       "| 100 | 100   | 30    | M     | 0     | 1     | Daily |  3.85 | 15    | 15.40 |\n",
       "| 107 | 107   | 37    | M     | 0     | 1     | Daily | 13.47 | 41    | 19.71 |\n",
       "| 108 | 108   | 32    | M     | 0     | 1     | Daily |  6.10 | 35    | 10.46 |\n",
       "| 110 | 110   | 54    | M     | 0     | 1     | Daily |  2.78 | 27    |  6.18 |\n",
       "| 111 | 111   | 30    | M     | 1     | 0     | Daily |  7.19 | 26    | 16.59 |\n",
       "| 112 | 112   | 34    | M     | 0     | 1     | Daily |  9.12 | 36    | 15.20 |\n",
       "| 117 | 117   | 46    | M     | 0     | 1     | Daily |  8.14 | 40    | 12.21 |\n",
       "\n"
      ],
      "text/plain": [
       "    user_id age gender student employed cyc_freq distance time speed\n",
       "2     2     35  M      0       1        Daily     1.11     5   13.32\n",
       "17   17     33  M      0       1        Daily    10.02    45   13.36\n",
       "19   19     43  M      0       1        Daily     7.02    28   15.04\n",
       "26   26     35  M      0       1        Daily     6.04    31   11.69\n",
       "32   32     39  M      0       1        Daily     3.76    21   10.74\n",
       "39   39     41  M      0       1        Daily     6.33    25   15.19\n",
       "44   44     46  M      0       1        Daily     6.16    22   16.80\n",
       "48   48     36  M      0       1        Daily     2.15    19    6.79\n",
       "55   55     51  M      0       1        Daily     3.74    14   16.03\n",
       "60   60     36  M      0       1        Daily     2.70    12   13.50\n",
       "65   65     32  M      0       0        Daily     2.52     8   18.90\n",
       "70   70     34  M      0       0        Daily    12.21    55   13.32\n",
       "90   90     34  M      0       1        Daily     3.90    16   14.63\n",
       "91   91     36  M      0       1        Daily     3.00    13   13.85\n",
       "92   92     38  M      0       1        Daily     1.31     5   15.72\n",
       "96   96     33  M      0       1        Daily     7.92    49    9.70\n",
       "98   98     37  M      0       1        Daily     3.13    12   15.65\n",
       "99   99     43  M      0       1        Daily     9.72    45   12.96\n",
       "100 100     30  M      0       1        Daily     3.85    15   15.40\n",
       "107 107     37  M      0       1        Daily    13.47    41   19.71\n",
       "108 108     32  M      0       1        Daily     6.10    35   10.46\n",
       "110 110     54  M      0       1        Daily     2.78    27    6.18\n",
       "111 111     30  M      1       0        Daily     7.19    26   16.59\n",
       "112 112     34  M      0       1        Daily     9.12    36   15.20\n",
       "117 117     46  M      0       1        Daily     8.14    40   12.21"
      ]
     },
     "metadata": {},
     "output_type": "display_data"
    }
   ],
   "source": [
    "data[(data$cyc_freq==\"Daily\")&(data$gender==\"M\")&(data$age>=30),]"
   ]
  },
  {
   "cell_type": "code",
   "execution_count": 16,
   "metadata": {},
   "outputs": [
    {
     "data": {
      "text/html": [
       "25"
      ],
      "text/latex": [
       "25"
      ],
      "text/markdown": [
       "25"
      ],
      "text/plain": [
       "[1] 25"
      ]
     },
     "metadata": {},
     "output_type": "display_data"
    }
   ],
   "source": [
    "length(data[(data$cyc_freq==\"Daily\")&(data$gender==\"M\")&(data$age>=30),]$user_id)"
   ]
  },
  {
   "cell_type": "code",
   "execution_count": null,
   "metadata": {},
   "outputs": [],
   "source": []
  }
 ],
 "metadata": {
  "kernelspec": {
   "display_name": "R",
   "language": "R",
   "name": "ir"
  },
  "language_info": {
   "codemirror_mode": "r",
   "file_extension": ".r",
   "mimetype": "text/x-r-source",
   "name": "R",
   "pygments_lexer": "r",
   "version": "3.6.1"
  }
 },
 "nbformat": 4,
 "nbformat_minor": 2
}

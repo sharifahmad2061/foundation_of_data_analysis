{
 "cells": [
  {
   "cell_type": "markdown",
   "metadata": {},
   "source": [
    "## Load library and data"
   ]
  },
  {
   "cell_type": "code",
   "execution_count": 1,
   "metadata": {},
   "outputs": [],
   "source": [
    "library(SDSFoundations,lib.loc = 'C:\\\\Program Files\\\\R\\\\R-3.6.1\\\\library')\n",
    "wr <- WorldRecords"
   ]
  },
  {
   "cell_type": "markdown",
   "metadata": {},
   "source": [
    "# Reflect on the question"
   ]
  },
  {
   "cell_type": "markdown",
   "metadata": {},
   "source": [
    "How many different types of events (e.g. \"Mens 100m,\" \"Womens shotput,\" etc.) are represented in the dataset?"
   ]
  },
  {
   "cell_type": "code",
   "execution_count": 4,
   "metadata": {},
   "outputs": [
    {
     "name": "stdout",
     "output_type": "stream",
     "text": [
      "'data.frame':\t285 obs. of  7 variables:\n",
      " $ Event      : Factor w/ 10 levels \"Mens 100m\",\"Mens 800m\",..: 1 1 1 1 1 1 1 1 1 1 ...\n",
      " $ Type       : Factor w/ 2 levels \"distance\",\"time\": 2 2 2 2 2 2 2 2 2 2 ...\n",
      " $ Record     : num  10.06 10.03 10.02 9.95 9.93 ...\n",
      " $ Athlete    : Factor w/ 156 levels \" Adhemar da Silva \",..: 87 112 92 112 90 91 121 91 121 98 ...\n",
      " $ Nationality: Factor w/ 44 levels \" Algeria\",\" Australia\",..: 41 41 41 41 41 41 41 41 41 25 ...\n",
      " $ Location   : Factor w/ 147 levels \"Albuquerque, U.S.\",..: 135 115 77 77 30 121 87 135 62 5 ...\n",
      " $ Year       : int  1964 1968 1968 1968 1983 1988 1991 1991 1994 1996 ...\n"
     ]
    }
   ],
   "source": [
    "str(wr)"
   ]
  },
  {
   "cell_type": "markdown",
   "metadata": {},
   "source": [
    "In what year did Usain Bolt first break the world record for the men's 100m dash?"
   ]
  },
  {
   "cell_type": "code",
   "execution_count": 9,
   "metadata": {},
   "outputs": [
    {
     "data": {
      "text/html": [
       "<table>\n",
       "<thead><tr><th></th><th scope=col>Event</th><th scope=col>Type</th><th scope=col>Record</th><th scope=col>Athlete</th><th scope=col>Nationality</th><th scope=col>Location</th><th scope=col>Year</th></tr></thead>\n",
       "<tbody>\n",
       "\t<tr><th scope=row>15</th><td>Mens 100m      </td><td>time           </td><td>9.72           </td><td>Usain Bolt     </td><td>Jamaica        </td><td>New York, USA  </td><td>2008           </td></tr>\n",
       "\t<tr><th scope=row>16</th><td>Mens 100m      </td><td>time           </td><td>9.69           </td><td>Usain Bolt     </td><td>Jamaica        </td><td>Beijing, China </td><td>2008           </td></tr>\n",
       "\t<tr><th scope=row>17</th><td>Mens 100m      </td><td>time           </td><td>9.58           </td><td>Usain Bolt     </td><td>Jamaica        </td><td>Berlin, Germany</td><td>2009           </td></tr>\n",
       "</tbody>\n",
       "</table>\n"
      ],
      "text/latex": [
       "\\begin{tabular}{r|lllllll}\n",
       "  & Event & Type & Record & Athlete & Nationality & Location & Year\\\\\n",
       "\\hline\n",
       "\t15 & Mens 100m       & time            & 9.72            & Usain Bolt      & Jamaica         & New York, USA   & 2008           \\\\\n",
       "\t16 & Mens 100m       & time            & 9.69            & Usain Bolt      & Jamaica         & Beijing, China  & 2008           \\\\\n",
       "\t17 & Mens 100m       & time            & 9.58            & Usain Bolt      & Jamaica         & Berlin, Germany & 2009           \\\\\n",
       "\\end{tabular}\n"
      ],
      "text/markdown": [
       "\n",
       "| <!--/--> | Event | Type | Record | Athlete | Nationality | Location | Year |\n",
       "|---|---|---|---|---|---|---|---|\n",
       "| 15 | Mens 100m       | time            | 9.72            | Usain Bolt      | Jamaica         | New York, USA   | 2008            |\n",
       "| 16 | Mens 100m       | time            | 9.69            | Usain Bolt      | Jamaica         | Beijing, China  | 2008            |\n",
       "| 17 | Mens 100m       | time            | 9.58            | Usain Bolt      | Jamaica         | Berlin, Germany | 2009            |\n",
       "\n"
      ],
      "text/plain": [
       "   Event     Type Record Athlete    Nationality Location        Year\n",
       "15 Mens 100m time 9.72   Usain Bolt Jamaica     New York, USA   2008\n",
       "16 Mens 100m time 9.69   Usain Bolt Jamaica     Beijing, China  2008\n",
       "17 Mens 100m time 9.58   Usain Bolt Jamaica     Berlin, Germany 2009"
      ]
     },
     "metadata": {},
     "output_type": "display_data"
    }
   ],
   "source": [
    "wr[wr$Athlete == 'Usain Bolt',]"
   ]
  },
  {
   "cell_type": "markdown",
   "metadata": {},
   "source": [
    "Who was the first woman to break the women’s 1 mile world record with a time of less than 260 seconds?"
   ]
  },
  {
   "cell_type": "code",
   "execution_count": 10,
   "metadata": {},
   "outputs": [
    {
     "data": {
      "text/plain": [
       "\n",
       "      Mens 100m       Mens 800m       Mens Mile  Mens Polevault    Mens Shotput \n",
       "             17              24              32              55              39 \n",
       "Mens TripleJump     Womens 100m     Womens 800m     Womens Mile  Womens Shotput \n",
       "             25              10              29              13              41 "
      ]
     },
     "metadata": {},
     "output_type": "display_data"
    }
   ],
   "source": [
    "table(wr$Event)"
   ]
  },
  {
   "cell_type": "code",
   "execution_count": 13,
   "metadata": {},
   "outputs": [
    {
     "data": {
      "text/html": [
       "<table>\n",
       "<thead><tr><th></th><th scope=col>Event</th><th scope=col>Type</th><th scope=col>Record</th><th scope=col>Athlete</th><th scope=col>Nationality</th><th scope=col>Location</th><th scope=col>Year</th></tr></thead>\n",
       "<tbody>\n",
       "\t<tr><th scope=row>146</th><td>Womens Mile        </td><td>time               </td><td>258.1              </td><td>Mary Slaney        </td><td> United States     </td><td>Paris              </td><td>1982               </td></tr>\n",
       "\t<tr><th scope=row>147</th><td>Womens Mile        </td><td>time               </td><td>257.4              </td><td>Maricica Puic?     </td><td> Romania           </td><td>Rieti              </td><td>1982               </td></tr>\n",
       "\t<tr><th scope=row>148</th><td>Womens Mile        </td><td>time               </td><td>256.7              </td><td>Mary Slaney        </td><td> United States     </td><td>Zürich             </td><td>1985               </td></tr>\n",
       "\t<tr><th scope=row>149</th><td>Womens Mile        </td><td>time               </td><td>255.6              </td><td>Paula Ivan         </td><td> Romania           </td><td>Nice               </td><td>1989               </td></tr>\n",
       "\t<tr><th scope=row>150</th><td>Womens Mile        </td><td>time               </td><td>252.6              </td><td>Svetlana Masterkova</td><td> Russia            </td><td>Zürich             </td><td>1996               </td></tr>\n",
       "</tbody>\n",
       "</table>\n"
      ],
      "text/latex": [
       "\\begin{tabular}{r|lllllll}\n",
       "  & Event & Type & Record & Athlete & Nationality & Location & Year\\\\\n",
       "\\hline\n",
       "\t146 & Womens Mile         & time                & 258.1               & Mary Slaney         &  United States      & Paris               & 1982               \\\\\n",
       "\t147 & Womens Mile         & time                & 257.4               & Maricica Puic?      &  Romania            & Rieti               & 1982               \\\\\n",
       "\t148 & Womens Mile         & time                & 256.7               & Mary Slaney         &  United States      & Zürich              & 1985               \\\\\n",
       "\t149 & Womens Mile         & time                & 255.6               & Paula Ivan          &  Romania            & Nice                & 1989               \\\\\n",
       "\t150 & Womens Mile         & time                & 252.6               & Svetlana Masterkova &  Russia             & Zürich              & 1996               \\\\\n",
       "\\end{tabular}\n"
      ],
      "text/markdown": [
       "\n",
       "| <!--/--> | Event | Type | Record | Athlete | Nationality | Location | Year |\n",
       "|---|---|---|---|---|---|---|---|\n",
       "| 146 | Womens Mile         | time                | 258.1               | Mary Slaney         |  United States      | Paris               | 1982                |\n",
       "| 147 | Womens Mile         | time                | 257.4               | Maricica Puic?      |  Romania            | Rieti               | 1982                |\n",
       "| 148 | Womens Mile         | time                | 256.7               | Mary Slaney         |  United States      | Zürich              | 1985                |\n",
       "| 149 | Womens Mile         | time                | 255.6               | Paula Ivan          |  Romania            | Nice                | 1989                |\n",
       "| 150 | Womens Mile         | time                | 252.6               | Svetlana Masterkova |  Russia             | Zürich              | 1996                |\n",
       "\n"
      ],
      "text/plain": [
       "    Event       Type Record Athlete             Nationality    Location Year\n",
       "146 Womens Mile time 258.1  Mary Slaney          United States Paris    1982\n",
       "147 Womens Mile time 257.4  Maricica Puic?       Romania       Rieti    1982\n",
       "148 Womens Mile time 256.7  Mary Slaney          United States Zürich   1985\n",
       "149 Womens Mile time 255.6  Paula Ivan           Romania       Nice     1989\n",
       "150 Womens Mile time 252.6  Svetlana Masterkova  Russia        Zürich   1996"
      ]
     },
     "metadata": {},
     "output_type": "display_data"
    }
   ],
   "source": [
    "wr[(wr$Event == 'Womens Mile')&(wr$Record <= 260),]"
   ]
  },
  {
   "cell_type": "code",
   "execution_count": 12,
   "metadata": {},
   "outputs": [
    {
     "data": {
      "text/html": [
       "4.78"
      ],
      "text/latex": [
       "4.78"
      ],
      "text/markdown": [
       "4.78"
      ],
      "text/plain": [
       "[1] 4.78"
      ]
     },
     "metadata": {},
     "output_type": "display_data"
    }
   ],
   "source": [
    "min(wr$Record)"
   ]
  },
  {
   "cell_type": "markdown",
   "metadata": {},
   "source": [
    "# Analyze the data"
   ]
  },
  {
   "cell_type": "markdown",
   "metadata": {},
   "source": [
    "### Primary Research Question\n",
    "How has the men’s shotput world record changed over time?  What about the women’s world record?"
   ]
  },
  {
   "cell_type": "code",
   "execution_count": 15,
   "metadata": {},
   "outputs": [],
   "source": [
    "ms = wr[wr$Event == 'Mens Shotput',]\n",
    "ws = wr[wr$Event == 'Womens Shotput',]"
   ]
  },
  {
   "cell_type": "code",
   "execution_count": 22,
   "metadata": {},
   "outputs": [
    {
     "data": {
      "image/png": "[encoded data removed]",
      "text/plain": [
       "Plot with title \"Mens Shotput\""
      ]
     },
     "metadata": {},
     "output_type": "display_data"
    }
   ],
   "source": [
    "plot(ms$Year,ms$Record,xlab='year',ylab='record distance',main='Mens Shotput')"
   ]
  },
  {
   "cell_type": "code",
   "execution_count": 23,
   "metadata": {},
   "outputs": [
    {
     "data": {
      "image/png": "[encoded data removed]",
      "text/plain": [
       "Plot with title \"Womens Shotput\""
      ]
     },
     "metadata": {},
     "output_type": "display_data"
    }
   ],
   "source": [
    "plot(ws$Year,ws$Record,xlab='year',ylab='record distance',main='Womens Shotput')"
   ]
  },
  {
   "cell_type": "code",
   "execution_count": 25,
   "metadata": {},
   "outputs": [],
   "source": [
    "ms$time = ms$Year - min(ms$Year)"
   ]
  },
  {
   "cell_type": "code",
   "execution_count": 26,
   "metadata": {},
   "outputs": [
    {
     "name": "stdout",
     "output_type": "stream",
     "text": [
      "Linear Fit \n",
      " Intercept =  17.9013 \n",
      " Slope =  0.13411 \n",
      " R-squared =  0.9411"
     ]
    },
    {
     "data": {
      "image/png": "[encoded data removed]",
      "text/plain": [
       "Plot with title \"Linear\""
      ]
     },
     "metadata": {},
     "output_type": "display_data"
    }
   ],
   "source": [
    "linFit(ms$time,ms$Record)"
   ]
  },
  {
   "cell_type": "code",
   "execution_count": 27,
   "metadata": {},
   "outputs": [
    {
     "name": "stdout",
     "output_type": "stream",
     "text": [
      "Linear Fit \n",
      " Intercept =  14.83704 \n",
      " Slope =  0.23366 \n",
      " R-squared =  0.96227"
     ]
    },
    {
     "data": {
      "image/png": "[encoded data removed]",
      "text/plain": [
       "Plot with title \"Linear\""
      ]
     },
     "metadata": {},
     "output_type": "display_data"
    }
   ],
   "source": [
    "ws$Time = ws$Year - min(ws$Year)\n",
    "linFit(ws$Time,ws$Record)"
   ]
  },
  {
   "cell_type": "markdown",
   "metadata": {},
   "source": [
    "How many records are in the menshot dataframe?"
   ]
  },
  {
   "cell_type": "code",
   "execution_count": 28,
   "metadata": {},
   "outputs": [
    {
     "name": "stdout",
     "output_type": "stream",
     "text": [
      "'data.frame':\t39 obs. of  8 variables:\n",
      " $ Event      : Factor w/ 10 levels \"Mens 100m\",\"Mens 800m\",..: 5 5 5 5 5 5 5 5 5 5 ...\n",
      " $ Type       : Factor w/ 2 levels \"distance\",\"time\": 1 1 1 1 1 1 1 1 1 1 ...\n",
      " $ Record     : num  17.7 17.8 17.8 17.9 17.9 ...\n",
      " $ Athlete    : Factor w/ 156 levels \" Adhemar da Silva \",..: 12 32 32 32 32 56 56 56 56 56 ...\n",
      " $ Nationality: Factor w/ 44 levels \" Algeria\",\" Australia\",..: 43 43 43 43 43 43 43 43 43 43 ...\n",
      " $ Location   : Factor w/ 147 levels \"Albuquerque, U.S.\",..: 63 94 71 141 37 44 32 71 71 71 ...\n",
      " $ Year       : int  1948 1949 1950 1950 1950 1953 1953 1954 1954 1954 ...\n",
      " $ time       : int  0 1 2 2 2 5 5 6 6 6 ...\n"
     ]
    }
   ],
   "source": [
    "str(ms)"
   ]
  },
  {
   "cell_type": "code",
   "execution_count": 29,
   "metadata": {},
   "outputs": [
    {
     "name": "stdout",
     "output_type": "stream",
     "text": [
      "'data.frame':\t41 obs. of  8 variables:\n",
      " $ Event      : Factor w/ 10 levels \"Mens 100m\",\"Mens 800m\",..: 10 10 10 10 10 10 10 10 10 10 ...\n",
      " $ Type       : Factor w/ 2 levels \"distance\",\"time\": 1 1 1 1 1 1 1 1 1 1 ...\n",
      " $ Record     : num  14.6 14.9 15 15.3 15.4 ...\n",
      " $ Athlete    : Factor w/ 156 levels \" Adhemar da Silva \",..: 70 36 7 20 20 20 20 20 20 20 ...\n",
      " $ Nationality: Factor w/ 44 levels \" Algeria\",\" Australia\",..: 42 42 42 42 42 42 42 42 42 42 ...\n",
      " $ Location   : Factor w/ 147 levels \"Albuquerque, U.S.\",..: 81 134 102 51 45 45 76 58 66 134 ...\n",
      " $ Year       : int  1948 1949 1950 1952 1952 1952 1953 1954 1955 1955 ...\n",
      " $ Time       : int  0 1 2 4 4 4 5 6 7 7 ...\n"
     ]
    }
   ],
   "source": [
    "str(ws)"
   ]
  },
  {
   "cell_type": "code",
   "execution_count": null,
   "metadata": {},
   "outputs": [],
   "source": []
  }
 ],
 "metadata": {
  "kernelspec": {
   "display_name": "R",
   "language": "R",
   "name": "ir"
  },
  "language_info": {
   "codemirror_mode": "r",
   "file_extension": ".r",
   "mimetype": "text/x-r-source",
   "name": "R",
   "pygments_lexer": "r",
   "version": "3.6.1"
  }
 },
 "nbformat": 4,
 "nbformat_minor": 4
}

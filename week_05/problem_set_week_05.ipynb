{
 "cells": [
  {
   "cell_type": "markdown",
   "metadata": {},
   "source": [
    "## Import stuff"
   ]
  },
  {
   "cell_type": "code",
   "execution_count": 1,
   "metadata": {},
   "outputs": [],
   "source": [
    "library(SDSFoundations,lib.loc='C:/Program Files/R/R-3.6.1/library')\n",
    "wr = WorldRecords"
   ]
  },
  {
   "cell_type": "code",
   "execution_count": 2,
   "metadata": {},
   "outputs": [
    {
     "name": "stdout",
     "output_type": "stream",
     "text": [
      "'data.frame':\t285 obs. of  7 variables:\n",
      " $ Event      : Factor w/ 10 levels \"Mens 100m\",\"Mens 800m\",..: 1 1 1 1 1 1 1 1 1 1 ...\n",
      " $ Type       : Factor w/ 2 levels \"distance\",\"time\": 2 2 2 2 2 2 2 2 2 2 ...\n",
      " $ Record     : num  10.06 10.03 10.02 9.95 9.93 ...\n",
      " $ Athlete    : Factor w/ 156 levels \" Adhemar da Silva \",..: 87 112 92 112 90 91 121 91 121 98 ...\n",
      " $ Nationality: Factor w/ 44 levels \" Algeria\",\" Australia\",..: 41 41 41 41 41 41 41 41 41 25 ...\n",
      " $ Location   : Factor w/ 147 levels \"Albuquerque, U.S.\",..: 135 115 77 77 30 121 87 135 62 5 ...\n",
      " $ Year       : int  1964 1968 1968 1968 1983 1988 1991 1991 1994 1996 ...\n"
     ]
    }
   ],
   "source": [
    "str(wr)"
   ]
  },
  {
   "cell_type": "markdown",
   "metadata": {},
   "source": [
    "## Question 1\n",
    "We want to find the best-fitting linear model for men's pole vault world records since 1970."
   ]
  },
  {
   "cell_type": "code",
   "execution_count": 3,
   "metadata": {},
   "outputs": [
    {
     "data": {
      "text/plain": [
       "\n",
       "      Mens 100m       Mens 800m       Mens Mile  Mens Polevault    Mens Shotput \n",
       "             17              24              32              55              39 \n",
       "Mens TripleJump     Womens 100m     Womens 800m     Womens Mile  Womens Shotput \n",
       "             25              10              29              13              41 "
      ]
     },
     "metadata": {},
     "output_type": "display_data"
    }
   ],
   "source": [
    "table(wr$Event)"
   ]
  },
  {
   "cell_type": "code",
   "execution_count": 4,
   "metadata": {},
   "outputs": [],
   "source": [
    "mpv = wr[(wr$Event == 'Mens Polevault')&(wr$Year >= 1970),]"
   ]
  },
  {
   "cell_type": "code",
   "execution_count": 5,
   "metadata": {},
   "outputs": [
    {
     "data": {
      "text/html": [
       "<table>\n",
       "<thead><tr><th></th><th scope=col>Event</th><th scope=col>Type</th><th scope=col>Record</th><th scope=col>Athlete</th><th scope=col>Nationality</th><th scope=col>Location</th><th scope=col>Year</th></tr></thead>\n",
       "<tbody>\n",
       "\t<tr><th scope=row>169</th><td>Mens Polevault            </td><td>distance                  </td><td>5.45                      </td><td>Wolfgang Nordwig          </td><td> East Germany             </td><td>Berlin, Germany           </td><td>1970                      </td></tr>\n",
       "\t<tr><th scope=row>170</th><td>Mens Polevault            </td><td>distance                  </td><td>5.46                      </td><td>Wolfgang Nordwig          </td><td> East Germany             </td><td>Turin, Italy              </td><td>1970                      </td></tr>\n",
       "\t<tr><th scope=row>171</th><td>Mens Polevault            </td><td>distance                  </td><td>5.49                      </td><td>Christos Papanikolaou     </td><td> Greece                   </td><td>Athens, Greece            </td><td>1970                      </td></tr>\n",
       "\t<tr><th scope=row>172</th><td>Mens Polevault            </td><td>distance                  </td><td>5.51                      </td><td>Kjell Isaksson            </td><td> Sweden                   </td><td>Austin, U.S.              </td><td>1972                      </td></tr>\n",
       "\t<tr><th scope=row>173</th><td>Mens Polevault            </td><td>distance                  </td><td>5.54                      </td><td>Kjell Isaksson            </td><td> Sweden                   </td><td>Los Angeles, U.S.         </td><td>1972                      </td></tr>\n",
       "\t<tr><th scope=row>174</th><td>Mens Polevault            </td><td>distance                  </td><td>5.55                      </td><td>Kjell Isaksson            </td><td> Sweden                   </td><td>Helsingborg, Sweden       </td><td>1972                      </td></tr>\n",
       "\t<tr><th scope=row>175</th><td>Mens Polevault            </td><td>distance                  </td><td>5.63                      </td><td>Bob Seagren               </td><td> United States            </td><td>Eugene, U.S.              </td><td>1972                      </td></tr>\n",
       "\t<tr><th scope=row>176</th><td>Mens Polevault            </td><td>distance                  </td><td>5.65                      </td><td>David Roberts             </td><td> United States            </td><td>Gainesville, U.S.         </td><td>1975                      </td></tr>\n",
       "\t<tr><th scope=row>177</th><td>Mens Polevault            </td><td>distance                  </td><td>5.67                      </td><td>Earl Bell                 </td><td> United States            </td><td>Wichita, U.S.             </td><td>1976                      </td></tr>\n",
       "\t<tr><th scope=row>178</th><td>Mens Polevault            </td><td>distance                  </td><td>5.70                      </td><td>David Roberts             </td><td> United States            </td><td>Eugene, U.S.              </td><td>1976                      </td></tr>\n",
       "\t<tr><th scope=row>179</th><td>Mens Polevault            </td><td>distance                  </td><td>5.72                      </td><td>W?adys?aw Kozakiewicz     </td><td> Poland                   </td><td>Milan, Italy              </td><td>1980                      </td></tr>\n",
       "\t<tr><th scope=row>180</th><td>Mens Polevault            </td><td>distance                  </td><td>5.75                      </td><td>Thierry Vigneron          </td><td> France                   </td><td>Paris, France             </td><td>1980                      </td></tr>\n",
       "\t<tr><th scope=row>181</th><td>Mens Polevault            </td><td>distance                  </td><td>5.75                      </td><td>Thierry Vigneron          </td><td> France                   </td><td>Lille, France             </td><td>1980                      </td></tr>\n",
       "\t<tr><th scope=row>182</th><td>Mens Polevault            </td><td>distance                  </td><td>5.77                      </td><td>Philippe Houvion          </td><td> France                   </td><td>Paris, France             </td><td>1980                      </td></tr>\n",
       "\t<tr><th scope=row>183</th><td>Mens Polevault            </td><td>distance                  </td><td>5.78                      </td><td>W?adys?aw Kozakiewicz     </td><td> Poland                   </td><td>Moscow, Soviet Union      </td><td>1980                      </td></tr>\n",
       "\t<tr><th scope=row>184</th><td>Mens Polevault            </td><td>distance                  </td><td>5.80                      </td><td>Thierry Vigneron          </td><td> France                   </td><td>Mâcon, France             </td><td>1981                      </td></tr>\n",
       "\t<tr><th scope=row>185</th><td>Mens Polevault            </td><td>distance                  </td><td>5.81                      </td><td>Vladimir Polyakov         </td><td> Soviet Union             </td><td>Tbilisi, Georgia          </td><td>1981                      </td></tr>\n",
       "\t<tr><th scope=row>186</th><td>Mens Polevault            </td><td>distance                  </td><td>5.82                      </td><td>Pierre Quinon             </td><td> France                   </td><td>Cologne, Germany          </td><td>1983                      </td></tr>\n",
       "\t<tr><th scope=row>187</th><td>Mens Polevault            </td><td>distance                  </td><td>5.83                      </td><td>Thierry Vigneron          </td><td> France                   </td><td>Rome, Italy               </td><td>1983                      </td></tr>\n",
       "\t<tr><th scope=row>188</th><td>Mens Polevault            </td><td>distance                  </td><td>5.85                      </td><td>Sergey Bubka              </td><td> Soviet Union             </td><td>Bratislava, Czechoslovakia</td><td>1984                      </td></tr>\n",
       "\t<tr><th scope=row>189</th><td>Mens Polevault            </td><td>distance                  </td><td>5.88                      </td><td>Sergey Bubka              </td><td> Soviet Union             </td><td>Paris, France             </td><td>1984                      </td></tr>\n",
       "\t<tr><th scope=row>190</th><td>Mens Polevault            </td><td>distance                  </td><td>5.90                      </td><td>Sergey Bubka              </td><td> Soviet Union             </td><td>London, England           </td><td>1984                      </td></tr>\n",
       "\t<tr><th scope=row>191</th><td>Mens Polevault            </td><td>distance                  </td><td>5.91                      </td><td>Thierry Vigneron          </td><td> France                   </td><td>Rome, Italy               </td><td>1984                      </td></tr>\n",
       "\t<tr><th scope=row>192</th><td>Mens Polevault            </td><td>distance                  </td><td>5.94                      </td><td>Sergey Bubka              </td><td> Soviet Union             </td><td>Rome, Italy               </td><td>1984                      </td></tr>\n",
       "\t<tr><th scope=row>193</th><td>Mens Polevault            </td><td>distance                  </td><td>6.00                      </td><td>Sergey Bubka              </td><td> Soviet Union             </td><td>Paris, France             </td><td>1985                      </td></tr>\n",
       "\t<tr><th scope=row>194</th><td>Mens Polevault            </td><td>distance                  </td><td>6.01                      </td><td>Sergey Bubka              </td><td> Soviet Union             </td><td>Moscow, Soviet Union      </td><td>1986                      </td></tr>\n",
       "\t<tr><th scope=row>195</th><td>Mens Polevault            </td><td>distance                  </td><td>6.03                      </td><td>Sergey Bubka              </td><td> Soviet Union             </td><td>Prague, Czechoslovakia    </td><td>1987                      </td></tr>\n",
       "\t<tr><th scope=row>196</th><td>Mens Polevault            </td><td>distance                  </td><td>6.05                      </td><td>Sergey Bubka              </td><td> Soviet Union             </td><td>Bratislava, Czechoslovakia</td><td>1988                      </td></tr>\n",
       "\t<tr><th scope=row>197</th><td>Mens Polevault            </td><td>distance                  </td><td>6.06                      </td><td>Sergey Bubka              </td><td> Soviet Union             </td><td>Nice, France              </td><td>1988                      </td></tr>\n",
       "\t<tr><th scope=row>198</th><td>Mens Polevault            </td><td>distance                  </td><td>6.07                      </td><td>Sergey Bubka              </td><td> Soviet Union             </td><td>Shizuoka, Japan           </td><td>1991                      </td></tr>\n",
       "\t<tr><th scope=row>199</th><td>Mens Polevault            </td><td>distance                  </td><td>6.08                      </td><td>Sergey Bubka              </td><td> Soviet Union             </td><td>Moscow, Soviet Union      </td><td>1991                      </td></tr>\n",
       "\t<tr><th scope=row>200</th><td>Mens Polevault            </td><td>distance                  </td><td>6.09                      </td><td>Sergey Bubka              </td><td> Soviet Union             </td><td>Formia, Italy             </td><td>1991                      </td></tr>\n",
       "\t<tr><th scope=row>201</th><td>Mens Polevault            </td><td>distance                  </td><td>6.10                      </td><td>Sergey Bubka              </td><td> Soviet Union             </td><td>Malmö, Sweden             </td><td>1991                      </td></tr>\n",
       "\t<tr><th scope=row>202</th><td>Mens Polevault            </td><td>distance                  </td><td>6.11                      </td><td>Sergey Bubka              </td><td> Ukraine                  </td><td>Dijon, France             </td><td>1992                      </td></tr>\n",
       "\t<tr><th scope=row>203</th><td>Mens Polevault            </td><td>distance                  </td><td>6.12                      </td><td>Sergey Bubka              </td><td> Ukraine                  </td><td>Padua, Italy              </td><td>1992                      </td></tr>\n",
       "\t<tr><th scope=row>204</th><td>Mens Polevault            </td><td>distance                  </td><td>6.13                      </td><td>Sergey Bubka              </td><td> Ukraine                  </td><td>Tokyo, Japan              </td><td>1992                      </td></tr>\n",
       "\t<tr><th scope=row>205</th><td>Mens Polevault            </td><td>distance                  </td><td>6.14                      </td><td>Sergey Bubka              </td><td> Ukraine                  </td><td>Sestriere, Italy          </td><td>1994                      </td></tr>\n",
       "</tbody>\n",
       "</table>\n"
      ],
      "text/latex": [
       "\\begin{tabular}{r|lllllll}\n",
       "  & Event & Type & Record & Athlete & Nationality & Location & Year\\\\\n",
       "\\hline\n",
       "\t169 & Mens Polevault             & distance                   & 5.45                       & Wolfgang Nordwig           &  East Germany              & Berlin, Germany            & 1970                      \\\\\n",
       "\t170 & Mens Polevault             & distance                   & 5.46                       & Wolfgang Nordwig           &  East Germany              & Turin, Italy               & 1970                      \\\\\n",
       "\t171 & Mens Polevault             & distance                   & 5.49                       & Christos Papanikolaou      &  Greece                    & Athens, Greece             & 1970                      \\\\\n",
       "\t172 & Mens Polevault             & distance                   & 5.51                       & Kjell Isaksson             &  Sweden                    & Austin, U.S.               & 1972                      \\\\\n",
       "\t173 & Mens Polevault             & distance                   & 5.54                       & Kjell Isaksson             &  Sweden                    & Los Angeles, U.S.          & 1972                      \\\\\n",
       "\t174 & Mens Polevault             & distance                   & 5.55                       & Kjell Isaksson             &  Sweden                    & Helsingborg, Sweden        & 1972                      \\\\\n",
       "\t175 & Mens Polevault             & distance                   & 5.63                       & Bob Seagren                &  United States             & Eugene, U.S.               & 1972                      \\\\\n",
       "\t176 & Mens Polevault             & distance                   & 5.65                       & David Roberts              &  United States             & Gainesville, U.S.          & 1975                      \\\\\n",
       "\t177 & Mens Polevault             & distance                   & 5.67                       & Earl Bell                  &  United States             & Wichita, U.S.              & 1976                      \\\\\n",
       "\t178 & Mens Polevault             & distance                   & 5.70                       & David Roberts              &  United States             & Eugene, U.S.               & 1976                      \\\\\n",
       "\t179 & Mens Polevault             & distance                   & 5.72                       & W?adys?aw Kozakiewicz      &  Poland                    & Milan, Italy               & 1980                      \\\\\n",
       "\t180 & Mens Polevault             & distance                   & 5.75                       & Thierry Vigneron           &  France                    & Paris, France              & 1980                      \\\\\n",
       "\t181 & Mens Polevault             & distance                   & 5.75                       & Thierry Vigneron           &  France                    & Lille, France              & 1980                      \\\\\n",
       "\t182 & Mens Polevault             & distance                   & 5.77                       & Philippe Houvion           &  France                    & Paris, France              & 1980                      \\\\\n",
       "\t183 & Mens Polevault             & distance                   & 5.78                       & W?adys?aw Kozakiewicz      &  Poland                    & Moscow, Soviet Union       & 1980                      \\\\\n",
       "\t184 & Mens Polevault             & distance                   & 5.80                       & Thierry Vigneron           &  France                    & Mâcon, France              & 1981                      \\\\\n",
       "\t185 & Mens Polevault             & distance                   & 5.81                       & Vladimir Polyakov          &  Soviet Union              & Tbilisi, Georgia           & 1981                      \\\\\n",
       "\t186 & Mens Polevault             & distance                   & 5.82                       & Pierre Quinon              &  France                    & Cologne, Germany           & 1983                      \\\\\n",
       "\t187 & Mens Polevault             & distance                   & 5.83                       & Thierry Vigneron           &  France                    & Rome, Italy                & 1983                      \\\\\n",
       "\t188 & Mens Polevault             & distance                   & 5.85                       & Sergey Bubka               &  Soviet Union              & Bratislava, Czechoslovakia & 1984                      \\\\\n",
       "\t189 & Mens Polevault             & distance                   & 5.88                       & Sergey Bubka               &  Soviet Union              & Paris, France              & 1984                      \\\\\n",
       "\t190 & Mens Polevault             & distance                   & 5.90                       & Sergey Bubka               &  Soviet Union              & London, England            & 1984                      \\\\\n",
       "\t191 & Mens Polevault             & distance                   & 5.91                       & Thierry Vigneron           &  France                    & Rome, Italy                & 1984                      \\\\\n",
       "\t192 & Mens Polevault             & distance                   & 5.94                       & Sergey Bubka               &  Soviet Union              & Rome, Italy                & 1984                      \\\\\n",
       "\t193 & Mens Polevault             & distance                   & 6.00                       & Sergey Bubka               &  Soviet Union              & Paris, France              & 1985                      \\\\\n",
       "\t194 & Mens Polevault             & distance                   & 6.01                       & Sergey Bubka               &  Soviet Union              & Moscow, Soviet Union       & 1986                      \\\\\n",
       "\t195 & Mens Polevault             & distance                   & 6.03                       & Sergey Bubka               &  Soviet Union              & Prague, Czechoslovakia     & 1987                      \\\\\n",
       "\t196 & Mens Polevault             & distance                   & 6.05                       & Sergey Bubka               &  Soviet Union              & Bratislava, Czechoslovakia & 1988                      \\\\\n",
       "\t197 & Mens Polevault             & distance                   & 6.06                       & Sergey Bubka               &  Soviet Union              & Nice, France               & 1988                      \\\\\n",
       "\t198 & Mens Polevault             & distance                   & 6.07                       & Sergey Bubka               &  Soviet Union              & Shizuoka, Japan            & 1991                      \\\\\n",
       "\t199 & Mens Polevault             & distance                   & 6.08                       & Sergey Bubka               &  Soviet Union              & Moscow, Soviet Union       & 1991                      \\\\\n",
       "\t200 & Mens Polevault             & distance                   & 6.09                       & Sergey Bubka               &  Soviet Union              & Formia, Italy              & 1991                      \\\\\n",
       "\t201 & Mens Polevault             & distance                   & 6.10                       & Sergey Bubka               &  Soviet Union              & Malmö, Sweden              & 1991                      \\\\\n",
       "\t202 & Mens Polevault             & distance                   & 6.11                       & Sergey Bubka               &  Ukraine                   & Dijon, France              & 1992                      \\\\\n",
       "\t203 & Mens Polevault             & distance                   & 6.12                       & Sergey Bubka               &  Ukraine                   & Padua, Italy               & 1992                      \\\\\n",
       "\t204 & Mens Polevault             & distance                   & 6.13                       & Sergey Bubka               &  Ukraine                   & Tokyo, Japan               & 1992                      \\\\\n",
       "\t205 & Mens Polevault             & distance                   & 6.14                       & Sergey Bubka               &  Ukraine                   & Sestriere, Italy           & 1994                      \\\\\n",
       "\\end{tabular}\n"
      ],
      "text/markdown": [
       "\n",
       "| <!--/--> | Event | Type | Record | Athlete | Nationality | Location | Year |\n",
       "|---|---|---|---|---|---|---|---|\n",
       "| 169 | Mens Polevault             | distance                   | 5.45                       | Wolfgang Nordwig           |  East Germany              | Berlin, Germany            | 1970                       |\n",
       "| 170 | Mens Polevault             | distance                   | 5.46                       | Wolfgang Nordwig           |  East Germany              | Turin, Italy               | 1970                       |\n",
       "| 171 | Mens Polevault             | distance                   | 5.49                       | Christos Papanikolaou      |  Greece                    | Athens, Greece             | 1970                       |\n",
       "| 172 | Mens Polevault             | distance                   | 5.51                       | Kjell Isaksson             |  Sweden                    | Austin, U.S.               | 1972                       |\n",
       "| 173 | Mens Polevault             | distance                   | 5.54                       | Kjell Isaksson             |  Sweden                    | Los Angeles, U.S.          | 1972                       |\n",
       "| 174 | Mens Polevault             | distance                   | 5.55                       | Kjell Isaksson             |  Sweden                    | Helsingborg, Sweden        | 1972                       |\n",
       "| 175 | Mens Polevault             | distance                   | 5.63                       | Bob Seagren                |  United States             | Eugene, U.S.               | 1972                       |\n",
       "| 176 | Mens Polevault             | distance                   | 5.65                       | David Roberts              |  United States             | Gainesville, U.S.          | 1975                       |\n",
       "| 177 | Mens Polevault             | distance                   | 5.67                       | Earl Bell                  |  United States             | Wichita, U.S.              | 1976                       |\n",
       "| 178 | Mens Polevault             | distance                   | 5.70                       | David Roberts              |  United States             | Eugene, U.S.               | 1976                       |\n",
       "| 179 | Mens Polevault             | distance                   | 5.72                       | W?adys?aw Kozakiewicz      |  Poland                    | Milan, Italy               | 1980                       |\n",
       "| 180 | Mens Polevault             | distance                   | 5.75                       | Thierry Vigneron           |  France                    | Paris, France              | 1980                       |\n",
       "| 181 | Mens Polevault             | distance                   | 5.75                       | Thierry Vigneron           |  France                    | Lille, France              | 1980                       |\n",
       "| 182 | Mens Polevault             | distance                   | 5.77                       | Philippe Houvion           |  France                    | Paris, France              | 1980                       |\n",
       "| 183 | Mens Polevault             | distance                   | 5.78                       | W?adys?aw Kozakiewicz      |  Poland                    | Moscow, Soviet Union       | 1980                       |\n",
       "| 184 | Mens Polevault             | distance                   | 5.80                       | Thierry Vigneron           |  France                    | Mâcon, France              | 1981                       |\n",
       "| 185 | Mens Polevault             | distance                   | 5.81                       | Vladimir Polyakov          |  Soviet Union              | Tbilisi, Georgia           | 1981                       |\n",
       "| 186 | Mens Polevault             | distance                   | 5.82                       | Pierre Quinon              |  France                    | Cologne, Germany           | 1983                       |\n",
       "| 187 | Mens Polevault             | distance                   | 5.83                       | Thierry Vigneron           |  France                    | Rome, Italy                | 1983                       |\n",
       "| 188 | Mens Polevault             | distance                   | 5.85                       | Sergey Bubka               |  Soviet Union              | Bratislava, Czechoslovakia | 1984                       |\n",
       "| 189 | Mens Polevault             | distance                   | 5.88                       | Sergey Bubka               |  Soviet Union              | Paris, France              | 1984                       |\n",
       "| 190 | Mens Polevault             | distance                   | 5.90                       | Sergey Bubka               |  Soviet Union              | London, England            | 1984                       |\n",
       "| 191 | Mens Polevault             | distance                   | 5.91                       | Thierry Vigneron           |  France                    | Rome, Italy                | 1984                       |\n",
       "| 192 | Mens Polevault             | distance                   | 5.94                       | Sergey Bubka               |  Soviet Union              | Rome, Italy                | 1984                       |\n",
       "| 193 | Mens Polevault             | distance                   | 6.00                       | Sergey Bubka               |  Soviet Union              | Paris, France              | 1985                       |\n",
       "| 194 | Mens Polevault             | distance                   | 6.01                       | Sergey Bubka               |  Soviet Union              | Moscow, Soviet Union       | 1986                       |\n",
       "| 195 | Mens Polevault             | distance                   | 6.03                       | Sergey Bubka               |  Soviet Union              | Prague, Czechoslovakia     | 1987                       |\n",
       "| 196 | Mens Polevault             | distance                   | 6.05                       | Sergey Bubka               |  Soviet Union              | Bratislava, Czechoslovakia | 1988                       |\n",
       "| 197 | Mens Polevault             | distance                   | 6.06                       | Sergey Bubka               |  Soviet Union              | Nice, France               | 1988                       |\n",
       "| 198 | Mens Polevault             | distance                   | 6.07                       | Sergey Bubka               |  Soviet Union              | Shizuoka, Japan            | 1991                       |\n",
       "| 199 | Mens Polevault             | distance                   | 6.08                       | Sergey Bubka               |  Soviet Union              | Moscow, Soviet Union       | 1991                       |\n",
       "| 200 | Mens Polevault             | distance                   | 6.09                       | Sergey Bubka               |  Soviet Union              | Formia, Italy              | 1991                       |\n",
       "| 201 | Mens Polevault             | distance                   | 6.10                       | Sergey Bubka               |  Soviet Union              | Malmö, Sweden              | 1991                       |\n",
       "| 202 | Mens Polevault             | distance                   | 6.11                       | Sergey Bubka               |  Ukraine                   | Dijon, France              | 1992                       |\n",
       "| 203 | Mens Polevault             | distance                   | 6.12                       | Sergey Bubka               |  Ukraine                   | Padua, Italy               | 1992                       |\n",
       "| 204 | Mens Polevault             | distance                   | 6.13                       | Sergey Bubka               |  Ukraine                   | Tokyo, Japan               | 1992                       |\n",
       "| 205 | Mens Polevault             | distance                   | 6.14                       | Sergey Bubka               |  Ukraine                   | Sestriere, Italy           | 1994                       |\n",
       "\n"
      ],
      "text/plain": [
       "    Event          Type     Record Athlete               Nationality   \n",
       "169 Mens Polevault distance 5.45   Wolfgang Nordwig       East Germany \n",
       "170 Mens Polevault distance 5.46   Wolfgang Nordwig       East Germany \n",
       "171 Mens Polevault distance 5.49   Christos Papanikolaou  Greece       \n",
       "172 Mens Polevault distance 5.51   Kjell Isaksson         Sweden       \n",
       "173 Mens Polevault distance 5.54   Kjell Isaksson         Sweden       \n",
       "174 Mens Polevault distance 5.55   Kjell Isaksson         Sweden       \n",
       "175 Mens Polevault distance 5.63   Bob Seagren            United States\n",
       "176 Mens Polevault distance 5.65   David Roberts          United States\n",
       "177 Mens Polevault distance 5.67   Earl Bell              United States\n",
       "178 Mens Polevault distance 5.70   David Roberts          United States\n",
       "179 Mens Polevault distance 5.72   W?adys?aw Kozakiewicz  Poland       \n",
       "180 Mens Polevault distance 5.75   Thierry Vigneron       France       \n",
       "181 Mens Polevault distance 5.75   Thierry Vigneron       France       \n",
       "182 Mens Polevault distance 5.77   Philippe Houvion       France       \n",
       "183 Mens Polevault distance 5.78   W?adys?aw Kozakiewicz  Poland       \n",
       "184 Mens Polevault distance 5.80   Thierry Vigneron       France       \n",
       "185 Mens Polevault distance 5.81   Vladimir Polyakov      Soviet Union \n",
       "186 Mens Polevault distance 5.82   Pierre Quinon          France       \n",
       "187 Mens Polevault distance 5.83   Thierry Vigneron       France       \n",
       "188 Mens Polevault distance 5.85   Sergey Bubka           Soviet Union \n",
       "189 Mens Polevault distance 5.88   Sergey Bubka           Soviet Union \n",
       "190 Mens Polevault distance 5.90   Sergey Bubka           Soviet Union \n",
       "191 Mens Polevault distance 5.91   Thierry Vigneron       France       \n",
       "192 Mens Polevault distance 5.94   Sergey Bubka           Soviet Union \n",
       "193 Mens Polevault distance 6.00   Sergey Bubka           Soviet Union \n",
       "194 Mens Polevault distance 6.01   Sergey Bubka           Soviet Union \n",
       "195 Mens Polevault distance 6.03   Sergey Bubka           Soviet Union \n",
       "196 Mens Polevault distance 6.05   Sergey Bubka           Soviet Union \n",
       "197 Mens Polevault distance 6.06   Sergey Bubka           Soviet Union \n",
       "198 Mens Polevault distance 6.07   Sergey Bubka           Soviet Union \n",
       "199 Mens Polevault distance 6.08   Sergey Bubka           Soviet Union \n",
       "200 Mens Polevault distance 6.09   Sergey Bubka           Soviet Union \n",
       "201 Mens Polevault distance 6.10   Sergey Bubka           Soviet Union \n",
       "202 Mens Polevault distance 6.11   Sergey Bubka           Ukraine      \n",
       "203 Mens Polevault distance 6.12   Sergey Bubka           Ukraine      \n",
       "204 Mens Polevault distance 6.13   Sergey Bubka           Ukraine      \n",
       "205 Mens Polevault distance 6.14   Sergey Bubka           Ukraine      \n",
       "    Location                   Year\n",
       "169 Berlin, Germany            1970\n",
       "170 Turin, Italy               1970\n",
       "171 Athens, Greece             1970\n",
       "172 Austin, U.S.               1972\n",
       "173 Los Angeles, U.S.          1972\n",
       "174 Helsingborg, Sweden        1972\n",
       "175 Eugene, U.S.               1972\n",
       "176 Gainesville, U.S.          1975\n",
       "177 Wichita, U.S.              1976\n",
       "178 Eugene, U.S.               1976\n",
       "179 Milan, Italy               1980\n",
       "180 Paris, France              1980\n",
       "181 Lille, France              1980\n",
       "182 Paris, France              1980\n",
       "183 Moscow, Soviet Union       1980\n",
       "184 Mâcon, France              1981\n",
       "185 Tbilisi, Georgia           1981\n",
       "186 Cologne, Germany           1983\n",
       "187 Rome, Italy                1983\n",
       "188 Bratislava, Czechoslovakia 1984\n",
       "189 Paris, France              1984\n",
       "190 London, England            1984\n",
       "191 Rome, Italy                1984\n",
       "192 Rome, Italy                1984\n",
       "193 Paris, France              1985\n",
       "194 Moscow, Soviet Union       1986\n",
       "195 Prague, Czechoslovakia     1987\n",
       "196 Bratislava, Czechoslovakia 1988\n",
       "197 Nice, France               1988\n",
       "198 Shizuoka, Japan            1991\n",
       "199 Moscow, Soviet Union       1991\n",
       "200 Formia, Italy              1991\n",
       "201 Malmö, Sweden              1991\n",
       "202 Dijon, France              1992\n",
       "203 Padua, Italy               1992\n",
       "204 Tokyo, Japan               1992\n",
       "205 Sestriere, Italy           1994"
      ]
     },
     "metadata": {},
     "output_type": "display_data"
    }
   ],
   "source": [
    "mpv"
   ]
  },
  {
   "cell_type": "markdown",
   "metadata": {},
   "source": [
    "***\n",
    "What is the standing world record height (in meters) for men's pole vault? (Round to 2 decimal places.)"
   ]
  },
  {
   "cell_type": "code",
   "execution_count": 6,
   "metadata": {},
   "outputs": [
    {
     "data": {
      "text/html": [
       "6.14"
      ],
      "text/latex": [
       "6.14"
      ],
      "text/markdown": [
       "6.14"
      ],
      "text/plain": [
       "[1] 6.14"
      ]
     },
     "metadata": {},
     "output_type": "display_data"
    }
   ],
   "source": [
    "round(max(mpv$Record),2)"
   ]
  },
  {
   "cell_type": "markdown",
   "metadata": {},
   "source": [
    "***\n",
    "In what year did the pole vault record first exceed 6 meters? (Look at the data to find the year.)"
   ]
  },
  {
   "cell_type": "code",
   "execution_count": 8,
   "metadata": {},
   "outputs": [
    {
     "data": {
      "text/html": [
       "<table>\n",
       "<thead><tr><th></th><th scope=col>Event</th><th scope=col>Type</th><th scope=col>Record</th><th scope=col>Athlete</th><th scope=col>Nationality</th><th scope=col>Location</th><th scope=col>Year</th></tr></thead>\n",
       "<tbody>\n",
       "\t<tr><th scope=row>194</th><td>Mens Polevault            </td><td>distance                  </td><td>6.01                      </td><td>Sergey Bubka              </td><td> Soviet Union             </td><td>Moscow, Soviet Union      </td><td>1986                      </td></tr>\n",
       "\t<tr><th scope=row>195</th><td>Mens Polevault            </td><td>distance                  </td><td>6.03                      </td><td>Sergey Bubka              </td><td> Soviet Union             </td><td>Prague, Czechoslovakia    </td><td>1987                      </td></tr>\n",
       "\t<tr><th scope=row>196</th><td>Mens Polevault            </td><td>distance                  </td><td>6.05                      </td><td>Sergey Bubka              </td><td> Soviet Union             </td><td>Bratislava, Czechoslovakia</td><td>1988                      </td></tr>\n",
       "\t<tr><th scope=row>197</th><td>Mens Polevault            </td><td>distance                  </td><td>6.06                      </td><td>Sergey Bubka              </td><td> Soviet Union             </td><td>Nice, France              </td><td>1988                      </td></tr>\n",
       "\t<tr><th scope=row>198</th><td>Mens Polevault            </td><td>distance                  </td><td>6.07                      </td><td>Sergey Bubka              </td><td> Soviet Union             </td><td>Shizuoka, Japan           </td><td>1991                      </td></tr>\n",
       "\t<tr><th scope=row>199</th><td>Mens Polevault            </td><td>distance                  </td><td>6.08                      </td><td>Sergey Bubka              </td><td> Soviet Union             </td><td>Moscow, Soviet Union      </td><td>1991                      </td></tr>\n",
       "\t<tr><th scope=row>200</th><td>Mens Polevault            </td><td>distance                  </td><td>6.09                      </td><td>Sergey Bubka              </td><td> Soviet Union             </td><td>Formia, Italy             </td><td>1991                      </td></tr>\n",
       "\t<tr><th scope=row>201</th><td>Mens Polevault            </td><td>distance                  </td><td>6.10                      </td><td>Sergey Bubka              </td><td> Soviet Union             </td><td>Malmö, Sweden             </td><td>1991                      </td></tr>\n",
       "\t<tr><th scope=row>202</th><td>Mens Polevault            </td><td>distance                  </td><td>6.11                      </td><td>Sergey Bubka              </td><td> Ukraine                  </td><td>Dijon, France             </td><td>1992                      </td></tr>\n",
       "\t<tr><th scope=row>203</th><td>Mens Polevault            </td><td>distance                  </td><td>6.12                      </td><td>Sergey Bubka              </td><td> Ukraine                  </td><td>Padua, Italy              </td><td>1992                      </td></tr>\n",
       "\t<tr><th scope=row>204</th><td>Mens Polevault            </td><td>distance                  </td><td>6.13                      </td><td>Sergey Bubka              </td><td> Ukraine                  </td><td>Tokyo, Japan              </td><td>1992                      </td></tr>\n",
       "\t<tr><th scope=row>205</th><td>Mens Polevault            </td><td>distance                  </td><td>6.14                      </td><td>Sergey Bubka              </td><td> Ukraine                  </td><td>Sestriere, Italy          </td><td>1994                      </td></tr>\n",
       "</tbody>\n",
       "</table>\n"
      ],
      "text/latex": [
       "\\begin{tabular}{r|lllllll}\n",
       "  & Event & Type & Record & Athlete & Nationality & Location & Year\\\\\n",
       "\\hline\n",
       "\t194 & Mens Polevault             & distance                   & 6.01                       & Sergey Bubka               &  Soviet Union              & Moscow, Soviet Union       & 1986                      \\\\\n",
       "\t195 & Mens Polevault             & distance                   & 6.03                       & Sergey Bubka               &  Soviet Union              & Prague, Czechoslovakia     & 1987                      \\\\\n",
       "\t196 & Mens Polevault             & distance                   & 6.05                       & Sergey Bubka               &  Soviet Union              & Bratislava, Czechoslovakia & 1988                      \\\\\n",
       "\t197 & Mens Polevault             & distance                   & 6.06                       & Sergey Bubka               &  Soviet Union              & Nice, France               & 1988                      \\\\\n",
       "\t198 & Mens Polevault             & distance                   & 6.07                       & Sergey Bubka               &  Soviet Union              & Shizuoka, Japan            & 1991                      \\\\\n",
       "\t199 & Mens Polevault             & distance                   & 6.08                       & Sergey Bubka               &  Soviet Union              & Moscow, Soviet Union       & 1991                      \\\\\n",
       "\t200 & Mens Polevault             & distance                   & 6.09                       & Sergey Bubka               &  Soviet Union              & Formia, Italy              & 1991                      \\\\\n",
       "\t201 & Mens Polevault             & distance                   & 6.10                       & Sergey Bubka               &  Soviet Union              & Malmö, Sweden              & 1991                      \\\\\n",
       "\t202 & Mens Polevault             & distance                   & 6.11                       & Sergey Bubka               &  Ukraine                   & Dijon, France              & 1992                      \\\\\n",
       "\t203 & Mens Polevault             & distance                   & 6.12                       & Sergey Bubka               &  Ukraine                   & Padua, Italy               & 1992                      \\\\\n",
       "\t204 & Mens Polevault             & distance                   & 6.13                       & Sergey Bubka               &  Ukraine                   & Tokyo, Japan               & 1992                      \\\\\n",
       "\t205 & Mens Polevault             & distance                   & 6.14                       & Sergey Bubka               &  Ukraine                   & Sestriere, Italy           & 1994                      \\\\\n",
       "\\end{tabular}\n"
      ],
      "text/markdown": [
       "\n",
       "| <!--/--> | Event | Type | Record | Athlete | Nationality | Location | Year |\n",
       "|---|---|---|---|---|---|---|---|\n",
       "| 194 | Mens Polevault             | distance                   | 6.01                       | Sergey Bubka               |  Soviet Union              | Moscow, Soviet Union       | 1986                       |\n",
       "| 195 | Mens Polevault             | distance                   | 6.03                       | Sergey Bubka               |  Soviet Union              | Prague, Czechoslovakia     | 1987                       |\n",
       "| 196 | Mens Polevault             | distance                   | 6.05                       | Sergey Bubka               |  Soviet Union              | Bratislava, Czechoslovakia | 1988                       |\n",
       "| 197 | Mens Polevault             | distance                   | 6.06                       | Sergey Bubka               |  Soviet Union              | Nice, France               | 1988                       |\n",
       "| 198 | Mens Polevault             | distance                   | 6.07                       | Sergey Bubka               |  Soviet Union              | Shizuoka, Japan            | 1991                       |\n",
       "| 199 | Mens Polevault             | distance                   | 6.08                       | Sergey Bubka               |  Soviet Union              | Moscow, Soviet Union       | 1991                       |\n",
       "| 200 | Mens Polevault             | distance                   | 6.09                       | Sergey Bubka               |  Soviet Union              | Formia, Italy              | 1991                       |\n",
       "| 201 | Mens Polevault             | distance                   | 6.10                       | Sergey Bubka               |  Soviet Union              | Malmö, Sweden              | 1991                       |\n",
       "| 202 | Mens Polevault             | distance                   | 6.11                       | Sergey Bubka               |  Ukraine                   | Dijon, France              | 1992                       |\n",
       "| 203 | Mens Polevault             | distance                   | 6.12                       | Sergey Bubka               |  Ukraine                   | Padua, Italy               | 1992                       |\n",
       "| 204 | Mens Polevault             | distance                   | 6.13                       | Sergey Bubka               |  Ukraine                   | Tokyo, Japan               | 1992                       |\n",
       "| 205 | Mens Polevault             | distance                   | 6.14                       | Sergey Bubka               |  Ukraine                   | Sestriere, Italy           | 1994                       |\n",
       "\n"
      ],
      "text/plain": [
       "    Event          Type     Record Athlete      Nationality  \n",
       "194 Mens Polevault distance 6.01   Sergey Bubka  Soviet Union\n",
       "195 Mens Polevault distance 6.03   Sergey Bubka  Soviet Union\n",
       "196 Mens Polevault distance 6.05   Sergey Bubka  Soviet Union\n",
       "197 Mens Polevault distance 6.06   Sergey Bubka  Soviet Union\n",
       "198 Mens Polevault distance 6.07   Sergey Bubka  Soviet Union\n",
       "199 Mens Polevault distance 6.08   Sergey Bubka  Soviet Union\n",
       "200 Mens Polevault distance 6.09   Sergey Bubka  Soviet Union\n",
       "201 Mens Polevault distance 6.10   Sergey Bubka  Soviet Union\n",
       "202 Mens Polevault distance 6.11   Sergey Bubka  Ukraine     \n",
       "203 Mens Polevault distance 6.12   Sergey Bubka  Ukraine     \n",
       "204 Mens Polevault distance 6.13   Sergey Bubka  Ukraine     \n",
       "205 Mens Polevault distance 6.14   Sergey Bubka  Ukraine     \n",
       "    Location                   Year\n",
       "194 Moscow, Soviet Union       1986\n",
       "195 Prague, Czechoslovakia     1987\n",
       "196 Bratislava, Czechoslovakia 1988\n",
       "197 Nice, France               1988\n",
       "198 Shizuoka, Japan            1991\n",
       "199 Moscow, Soviet Union       1991\n",
       "200 Formia, Italy              1991\n",
       "201 Malmö, Sweden              1991\n",
       "202 Dijon, France              1992\n",
       "203 Padua, Italy               1992\n",
       "204 Tokyo, Japan               1992\n",
       "205 Sestriere, Italy           1994"
      ]
     },
     "metadata": {},
     "output_type": "display_data"
    }
   ],
   "source": [
    "mpv[mpv$Record > 6,]"
   ]
  },
  {
   "cell_type": "markdown",
   "metadata": {},
   "source": [
    "---\n",
    "Create a scatterplot showing the men's pole vault records since 1970 as a function of year. Fit a linear model to the data."
   ]
  },
  {
   "cell_type": "code",
   "execution_count": 9,
   "metadata": {},
   "outputs": [
    {
     "data": {
      "image/png": "[encoded data removed]",
      "text/plain": [
       "Plot with title \"year vs height\""
      ]
     },
     "metadata": {},
     "output_type": "display_data"
    }
   ],
   "source": [
    "plot(mpv$Year,mpv$Record,xlab='Year',ylab='Height',main='year vs height')"
   ]
  },
  {
   "cell_type": "markdown",
   "metadata": {},
   "source": [
    "___\n",
    "Report the coefficient estimates for the linear model that describes the change in the men's pole vault world record since 1970."
   ]
  },
  {
   "cell_type": "code",
   "execution_count": 10,
   "metadata": {},
   "outputs": [
    {
     "name": "stdout",
     "output_type": "stream",
     "text": [
      "Linear Fit \n",
      " Intercept =  -51.8541 \n",
      " Slope =  0.02911 \n",
      " R-squared =  0.97298"
     ]
    },
    {
     "data": {
      "image/png": "[encoded data removed]",
      "text/plain": [
       "Plot with title \"Linear\""
      ]
     },
     "metadata": {},
     "output_type": "display_data"
    }
   ],
   "source": [
    "linFit(mpv$Year,mpv$Record)"
   ]
  },
  {
   "cell_type": "markdown",
   "metadata": {},
   "source": [
    "## Question 2\n",
    "Band play"
   ]
  },
  {
   "cell_type": "code",
   "execution_count": 11,
   "metadata": {},
   "outputs": [],
   "source": [
    "cost = c(140,280,420,560)\n",
    "h = c(0,2,4,6)"
   ]
  },
  {
   "cell_type": "code",
   "execution_count": 12,
   "metadata": {},
   "outputs": [
    {
     "name": "stderr",
     "output_type": "stream",
     "text": [
      "Warning message in summary.lm(lm(y1 ~ x1)):\n",
      "\"essentially perfect fit: summary may be unreliable\""
     ]
    },
    {
     "name": "stdout",
     "output_type": "stream",
     "text": [
      "Linear Fit \n",
      " Intercept =  140 \n",
      " Slope =  70 \n",
      " R-squared =  1"
     ]
    },
    {
     "data": {
      "image/png": "[encoded data removed]",
      "text/plain": [
       "Plot with title \"Linear\""
      ]
     },
     "metadata": {},
     "output_type": "display_data"
    }
   ],
   "source": [
    "linFit(h,cost)"
   ]
  },
  {
   "cell_type": "code",
   "execution_count": 15,
   "metadata": {},
   "outputs": [
    {
     "data": {
      "text/html": [
       "700"
      ],
      "text/latex": [
       "700"
      ],
      "text/markdown": [
       "700"
      ],
      "text/plain": [
       "[1] 700"
      ]
     },
     "metadata": {},
     "output_type": "display_data"
    }
   ],
   "source": [
    "175*4"
   ]
  },
  {
   "cell_type": "code",
   "execution_count": 16,
   "metadata": {},
   "outputs": [
    {
     "data": {
      "text/html": [
       "560"
      ],
      "text/latex": [
       "560"
      ],
      "text/markdown": [
       "560"
      ],
      "text/plain": [
       "[1] 560"
      ]
     },
     "metadata": {},
     "output_type": "display_data"
    }
   ],
   "source": [
    "700-140"
   ]
  },
  {
   "cell_type": "code",
   "execution_count": 17,
   "metadata": {},
   "outputs": [
    {
     "data": {
      "text/html": [
       "8"
      ],
      "text/latex": [
       "8"
      ],
      "text/markdown": [
       "8"
      ],
      "text/plain": [
       "[1] 8"
      ]
     },
     "metadata": {},
     "output_type": "display_data"
    }
   ],
   "source": [
    "560/70"
   ]
  },
  {
   "cell_type": "markdown",
   "metadata": {},
   "source": [
    "## Question 3\n",
    "predicted GPA"
   ]
  },
  {
   "cell_type": "code",
   "execution_count": 19,
   "metadata": {},
   "outputs": [
    {
     "data": {
      "text/html": [
       "41.64"
      ],
      "text/latex": [
       "41.64"
      ],
      "text/markdown": [
       "41.64"
      ],
      "text/plain": [
       "[1] 41.64"
      ]
     },
     "metadata": {},
     "output_type": "display_data"
    }
   ],
   "source": [
    "2.84 + (0.04 * 970)"
   ]
  },
  {
   "cell_type": "code",
   "execution_count": 20,
   "metadata": {},
   "outputs": [
    {
     "data": {
      "text/html": [
       "38.8"
      ],
      "text/latex": [
       "38.8"
      ],
      "text/markdown": [
       "38.8"
      ],
      "text/plain": [
       "[1] 38.8"
      ]
     },
     "metadata": {},
     "output_type": "display_data"
    }
   ],
   "source": [
    "0.04*970"
   ]
  },
  {
   "cell_type": "code",
   "execution_count": 21,
   "metadata": {},
   "outputs": [
    {
     "data": {
      "text/html": [
       "38.8"
      ],
      "text/latex": [
       "38.8"
      ],
      "text/markdown": [
       "38.8"
      ],
      "text/plain": [
       "[1] 38.8"
      ]
     },
     "metadata": {},
     "output_type": "display_data"
    }
   ],
   "source": [
    "970 * .04"
   ]
  },
  {
   "cell_type": "code",
   "execution_count": null,
   "metadata": {},
   "outputs": [],
   "source": []
  }
 ],
 "metadata": {
  "kernelspec": {
   "display_name": "R",
   "language": "R",
   "name": "ir"
  },
  "language_info": {
   "codemirror_mode": "r",
   "file_extension": ".r",
   "mimetype": "text/x-r-source",
   "name": "R",
   "pygments_lexer": "r",
   "version": "3.6.1"
  }
 },
 "nbformat": 4,
 "nbformat_minor": 4
}

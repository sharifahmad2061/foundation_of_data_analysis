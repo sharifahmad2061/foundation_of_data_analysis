{
 "cells": [
  {
   "cell_type": "markdown",
   "metadata": {},
   "source": [
    "# import data"
   ]
  },
  {
   "cell_type": "code",
   "execution_count": 1,
   "metadata": {},
   "outputs": [
    {
     "data": {
      "text/html": [
       "<table>\n",
       "<thead><tr><th scope=col>Impound.No</th><th scope=col>Intake.Date</th><th scope=col>Intake.Type</th><th scope=col>Animal.Type</th><th scope=col>Neutered.Status</th><th scope=col>Sex</th><th scope=col>Age.Intake</th><th scope=col>Condition</th><th scope=col>Breed</th><th scope=col>Aggressive</th><th scope=col>...</th><th scope=col>Good.with.Kids</th><th scope=col>Max.Life.Expectancy</th><th scope=col>Max.Weight</th><th scope=col>Dog.Group</th><th scope=col>Color</th><th scope=col>Weight</th><th scope=col>Lab.Test</th><th scope=col>Outcome.Date</th><th scope=col>Outcome.Type</th><th scope=col>Days.Shelter</th></tr></thead>\n",
       "<tbody>\n",
       "\t<tr><td>K12-000031                                                           </td><td>1/1/12                                                               </td><td>Stray                                                                </td><td>Dog                                                                  </td><td><span style=white-space:pre-wrap>Spayed  </span>                     </td><td>Female                                                               </td><td>10                                                                   </td><td>Injured or Sick                                                      </td><td><span style=white-space:pre-wrap>Chihuahua Sh Mix             </span></td><td>N                                                                    </td><td>...                                                                  </td><td>N                                                                    </td><td>18                                                                   </td><td> 6                                                                   </td><td><span style=white-space:pre-wrap>Toy     </span>                     </td><td><span style=white-space:pre-wrap>Tan &amp; White  </span>            </td><td> 3.3                                                                 </td><td>Heartworm Negative                                                   </td><td> 1/7/12                                                              </td><td><span style=white-space:pre-wrap>Adoption         </span>            </td><td> 6                                                                   </td></tr>\n",
       "\t<tr><td>K12-000037                                                           </td><td>1/1/12                                                               </td><td>Stray                                                                </td><td>Dog                                                                  </td><td><span style=white-space:pre-wrap>Intact  </span>                     </td><td>Female                                                               </td><td> 3                                                                   </td><td><span style=white-space:pre-wrap>Normal         </span>              </td><td><span style=white-space:pre-wrap>Rat Terrier Mix              </span></td><td>N                                                                    </td><td>...                                                                  </td><td>Y                                                                    </td><td>14                                                                   </td><td>25                                                                   </td><td>Terrier                                                              </td><td>White &amp; Brown                                                    </td><td> 7.5                                                                 </td><td><span style=white-space:pre-wrap>No Lab Test       </span>           </td><td> 1/3/12                                                              </td><td><span style=white-space:pre-wrap>Return to Owner  </span>            </td><td> 2                                                                   </td></tr>\n",
       "\t<tr><td>K12-000108                                                           </td><td>1/1/12                                                               </td><td>Stray                                                                </td><td>Dog                                                                  </td><td><span style=white-space:pre-wrap>Intact  </span>                     </td><td><span style=white-space:pre-wrap>Male  </span>                       </td><td> 2                                                                   </td><td><span style=white-space:pre-wrap>Normal         </span>              </td><td><span style=white-space:pre-wrap>Pit Bull Mix                 </span></td><td>N                                                                    </td><td>...                                                                  </td><td>Y                                                                    </td><td>14                                                                   </td><td>90                                                                   </td><td>Terrier                                                              </td><td>Blue &amp; White                                                     </td><td>74.0                                                                 </td><td>Heartworm Negative                                                   </td><td> 1/13/12                                                             </td><td>Humane Euthanasia                                                    </td><td>12                                                                   </td></tr>\n",
       "\t<tr><td>K12-000125                                                </td><td>1/1/12                                                    </td><td>Stray                                                     </td><td>Dog                                                       </td><td>Neutered                                                  </td><td><span style=white-space:pre-wrap>Male  </span>            </td><td> 0                                                        </td><td><span style=white-space:pre-wrap>Normal         </span>   </td><td>Labrador Retr &amp; Border Collie                         </td><td>N                                                         </td><td>...                                                       </td><td>Y                                                         </td><td>12                                                        </td><td>79                                                        </td><td>Sporting                                                  </td><td>White &amp; Black                                         </td><td>22.0                                                      </td><td><span style=white-space:pre-wrap>No Lab Test       </span></td><td> 1/8/12                                                   </td><td><span style=white-space:pre-wrap>Adoption         </span> </td><td> 7                                                        </td></tr>\n",
       "\t<tr><td>K12-000157                                                           </td><td>1/1/12                                                               </td><td>Stray                                                                </td><td>Dog                                                                  </td><td>Neutered                                                             </td><td><span style=white-space:pre-wrap>Male  </span>                       </td><td> 3                                                                   </td><td>Injured or Sick                                                      </td><td><span style=white-space:pre-wrap>Labrador Retr                </span></td><td>N                                                                    </td><td>...                                                                  </td><td>Y                                                                    </td><td>12                                                                   </td><td>79                                                                   </td><td>Sporting                                                             </td><td>Black &amp; White                                                    </td><td>54.0                                                                 </td><td>Heartworm Negative                                                   </td><td> 4/4/12                                                              </td><td><span style=white-space:pre-wrap>Adoption         </span>            </td><td>94                                                                   </td></tr>\n",
       "\t<tr><td>K12-000286                                                           </td><td>1/1/12                                                               </td><td>Stray                                                                </td><td>Dog                                                                  </td><td>Neutered                                                             </td><td><span style=white-space:pre-wrap>Male  </span>                       </td><td> 5                                                                   </td><td><span style=white-space:pre-wrap>Normal         </span>              </td><td><span style=white-space:pre-wrap>Yorkshire Terr               </span></td><td>N                                                                    </td><td>...                                                                  </td><td>Y                                                                    </td><td>15                                                                   </td><td> 7                                                                   </td><td>Terrier                                                              </td><td>Silver &amp; Tan                                                     </td><td> 4.8                                                                 </td><td>Heartworm Negative                                                   </td><td> 1/10/12                                                             </td><td><span style=white-space:pre-wrap>Return to Owner  </span>            </td><td> 9                                                                   </td></tr>\n",
       "</tbody>\n",
       "</table>\n"
      ],
      "text/latex": [
       "\\begin{tabular}{r|llllllllllllllllllllllll}\n",
       " Impound.No & Intake.Date & Intake.Type & Animal.Type & Neutered.Status & Sex & Age.Intake & Condition & Breed & Aggressive & ... & Good.with.Kids & Max.Life.Expectancy & Max.Weight & Dog.Group & Color & Weight & Lab.Test & Outcome.Date & Outcome.Type & Days.Shelter\\\\\n",
       "\\hline\n",
       "\t K12-000031                    & 1/1/12                        & Stray                         & Dog                           & Spayed                        & Female                        & 10                            & Injured or Sick               & Chihuahua Sh Mix              & N                             & ...                           & N                             & 18                            &  6                            & Toy                           & Tan \\& White                 &  3.3                          & Heartworm Negative            &  1/7/12                       & Adoption                      &  6                           \\\\\n",
       "\t K12-000037                    & 1/1/12                        & Stray                         & Dog                           & Intact                        & Female                        &  3                            & Normal                        & Rat Terrier Mix               & N                             & ...                           & Y                             & 14                            & 25                            & Terrier                       & White \\& Brown               &  7.5                          & No Lab Test                   &  1/3/12                       & Return to Owner               &  2                           \\\\\n",
       "\t K12-000108                    & 1/1/12                        & Stray                         & Dog                           & Intact                        & Male                          &  2                            & Normal                        & Pit Bull Mix                  & N                             & ...                           & Y                             & 14                            & 90                            & Terrier                       & Blue \\& White                & 74.0                          & Heartworm Negative            &  1/13/12                      & Humane Euthanasia             & 12                           \\\\\n",
       "\t K12-000125                      & 1/1/12                          & Stray                           & Dog                             & Neutered                        & Male                            &  0                              & Normal                          & Labrador Retr \\& Border Collie & N                               & ...                             & Y                               & 12                              & 79                              & Sporting                        & White \\& Black                 & 22.0                            & No Lab Test                     &  1/8/12                         & Adoption                        &  7                             \\\\\n",
       "\t K12-000157                    & 1/1/12                        & Stray                         & Dog                           & Neutered                      & Male                          &  3                            & Injured or Sick               & Labrador Retr                 & N                             & ...                           & Y                             & 12                            & 79                            & Sporting                      & Black \\& White               & 54.0                          & Heartworm Negative            &  4/4/12                       & Adoption                      & 94                           \\\\\n",
       "\t K12-000286                    & 1/1/12                        & Stray                         & Dog                           & Neutered                      & Male                          &  5                            & Normal                        & Yorkshire Terr                & N                             & ...                           & Y                             & 15                            &  7                            & Terrier                       & Silver \\& Tan                &  4.8                          & Heartworm Negative            &  1/10/12                      & Return to Owner               &  9                           \\\\\n",
       "\\end{tabular}\n"
      ],
      "text/markdown": [
       "\n",
       "| Impound.No | Intake.Date | Intake.Type | Animal.Type | Neutered.Status | Sex | Age.Intake | Condition | Breed | Aggressive | ... | Good.with.Kids | Max.Life.Expectancy | Max.Weight | Dog.Group | Color | Weight | Lab.Test | Outcome.Date | Outcome.Type | Days.Shelter |\n",
       "|---|---|---|---|---|---|---|---|---|---|---|---|---|---|---|---|---|---|---|---|---|\n",
       "| K12-000031                    | 1/1/12                        | Stray                         | Dog                           | Spayed                        | Female                        | 10                            | Injured or Sick               | Chihuahua Sh Mix              | N                             | ...                           | N                             | 18                            |  6                            | Toy                           | Tan & White                   |  3.3                          | Heartworm Negative            |  1/7/12                       | Adoption                      |  6                            |\n",
       "| K12-000037                    | 1/1/12                        | Stray                         | Dog                           | Intact                        | Female                        |  3                            | Normal                        | Rat Terrier Mix               | N                             | ...                           | Y                             | 14                            | 25                            | Terrier                       | White & Brown                 |  7.5                          | No Lab Test                   |  1/3/12                       | Return to Owner               |  2                            |\n",
       "| K12-000108                    | 1/1/12                        | Stray                         | Dog                           | Intact                        | Male                          |  2                            | Normal                        | Pit Bull Mix                  | N                             | ...                           | Y                             | 14                            | 90                            | Terrier                       | Blue & White                  | 74.0                          | Heartworm Negative            |  1/13/12                      | Humane Euthanasia             | 12                            |\n",
       "| K12-000125                    | 1/1/12                        | Stray                         | Dog                           | Neutered                      | Male                          |  0                            | Normal                        | Labrador Retr & Border Collie | N                             | ...                           | Y                             | 12                            | 79                            | Sporting                      | White & Black                 | 22.0                          | No Lab Test                   |  1/8/12                       | Adoption                      |  7                            |\n",
       "| K12-000157                    | 1/1/12                        | Stray                         | Dog                           | Neutered                      | Male                          |  3                            | Injured or Sick               | Labrador Retr                 | N                             | ...                           | Y                             | 12                            | 79                            | Sporting                      | Black & White                 | 54.0                          | Heartworm Negative            |  4/4/12                       | Adoption                      | 94                            |\n",
       "| K12-000286                    | 1/1/12                        | Stray                         | Dog                           | Neutered                      | Male                          |  5                            | Normal                        | Yorkshire Terr                | N                             | ...                           | Y                             | 15                            |  7                            | Terrier                       | Silver & Tan                  |  4.8                          | Heartworm Negative            |  1/10/12                      | Return to Owner               |  9                            |\n",
       "\n"
      ],
      "text/plain": [
       "  Impound.No Intake.Date Intake.Type Animal.Type Neutered.Status Sex   \n",
       "1 K12-000031 1/1/12      Stray       Dog         Spayed          Female\n",
       "2 K12-000037 1/1/12      Stray       Dog         Intact          Female\n",
       "3 K12-000108 1/1/12      Stray       Dog         Intact          Male  \n",
       "4 K12-000125 1/1/12      Stray       Dog         Neutered        Male  \n",
       "5 K12-000157 1/1/12      Stray       Dog         Neutered        Male  \n",
       "6 K12-000286 1/1/12      Stray       Dog         Neutered        Male  \n",
       "  Age.Intake Condition       Breed                         Aggressive ...\n",
       "1 10         Injured or Sick Chihuahua Sh Mix              N          ...\n",
       "2  3         Normal          Rat Terrier Mix               N          ...\n",
       "3  2         Normal          Pit Bull Mix                  N          ...\n",
       "4  0         Normal          Labrador Retr & Border Collie N          ...\n",
       "5  3         Injured or Sick Labrador Retr                 N          ...\n",
       "6  5         Normal          Yorkshire Terr                N          ...\n",
       "  Good.with.Kids Max.Life.Expectancy Max.Weight Dog.Group Color         Weight\n",
       "1 N              18                   6         Toy       Tan & White    3.3  \n",
       "2 Y              14                  25         Terrier   White & Brown  7.5  \n",
       "3 Y              14                  90         Terrier   Blue & White  74.0  \n",
       "4 Y              12                  79         Sporting  White & Black 22.0  \n",
       "5 Y              12                  79         Sporting  Black & White 54.0  \n",
       "6 Y              15                   7         Terrier   Silver & Tan   4.8  \n",
       "  Lab.Test           Outcome.Date Outcome.Type      Days.Shelter\n",
       "1 Heartworm Negative  1/7/12      Adoption           6          \n",
       "2 No Lab Test         1/3/12      Return to Owner    2          \n",
       "3 Heartworm Negative  1/13/12     Humane Euthanasia 12          \n",
       "4 No Lab Test         1/8/12      Adoption           7          \n",
       "5 Heartworm Negative  4/4/12      Adoption          94          \n",
       "6 Heartworm Negative  1/10/12     Return to Owner    9          "
      ]
     },
     "metadata": {},
     "output_type": "display_data"
    }
   ],
   "source": [
    ".libPaths('C:\\\\Program Files\\\\R\\\\R-3.6.1\\\\library')\n",
    "library(SDSFoundations)\n",
    "head(ad <- AnimalData)"
   ]
  },
  {
   "cell_type": "markdown",
   "metadata": {},
   "source": [
    "# What was the most common way that dogs arrived in the shelter?"
   ]
  },
  {
   "cell_type": "code",
   "execution_count": 3,
   "metadata": {},
   "outputs": [],
   "source": [
    "dogs <- ad[ad$Animal.Type=='Dog',]"
   ]
  },
  {
   "cell_type": "code",
   "execution_count": 4,
   "metadata": {},
   "outputs": [
    {
     "data": {
      "text/plain": [
       "\n",
       "Euthanasia Request    Owner Surrender      Public Assist              Stray \n",
       "                 1                 81                 20                189 "
      ]
     },
     "metadata": {},
     "output_type": "display_data"
    }
   ],
   "source": [
    "table(dogs$Intake.Type)"
   ]
  },
  {
   "cell_type": "markdown",
   "metadata": {},
   "source": [
    "# What proportion of dogs were brought to the shelter as an owner surrender? (Round to 3 decimal places.)"
   ]
  },
  {
   "cell_type": "code",
   "execution_count": 5,
   "metadata": {},
   "outputs": [
    {
     "name": "stdout",
     "output_type": "stream",
     "text": [
      " 'table' int [1:4(1d)] 1 81 20 189\n",
      " - attr(*, \"dimnames\")=List of 1\n",
      "  ..$ : chr [1:4] \"Euthanasia Request\" \"Owner Surrender\" \"Public Assist\" \"Stray\"\n"
     ]
    }
   ],
   "source": [
    "str(table(dogs$Intake.Type))"
   ]
  },
  {
   "cell_type": "code",
   "execution_count": 22,
   "metadata": {},
   "outputs": [],
   "source": [
    "intaketypes <- table(dogs$Intake.Type)"
   ]
  },
  {
   "cell_type": "code",
   "execution_count": 23,
   "metadata": {},
   "outputs": [
    {
     "data": {
      "text/plain": [
       "\n",
       "Euthanasia Request    Owner Surrender      Public Assist              Stray \n",
       "                 1                 81                 20                189 "
      ]
     },
     "metadata": {},
     "output_type": "display_data"
    }
   ],
   "source": [
    "intaketypes"
   ]
  },
  {
   "cell_type": "code",
   "execution_count": 24,
   "metadata": {},
   "outputs": [
    {
     "data": {
      "text/html": [
       "291"
      ],
      "text/latex": [
       "291"
      ],
      "text/markdown": [
       "291"
      ],
      "text/plain": [
       "[1] 291"
      ]
     },
     "metadata": {},
     "output_type": "display_data"
    }
   ],
   "source": [
    "sum(intaketypes)"
   ]
  },
  {
   "cell_type": "code",
   "execution_count": 25,
   "metadata": {},
   "outputs": [
    {
     "data": {
      "text/html": [
       "<strong>Owner Surrender:</strong> 27.835"
      ],
      "text/latex": [
       "\\textbf{Owner Surrender:} 27.835"
      ],
      "text/markdown": [
       "**Owner Surrender:** 27.835"
      ],
      "text/plain": [
       "Owner Surrender \n",
       "         27.835 "
      ]
     },
     "metadata": {},
     "output_type": "display_data"
    }
   ],
   "source": [
    "round((intaketypes['Owner Surrender']/sum(intaketypes)) * 100 , 3)"
   ]
  },
  {
   "cell_type": "markdown",
   "metadata": {},
   "source": [
    "# Of the dogs that were brought to the shelter as an owner surrender, how many were returned to their owner?"
   ]
  },
  {
   "cell_type": "code",
   "execution_count": 26,
   "metadata": {},
   "outputs": [],
   "source": [
    "os <- dogs[dogs$Intake.Type == 'Owner Surrender',]"
   ]
  },
  {
   "cell_type": "code",
   "execution_count": 27,
   "metadata": {},
   "outputs": [
    {
     "data": {
      "text/plain": [
       "\n",
       "         Adoption              Died Humane Euthanasia   Return to Owner \n",
       "               33                 0                13                 2 \n",
       "         Transfer \n",
       "               33 "
      ]
     },
     "metadata": {},
     "output_type": "display_data"
    }
   ],
   "source": [
    "table(os$Outcome.Type)"
   ]
  },
  {
   "cell_type": "markdown",
   "metadata": {},
   "source": [
    "# What was the mean number of days that the dogs referenced in Question 1c spent at the shelter before being returned to their owner? (Round to 1 decimal place.)"
   ]
  },
  {
   "cell_type": "code",
   "execution_count": 29,
   "metadata": {},
   "outputs": [
    {
     "data": {
      "text/html": [
       "13.4"
      ],
      "text/latex": [
       "13.4"
      ],
      "text/markdown": [
       "13.4"
      ],
      "text/plain": [
       "[1] 13.4"
      ]
     },
     "metadata": {},
     "output_type": "display_data"
    }
   ],
   "source": [
    "round(mean(os$Days.Shelter),1)"
   ]
  },
  {
   "cell_type": "markdown",
   "metadata": {},
   "source": [
    "# Question 2 "
   ]
  },
  {
   "cell_type": "code",
   "execution_count": 30,
   "metadata": {},
   "outputs": [],
   "source": [
    "std_hours <- c(20,20,15,15,15,10,5)"
   ]
  },
  {
   "cell_type": "code",
   "execution_count": 33,
   "metadata": {},
   "outputs": [],
   "source": [
    "total_students <- 600/15"
   ]
  },
  {
   "cell_type": "code",
   "execution_count": 34,
   "metadata": {},
   "outputs": [
    {
     "data": {
      "text/html": [
       "40"
      ],
      "text/latex": [
       "40"
      ],
      "text/markdown": [
       "40"
      ],
      "text/plain": [
       "[1] 40"
      ]
     },
     "metadata": {},
     "output_type": "display_data"
    }
   ],
   "source": [
    "total_students"
   ]
  },
  {
   "cell_type": "code",
   "execution_count": 36,
   "metadata": {},
   "outputs": [
    {
     "data": {
      "image/png": "[encoded data removed]",
      "text/plain": [
       "plot without title"
      ]
     },
     "metadata": {},
     "output_type": "display_data"
    }
   ],
   "source": [
    "plot(std_hours)"
   ]
  },
  {
   "cell_type": "markdown",
   "metadata": {},
   "source": [
    "# Question 4"
   ]
  },
  {
   "cell_type": "code",
   "execution_count": 37,
   "metadata": {},
   "outputs": [],
   "source": [
    "mean_sleep <- 6.7\n",
    "std_dev <- 1.1"
   ]
  },
  {
   "cell_type": "markdown",
   "metadata": {},
   "source": [
    "### If an adult has a z-score of -1.5, how many hours of sleep does this person get per night? (Report to 2 decimal places.)"
   ]
  },
  {
   "cell_type": "code",
   "execution_count": 38,
   "metadata": {},
   "outputs": [],
   "source": [
    "zs_1 <- -1.5"
   ]
  },
  {
   "cell_type": "code",
   "execution_count": 39,
   "metadata": {},
   "outputs": [
    {
     "data": {
      "text/html": [
       "-1.5"
      ],
      "text/latex": [
       "-1.5"
      ],
      "text/markdown": [
       "-1.5"
      ],
      "text/plain": [
       "[1] -1.5"
      ]
     },
     "metadata": {},
     "output_type": "display_data"
    }
   ],
   "source": [
    "zs_1"
   ]
  },
  {
   "cell_type": "code",
   "execution_count": 40,
   "metadata": {},
   "outputs": [
    {
     "data": {
      "text/html": [
       "5.05"
      ],
      "text/latex": [
       "5.05"
      ],
      "text/markdown": [
       "5.05"
      ],
      "text/plain": [
       "[1] 5.05"
      ]
     },
     "metadata": {},
     "output_type": "display_data"
    }
   ],
   "source": [
    "(zs_1*std_dev)+mean_sleep"
   ]
  },
  {
   "cell_type": "code",
   "execution_count": 41,
   "metadata": {},
   "outputs": [
    {
     "data": {
      "text/html": [
       "-1.65"
      ],
      "text/latex": [
       "-1.65"
      ],
      "text/markdown": [
       "-1.65"
      ],
      "text/plain": [
       "[1] -1.65"
      ]
     },
     "metadata": {},
     "output_type": "display_data"
    }
   ],
   "source": [
    "zs_1*std_dev"
   ]
  },
  {
   "cell_type": "markdown",
   "metadata": {},
   "source": [
    "### What proportion of adults sleep longer than 4.5 hours per night? (Report to 3 decimal places.)"
   ]
  },
  {
   "cell_type": "code",
   "execution_count": 42,
   "metadata": {},
   "outputs": [],
   "source": [
    "zs_2 = (4.5 - mean_sleep)/std_dev"
   ]
  },
  {
   "cell_type": "code",
   "execution_count": 43,
   "metadata": {},
   "outputs": [
    {
     "data": {
      "text/html": [
       "-2"
      ],
      "text/latex": [
       "-2"
      ],
      "text/markdown": [
       "-2"
      ],
      "text/plain": [
       "[1] -2"
      ]
     },
     "metadata": {},
     "output_type": "display_data"
    }
   ],
   "source": [
    "zs_2"
   ]
  },
  {
   "cell_type": "code",
   "execution_count": 44,
   "metadata": {},
   "outputs": [
    {
     "data": {
      "text/html": [
       "0.0227501319481792"
      ],
      "text/latex": [
       "0.0227501319481792"
      ],
      "text/markdown": [
       "0.0227501319481792"
      ],
      "text/plain": [
       "[1] 0.02275013"
      ]
     },
     "metadata": {},
     "output_type": "display_data"
    }
   ],
   "source": [
    "pnorm(zs_2)"
   ]
  },
  {
   "cell_type": "code",
   "execution_count": 51,
   "metadata": {},
   "outputs": [
    {
     "data": {
      "text/html": [
       "0.977"
      ],
      "text/latex": [
       "0.977"
      ],
      "text/markdown": [
       "0.977"
      ],
      "text/plain": [
       "[1] 0.977"
      ]
     },
     "metadata": {},
     "output_type": "display_data"
    }
   ],
   "source": [
    "round((1-pnorm(zs_2)),3)"
   ]
  },
  {
   "cell_type": "markdown",
   "metadata": {},
   "source": [
    "### What proportion of adults sleep between 5.38 and 8.79 hours of sleep? (Report to 3 decimal places.)"
   ]
  },
  {
   "cell_type": "code",
   "execution_count": 47,
   "metadata": {},
   "outputs": [],
   "source": [
    "zs_3 = (5.38 - mean_sleep)/std_dev\n",
    "zs_4 = (8.79 - mean_sleep)/std_dev"
   ]
  },
  {
   "cell_type": "code",
   "execution_count": 48,
   "metadata": {},
   "outputs": [
    {
     "data": {
      "text/html": [
       "-1.2"
      ],
      "text/latex": [
       "-1.2"
      ],
      "text/markdown": [
       "-1.2"
      ],
      "text/plain": [
       "[1] -1.2"
      ]
     },
     "metadata": {},
     "output_type": "display_data"
    },
    {
     "data": {
      "text/html": [
       "1.9"
      ],
      "text/latex": [
       "1.9"
      ],
      "text/markdown": [
       "1.9"
      ],
      "text/plain": [
       "[1] 1.9"
      ]
     },
     "metadata": {},
     "output_type": "display_data"
    }
   ],
   "source": [
    "zs_3\n",
    "zs_4"
   ]
  },
  {
   "cell_type": "code",
   "execution_count": 52,
   "metadata": {},
   "outputs": [
    {
     "data": {
      "text/html": [
       "0.856"
      ],
      "text/latex": [
       "0.856"
      ],
      "text/markdown": [
       "0.856"
      ],
      "text/plain": [
       "[1] 0.856"
      ]
     },
     "metadata": {},
     "output_type": "display_data"
    }
   ],
   "source": [
    "pro <- (pnorm(zs_4))-(pnorm(zs_3))\n",
    "round(pro,3)"
   ]
  },
  {
   "cell_type": "code",
   "execution_count": null,
   "metadata": {},
   "outputs": [],
   "source": []
  }
 ],
 "metadata": {
  "kernelspec": {
   "display_name": "R",
   "language": "R",
   "name": "ir"
  },
  "language_info": {
   "codemirror_mode": "r",
   "file_extension": ".r",
   "mimetype": "text/x-r-source",
   "name": "R",
   "pygments_lexer": "r",
   "version": "3.6.1"
  }
 },
 "nbformat": 4,
 "nbformat_minor": 2
}

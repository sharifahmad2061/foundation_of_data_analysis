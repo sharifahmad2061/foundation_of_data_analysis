{
 "cells": [
  {
   "cell_type": "markdown",
   "metadata": {},
   "source": [
    "## Import stuff"
   ]
  },
  {
   "cell_type": "code",
   "execution_count": 5,
   "metadata": {},
   "outputs": [],
   "source": [
    "library(SDSFoundations, lib.loc = 'C:\\\\Program Files\\\\R\\\\R-3.6.1\\\\library')\n",
    "wbd <- WorldBankData"
   ]
  },
  {
   "cell_type": "code",
   "execution_count": 6,
   "metadata": {},
   "outputs": [
    {
     "name": "stdout",
     "output_type": "stream",
     "text": [
      "'data.frame':\t13303 obs. of  14 variables:\n",
      " $ Country         : Factor w/ 251 levels \"Afghanistan\",..: 11 11 11 11 11 11 11 11 11 11 ...\n",
      " $ Country.Code    : Factor w/ 251 levels \"ABW\",\"AFG\",\"AGO\",..: 1 1 1 1 1 1 1 1 1 1 ...\n",
      " $ year            : int  1960 1961 1962 1963 1964 1965 1966 1967 1968 1969 ...\n",
      " $ Region          : Factor w/ 8 levels \"\",\"East Asia & Pacific\",..: 4 4 4 4 4 4 4 4 4 4 ...\n",
      " $ IncomeGroup     : Factor w/ 5 levels \"\",\"High income\",..: 2 2 2 2 2 2 2 2 2 2 ...\n",
      " $ population      : num  54208 55435 56226 56697 57029 ...\n",
      " $ rural.population: num  26683 27296 27694 27934 28107 ...\n",
      " $ hiv.cases       : int  NA NA NA NA NA NA NA NA NA NA ...\n",
      " $ san.access      : num  NA NA NA NA NA NA NA NA NA NA ...\n",
      " $ motor.vehicles  : int  NA NA NA NA NA NA NA NA NA NA ...\n",
      " $ gas.price       : num  NA NA NA NA NA NA NA NA NA NA ...\n",
      " $ co2.emission    : num  NA NA NA NA NA NA NA NA NA NA ...\n",
      " $ mobile.users    : num  0 NA NA NA NA 0 NA NA NA NA ...\n",
      " $ internet.users  : num  NA NA NA NA NA NA NA NA NA NA ...\n"
     ]
    }
   ],
   "source": [
    "str(wbd)"
   ]
  },
  {
   "cell_type": "code",
   "execution_count": 11,
   "metadata": {},
   "outputs": [],
   "source": [
    "us <- wbd[wbd$Country.Code == 'USA',]"
   ]
  },
  {
   "cell_type": "code",
   "execution_count": 12,
   "metadata": {},
   "outputs": [
    {
     "name": "stdout",
     "output_type": "stream",
     "text": [
      "'data.frame':\t53 obs. of  14 variables:\n",
      " $ Country         : Factor w/ 251 levels \"Afghanistan\",..: 239 239 239 239 239 239 239 239 239 239 ...\n",
      " $ Country.Code    : Factor w/ 251 levels \"ABW\",\"AFG\",\"AGO\",..: 239 239 239 239 239 239 239 239 239 239 ...\n",
      " $ year            : int  1960 1961 1962 1963 1964 1965 1966 1967 1968 1969 ...\n",
      " $ Region          : Factor w/ 8 levels \"\",\"East Asia & Pacific\",..: 6 6 6 6 6 6 6 6 6 6 ...\n",
      " $ IncomeGroup     : Factor w/ 5 levels \"\",\"High income\",..: 2 2 2 2 2 2 2 2 2 2 ...\n",
      " $ population      : num  1.81e+08 1.84e+08 1.87e+08 1.89e+08 1.92e+08 ...\n",
      " $ rural.population: num  54208527 54422867 54563857 54642114 54683760 ...\n",
      " $ hiv.cases       : int  NA NA NA NA NA NA NA NA NA NA ...\n",
      " $ san.access      : num  NA NA NA NA NA NA NA NA NA NA ...\n",
      " $ motor.vehicles  : int  NA NA NA NA NA NA NA NA NA NA ...\n",
      " $ gas.price       : num  NA NA NA NA NA NA NA NA NA NA ...\n",
      " $ co2.emission    : num  2890696 2880506 2987208 3119231 3255995 ...\n",
      " $ mobile.users    : num  0 NA NA NA NA 0 NA NA NA NA ...\n",
      " $ internet.users  : num  NA NA NA NA NA NA NA NA NA NA ...\n"
     ]
    }
   ],
   "source": [
    "str(us)"
   ]
  },
  {
   "cell_type": "code",
   "execution_count": 14,
   "metadata": {},
   "outputs": [],
   "source": [
    "us1990 = us[us$year >= 1990 & us$year < 2000,]"
   ]
  },
  {
   "cell_type": "code",
   "execution_count": 15,
   "metadata": {},
   "outputs": [
    {
     "data": {
      "text/html": [
       "<table>\n",
       "<thead><tr><th></th><th scope=col>Country</th><th scope=col>Country.Code</th><th scope=col>year</th><th scope=col>Region</th><th scope=col>IncomeGroup</th><th scope=col>population</th><th scope=col>rural.population</th><th scope=col>hiv.cases</th><th scope=col>san.access</th><th scope=col>motor.vehicles</th><th scope=col>gas.price</th><th scope=col>co2.emission</th><th scope=col>mobile.users</th><th scope=col>internet.users</th></tr></thead>\n",
       "<tbody>\n",
       "\t<tr><th scope=row>12645</th><td>United States</td><td>USA          </td><td>1990         </td><td>North America</td><td>High income  </td><td>249623000    </td><td>61656881     </td><td>NA           </td><td>248382203    </td><td>NA           </td><td>  NA         </td><td>4768138      </td><td> 5181680     </td><td>  1958863    </td></tr>\n",
       "\t<tr><th scope=row>12646</th><td>United States</td><td>USA          </td><td>1991         </td><td>North America</td><td>High income  </td><td>252981000    </td><td>61499681     </td><td>NA           </td><td>       NA    </td><td>NA           </td><td>  NA         </td><td>4826703      </td><td> 7436741     </td><td>  2942659    </td></tr>\n",
       "\t<tr><th scope=row>12647</th><td>United States</td><td>USA          </td><td>1992         </td><td>North America</td><td>High income  </td><td>256514000    </td><td>61358149     </td><td>NA           </td><td>       NA    </td><td>NA           </td><td>0.32         </td><td>4922196      </td><td>10899406     </td><td>  4422821    </td></tr>\n",
       "\t<tr><th scope=row>12648</th><td>United States</td><td>USA          </td><td>1993         </td><td>North America</td><td>High income  </td><td>259919000    </td><td>61158941     </td><td>NA           </td><td>       NA    </td><td>NA           </td><td>  NA         </td><td>5029767      </td><td>15864719     </td><td>  5904511    </td></tr>\n",
       "\t<tr><th scope=row>12649</th><td>United States</td><td>USA          </td><td>1994         </td><td>North America</td><td>High income  </td><td>263126000    </td><td>60887356     </td><td>NA           </td><td>       NA    </td><td>NA           </td><td>  NA         </td><td>5121560      </td><td>23957416     </td><td> 12795240    </td></tr>\n",
       "\t<tr><th scope=row>12650</th><td>United States</td><td>USA          </td><td>1995         </td><td>North America</td><td>High income  </td><td>266278000    </td><td>60578245     </td><td>NA           </td><td>265291863    </td><td>NA           </td><td>0.34         </td><td>5156169      </td><td>33563609     </td><td> 24596334    </td></tr>\n",
       "\t<tr><th scope=row>12651</th><td>United States</td><td>USA          </td><td>1996         </td><td>North America</td><td>High income  </td><td>269394000    </td><td>60296304     </td><td>NA           </td><td>       NA    </td><td>NA           </td><td>  NA         </td><td>5286047      </td><td>43744608     </td><td> 44232752    </td></tr>\n",
       "\t<tr><th scope=row>12652</th><td>United States</td><td>USA          </td><td>1997         </td><td>North America</td><td>High income  </td><td>272657000    </td><td>60023803     </td><td>NA           </td><td>       NA    </td><td>NA           </td><td>  NA         </td><td>5419441      </td><td>54919622     </td><td> 58938630    </td></tr>\n",
       "\t<tr><th scope=row>12653</th><td>United States</td><td>USA          </td><td>1998         </td><td>North America</td><td>High income  </td><td>275854000    </td><td>59713012     </td><td>NA           </td><td>       NA    </td><td>NA           </td><td>0.32         </td><td>5456093      </td><td>68661825     </td><td> 83013287    </td></tr>\n",
       "\t<tr><th scope=row>12654</th><td>United States</td><td>USA          </td><td>1999         </td><td>North America</td><td>High income  </td><td>279040000    </td><td>59376364     </td><td>NA           </td><td>       NA    </td><td>NA           </td><td>  NA         </td><td>5531692      </td><td>85319558     </td><td>100032281    </td></tr>\n",
       "</tbody>\n",
       "</table>\n"
      ],
      "text/latex": [
       "\\begin{tabular}{r|llllllllllllll}\n",
       "  & Country & Country.Code & year & Region & IncomeGroup & population & rural.population & hiv.cases & san.access & motor.vehicles & gas.price & co2.emission & mobile.users & internet.users\\\\\n",
       "\\hline\n",
       "\t12645 & United States & USA           & 1990          & North America & High income   & 249623000     & 61656881      & NA            & 248382203     & NA            &   NA          & 4768138       &  5181680      &   1958863    \\\\\n",
       "\t12646 & United States & USA           & 1991          & North America & High income   & 252981000     & 61499681      & NA            &        NA     & NA            &   NA          & 4826703       &  7436741      &   2942659    \\\\\n",
       "\t12647 & United States & USA           & 1992          & North America & High income   & 256514000     & 61358149      & NA            &        NA     & NA            & 0.32          & 4922196       & 10899406      &   4422821    \\\\\n",
       "\t12648 & United States & USA           & 1993          & North America & High income   & 259919000     & 61158941      & NA            &        NA     & NA            &   NA          & 5029767       & 15864719      &   5904511    \\\\\n",
       "\t12649 & United States & USA           & 1994          & North America & High income   & 263126000     & 60887356      & NA            &        NA     & NA            &   NA          & 5121560       & 23957416      &  12795240    \\\\\n",
       "\t12650 & United States & USA           & 1995          & North America & High income   & 266278000     & 60578245      & NA            & 265291863     & NA            & 0.34          & 5156169       & 33563609      &  24596334    \\\\\n",
       "\t12651 & United States & USA           & 1996          & North America & High income   & 269394000     & 60296304      & NA            &        NA     & NA            &   NA          & 5286047       & 43744608      &  44232752    \\\\\n",
       "\t12652 & United States & USA           & 1997          & North America & High income   & 272657000     & 60023803      & NA            &        NA     & NA            &   NA          & 5419441       & 54919622      &  58938630    \\\\\n",
       "\t12653 & United States & USA           & 1998          & North America & High income   & 275854000     & 59713012      & NA            &        NA     & NA            & 0.32          & 5456093       & 68661825      &  83013287    \\\\\n",
       "\t12654 & United States & USA           & 1999          & North America & High income   & 279040000     & 59376364      & NA            &        NA     & NA            &   NA          & 5531692       & 85319558      & 100032281    \\\\\n",
       "\\end{tabular}\n"
      ],
      "text/markdown": [
       "\n",
       "| <!--/--> | Country | Country.Code | year | Region | IncomeGroup | population | rural.population | hiv.cases | san.access | motor.vehicles | gas.price | co2.emission | mobile.users | internet.users |\n",
       "|---|---|---|---|---|---|---|---|---|---|---|---|---|---|---|\n",
       "| 12645 | United States | USA           | 1990          | North America | High income   | 249623000     | 61656881      | NA            | 248382203     | NA            |   NA          | 4768138       |  5181680      |   1958863     |\n",
       "| 12646 | United States | USA           | 1991          | North America | High income   | 252981000     | 61499681      | NA            |        NA     | NA            |   NA          | 4826703       |  7436741      |   2942659     |\n",
       "| 12647 | United States | USA           | 1992          | North America | High income   | 256514000     | 61358149      | NA            |        NA     | NA            | 0.32          | 4922196       | 10899406      |   4422821     |\n",
       "| 12648 | United States | USA           | 1993          | North America | High income   | 259919000     | 61158941      | NA            |        NA     | NA            |   NA          | 5029767       | 15864719      |   5904511     |\n",
       "| 12649 | United States | USA           | 1994          | North America | High income   | 263126000     | 60887356      | NA            |        NA     | NA            |   NA          | 5121560       | 23957416      |  12795240     |\n",
       "| 12650 | United States | USA           | 1995          | North America | High income   | 266278000     | 60578245      | NA            | 265291863     | NA            | 0.34          | 5156169       | 33563609      |  24596334     |\n",
       "| 12651 | United States | USA           | 1996          | North America | High income   | 269394000     | 60296304      | NA            |        NA     | NA            |   NA          | 5286047       | 43744608      |  44232752     |\n",
       "| 12652 | United States | USA           | 1997          | North America | High income   | 272657000     | 60023803      | NA            |        NA     | NA            |   NA          | 5419441       | 54919622      |  58938630     |\n",
       "| 12653 | United States | USA           | 1998          | North America | High income   | 275854000     | 59713012      | NA            |        NA     | NA            | 0.32          | 5456093       | 68661825      |  83013287     |\n",
       "| 12654 | United States | USA           | 1999          | North America | High income   | 279040000     | 59376364      | NA            |        NA     | NA            |   NA          | 5531692       | 85319558      | 100032281     |\n",
       "\n"
      ],
      "text/plain": [
       "      Country       Country.Code year Region        IncomeGroup population\n",
       "12645 United States USA          1990 North America High income 249623000 \n",
       "12646 United States USA          1991 North America High income 252981000 \n",
       "12647 United States USA          1992 North America High income 256514000 \n",
       "12648 United States USA          1993 North America High income 259919000 \n",
       "12649 United States USA          1994 North America High income 263126000 \n",
       "12650 United States USA          1995 North America High income 266278000 \n",
       "12651 United States USA          1996 North America High income 269394000 \n",
       "12652 United States USA          1997 North America High income 272657000 \n",
       "12653 United States USA          1998 North America High income 275854000 \n",
       "12654 United States USA          1999 North America High income 279040000 \n",
       "      rural.population hiv.cases san.access motor.vehicles gas.price\n",
       "12645 61656881         NA        248382203  NA               NA     \n",
       "12646 61499681         NA               NA  NA               NA     \n",
       "12647 61358149         NA               NA  NA             0.32     \n",
       "12648 61158941         NA               NA  NA               NA     \n",
       "12649 60887356         NA               NA  NA               NA     \n",
       "12650 60578245         NA        265291863  NA             0.34     \n",
       "12651 60296304         NA               NA  NA               NA     \n",
       "12652 60023803         NA               NA  NA               NA     \n",
       "12653 59713012         NA               NA  NA             0.32     \n",
       "12654 59376364         NA               NA  NA               NA     \n",
       "      co2.emission mobile.users internet.users\n",
       "12645 4768138       5181680       1958863     \n",
       "12646 4826703       7436741       2942659     \n",
       "12647 4922196      10899406       4422821     \n",
       "12648 5029767      15864719       5904511     \n",
       "12649 5121560      23957416      12795240     \n",
       "12650 5156169      33563609      24596334     \n",
       "12651 5286047      43744608      44232752     \n",
       "12652 5419441      54919622      58938630     \n",
       "12653 5456093      68661825      83013287     \n",
       "12654 5531692      85319558     100032281     "
      ]
     },
     "metadata": {},
     "output_type": "display_data"
    }
   ],
   "source": [
    "us1990"
   ]
  },
  {
   "cell_type": "code",
   "execution_count": null,
   "metadata": {},
   "outputs": [],
   "source": []
  }
 ],
 "metadata": {
  "kernelspec": {
   "display_name": "R",
   "language": "R",
   "name": "ir"
  },
  "language_info": {
   "codemirror_mode": "r",
   "file_extension": ".r",
   "mimetype": "text/x-r-source",
   "name": "R",
   "pygments_lexer": "r",
   "version": "3.6.1"
  }
 },
 "nbformat": 4,
 "nbformat_minor": 4
}

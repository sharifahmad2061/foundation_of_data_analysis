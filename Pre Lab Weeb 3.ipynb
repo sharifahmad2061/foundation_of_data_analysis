{
 "cells": [
  {
   "cell_type": "markdown",
   "metadata": {},
   "source": [
    "# Import data"
   ]
  },
  {
   "cell_type": "code",
   "execution_count": 6,
   "metadata": {},
   "outputs": [],
   "source": [
    ".libPaths('C:\\\\Program Files\\\\R\\\\R-3.6.1\\\\library')\n",
    "library(SDSFoundations)\n",
    "br = BullRiders"
   ]
  },
  {
   "cell_type": "code",
   "execution_count": 2,
   "metadata": {},
   "outputs": [
    {
     "name": "stdout",
     "output_type": "stream",
     "text": [
      "'data.frame':\t58 obs. of  44 variables:\n",
      " $ Rider             : chr  \"Joao Ricardo Vieira\" \"Matt Triplett\" \"J.B. Mauney\" \"Kaique Pacheco\" ...\n",
      " $ Rank15            : int  1 2 3 4 5 6 7 8 9 10 ...\n",
      " $ Country           : chr  \"BRA\" \"USA\" \"USA\" \"BRA\" ...\n",
      " $ YearBorn          : int  1984 1991 1987 1994 1990 1979 1982 1987 1989 1986 ...\n",
      " $ Height            : int  66 67 70 68 73 72 70 67 68 70 ...\n",
      " $ Weight            : int  163 160 140 145 160 170 180 150 135 160 ...\n",
      " $ YearsPro          : int  3 4 10 2 6 9 16 7 9 10 ...\n",
      " $ Events14          : int  28 28 22 1 15 28 28 28 12 14 ...\n",
      " $ BuckOuts14        : int  93 86 63 1 41 81 90 92 30 37 ...\n",
      " $ Rides14           : int  41 33 25 0 17 29 41 50 8 16 ...\n",
      " $ CupPoints14       : num  9520 7494 4974 1672 3240 ...\n",
      " $ Rank14            : int  2 3 4 0 31 17 8 1 54 9 ...\n",
      " $ RidePer14         : num  0.441 0.384 0.397 0 0.415 ...\n",
      " $ RidesPer_45bull_14: num  0 0.2 0.5 0 0 ...\n",
      " $ Rides90pts_14     : int  5 2 4 0 0 1 2 1 0 2 ...\n",
      " $ Wins14            : int  2 0 2 0 1 2 1 0 0 0 ...\n",
      " $ Top5_14           : int  10 4 5 0 1 5 6 7 1 2 ...\n",
      " $ Top10_14          : int  14 11 5 0 3 8 15 12 2 4 ...\n",
      " $ FinalPoints14     : num  1152.8 2743.2 4553.5 0 83.5 ...\n",
      " $ Earnings14        : num  328121 258026 497598 32978 77426 ...\n",
      " $ Events13          : int  22 9 26 0 24 19 27 27 11 0 ...\n",
      " $ BuckOuts13        : int  72 26 90 0 66 53 84 91 26 0 ...\n",
      " $ Rides13           : int  35 11 47 0 22 25 39 50 6 0 ...\n",
      " $ CupPoints13       : num  8749 2827 10399 0 4304 ...\n",
      " $ Rank13            : int  3 26 1 0 25 16 4 2 42 0 ...\n",
      " $ RidePer13         : num  0.486 0.423 0.522 0 0.333 ...\n",
      " $ RidesPer_45bull_13: num  0.375 1 0.267 0 0 ...\n",
      " $ Rides90pts_13     : int  4 1 8 0 0 0 0 3 0 0 ...\n",
      " $ Wins13            : int  3 0 5 0 0 0 2 3 0 0 ...\n",
      " $ Top5_13           : int  5 1 11 0 2 6 5 11 1 0 ...\n",
      " $ Top10_13          : int  9 2 14 0 2 6 11 13 2 0 ...\n",
      " $ FinalPoints13     : num  1991 1257 5296 0 0 ...\n",
      " $ Earnings13        : num  466585 89378 1810711 0 58577 ...\n",
      " $ Events12          : int  0 0 26 0 0 28 29 29 5 0 ...\n",
      " $ BuckOuts12        : int  0 0 82 0 0 87 87 103 10 0 ...\n",
      " $ Rides12           : int  0 0 40 0 0 53 50 62 3 0 ...\n",
      " $ CupPoints12       : num  0 0 9273 0 0 ...\n",
      " $ Rank12            : int  0 0 8 0 0 4 2 1 53 0 ...\n",
      " $ RidePer12         : num  0 0 0.49 0 0 0.61 0.57 0.6 0.3 0 ...\n",
      " $ Wins12            : int  0 0 3 0 0 1 2 2 0 0 ...\n",
      " $ Top5_12           : int  0 0 8 0 0 10 9 8 0 0 ...\n",
      " $ Top10_12          : int  0 0 13 0 0 14 12 18 1 0 ...\n",
      " $ FinalPoints12     : num  0 0 287 0 0 ...\n",
      " $ Earnings12        : num  0 0 313340 0 0 ...\n"
     ]
    }
   ],
   "source": [
    "str(br)"
   ]
  },
  {
   "cell_type": "markdown",
   "metadata": {},
   "source": [
    "## How many of the first 10 riders in the dataset have been pro for 10 years or more?"
   ]
  },
  {
   "cell_type": "code",
   "execution_count": 3,
   "metadata": {},
   "outputs": [
    {
     "data": {
      "text/html": [
       "<ol class=list-inline>\n",
       "\t<li>FALSE</li>\n",
       "\t<li>FALSE</li>\n",
       "\t<li>TRUE</li>\n",
       "\t<li>FALSE</li>\n",
       "\t<li>FALSE</li>\n",
       "\t<li>FALSE</li>\n",
       "\t<li>TRUE</li>\n",
       "\t<li>FALSE</li>\n",
       "\t<li>FALSE</li>\n",
       "\t<li>TRUE</li>\n",
       "</ol>\n"
      ],
      "text/latex": [
       "\\begin{enumerate*}\n",
       "\\item FALSE\n",
       "\\item FALSE\n",
       "\\item TRUE\n",
       "\\item FALSE\n",
       "\\item FALSE\n",
       "\\item FALSE\n",
       "\\item TRUE\n",
       "\\item FALSE\n",
       "\\item FALSE\n",
       "\\item TRUE\n",
       "\\end{enumerate*}\n"
      ],
      "text/markdown": [
       "1. FALSE\n",
       "2. FALSE\n",
       "3. TRUE\n",
       "4. FALSE\n",
       "5. FALSE\n",
       "6. FALSE\n",
       "7. TRUE\n",
       "8. FALSE\n",
       "9. FALSE\n",
       "10. TRUE\n",
       "\n",
       "\n"
      ],
      "text/plain": [
       " [1] FALSE FALSE  TRUE FALSE FALSE FALSE  TRUE FALSE FALSE  TRUE"
      ]
     },
     "metadata": {},
     "output_type": "display_data"
    }
   ],
   "source": [
    "head(br,10)$YearsPro >= 10"
   ]
  },
  {
   "cell_type": "markdown",
   "metadata": {},
   "source": [
    "## Of the top 15 riders so far in 2015, how many rides were completed by the rider with the fewest buck-outs in 2014?"
   ]
  },
  {
   "cell_type": "code",
   "execution_count": 4,
   "metadata": {},
   "outputs": [
    {
     "data": {
      "text/html": [
       "<table>\n",
       "<thead><tr><th scope=col>Rider</th><th scope=col>Rank15</th><th scope=col>Country</th><th scope=col>YearBorn</th><th scope=col>Height</th><th scope=col>Weight</th><th scope=col>YearsPro</th><th scope=col>Events14</th><th scope=col>BuckOuts14</th><th scope=col>Rides14</th><th scope=col>...</th><th scope=col>BuckOuts12</th><th scope=col>Rides12</th><th scope=col>CupPoints12</th><th scope=col>Rank12</th><th scope=col>RidePer12</th><th scope=col>Wins12</th><th scope=col>Top5_12</th><th scope=col>Top10_12</th><th scope=col>FinalPoints12</th><th scope=col>Earnings12</th></tr></thead>\n",
       "<tbody>\n",
       "\t<tr><td>Joao Ricardo Vieira </td><td>  1                 </td><td>BRA                 </td><td>1984                </td><td>66                  </td><td>163                 </td><td> 3                  </td><td>28                  </td><td>93                  </td><td>41                  </td><td>...                 </td><td>  0                 </td><td> 0                  </td><td>    0.00            </td><td> 0                  </td><td>0.00                </td><td>0                   </td><td> 0                  </td><td> 0                  </td><td>   0.00             </td><td>      0.00          </td></tr>\n",
       "\t<tr><td>Matt Triplett       </td><td>  2                 </td><td>USA                 </td><td>1991                </td><td>67                  </td><td>160                 </td><td> 4                  </td><td>28                  </td><td>86                  </td><td>33                  </td><td>...                 </td><td>  0                 </td><td> 0                  </td><td>    0.00            </td><td> 0                  </td><td>0.00                </td><td>0                   </td><td> 0                  </td><td> 0                  </td><td>   0.00             </td><td>      0.00          </td></tr>\n",
       "\t<tr><td>J.B. Mauney         </td><td>  3                 </td><td>USA                 </td><td>1987                </td><td>70                  </td><td>140                 </td><td>10                  </td><td>22                  </td><td>63                  </td><td>25                  </td><td>...                 </td><td> 82                 </td><td>40                  </td><td> 9273.25            </td><td> 8                  </td><td>0.49                </td><td>3                   </td><td> 8                  </td><td>13                  </td><td> 287.00             </td><td> 313340.27          </td></tr>\n",
       "\t<tr><td>Kaique Pacheco      </td><td>  4                 </td><td>BRA                 </td><td>1994                </td><td>68                  </td><td>145                 </td><td> 2                  </td><td> 1                  </td><td> 1                  </td><td> 0                  </td><td>...                 </td><td>  0                 </td><td> 0                  </td><td>    0.00            </td><td> 0                  </td><td>0.00                </td><td>0                   </td><td> 0                  </td><td> 0                  </td><td>   0.00             </td><td>      0.00          </td></tr>\n",
       "\t<tr><td>Nathan Schaper      </td><td>  5                 </td><td>USA                 </td><td>1990                </td><td>73                  </td><td>160                 </td><td> 6                  </td><td>15                  </td><td>41                  </td><td>17                  </td><td>...                 </td><td>  0                 </td><td> 0                  </td><td>    0.00            </td><td> 0                  </td><td>0.00                </td><td>0                   </td><td> 0                  </td><td> 0                  </td><td>   0.00             </td><td>      0.00          </td></tr>\n",
       "\t<tr><td>Valdiron de Oliveira</td><td>  6                 </td><td>BRA                 </td><td>1979                </td><td>72                  </td><td>170                 </td><td> 9                  </td><td>28                  </td><td>81                  </td><td>29                  </td><td>...                 </td><td> 87                 </td><td>53                  </td><td>10608.25            </td><td> 4                  </td><td>0.61                </td><td>1                   </td><td>10                  </td><td>14                  </td><td> 559.50             </td><td> 208724.52          </td></tr>\n",
       "\t<tr><td>Guilherme Marchi    </td><td>  7                 </td><td>BRA                 </td><td>1982                </td><td>70                  </td><td>180                 </td><td>16                  </td><td>28                  </td><td>90                  </td><td>41                  </td><td>...                 </td><td> 87                 </td><td>50                  </td><td>11542.00            </td><td> 2                  </td><td>0.57                </td><td>2                   </td><td> 9                  </td><td>12                  </td><td>2519.75             </td><td> 331421.67          </td></tr>\n",
       "\t<tr><td>Silvano Alves       </td><td>  8                 </td><td>BRA                 </td><td>1987                </td><td>67                  </td><td>150                 </td><td> 7                  </td><td>28                  </td><td>92                  </td><td>50                  </td><td>...                 </td><td>103                 </td><td>62                  </td><td>12201.75            </td><td> 1                  </td><td>0.60                </td><td>2                   </td><td> 8                  </td><td>18                  </td><td>1648.00             </td><td>1464475.61          </td></tr>\n",
       "\t<tr><td>Reese Cates         </td><td>  9                 </td><td>USA                 </td><td>1989                </td><td>68                  </td><td>135                 </td><td> 9                  </td><td>12                  </td><td>30                  </td><td> 8                  </td><td>...                 </td><td> 10                 </td><td> 3                  </td><td>  428.50            </td><td>53                  </td><td>0.30                </td><td>0                   </td><td> 0                  </td><td> 1                  </td><td>   0.00             </td><td>  27987.21          </td></tr>\n",
       "\t<tr><td>J.W. Harris         </td><td> 10                 </td><td>USA                 </td><td>1986                </td><td>70                  </td><td>160                 </td><td>10                  </td><td>14                  </td><td>37                  </td><td>16                  </td><td>...                 </td><td>  0                 </td><td> 0                  </td><td>    0.00            </td><td> 0                  </td><td>0.00                </td><td>0                   </td><td> 0                  </td><td> 0                  </td><td>   0.00             </td><td>      0.00          </td></tr>\n",
       "\t<tr><td>Stetson Lawrence    </td><td> 11                 </td><td>USA                 </td><td>1988                </td><td>70                  </td><td>155                 </td><td> 8                  </td><td>12                  </td><td>33                  </td><td> 9                  </td><td>...                 </td><td>  0                 </td><td> 0                  </td><td>    0.00            </td><td> 0                  </td><td>0.00                </td><td>0                   </td><td> 0                  </td><td> 0                  </td><td>   0.00             </td><td>      0.00          </td></tr>\n",
       "\t<tr><td>Mike Lee            </td><td> 12                 </td><td>USA                 </td><td>1983                </td><td>68                  </td><td>140                 </td><td>14                  </td><td>26                  </td><td>77                  </td><td>32                  </td><td>...                 </td><td> 64                 </td><td>33                  </td><td> 6088.00            </td><td>13                  </td><td>0.52                </td><td>1                   </td><td> 5                  </td><td> 7                  </td><td>1011.75             </td><td> 147952.34          </td></tr>\n",
       "\t<tr><td>Fabiano Vieira      </td><td> 13                 </td><td>BRA                 </td><td>1982                </td><td>68                  </td><td>175                 </td><td> 9                  </td><td>26                  </td><td>77                  </td><td>42                  </td><td>...                 </td><td> 70                 </td><td>38                  </td><td> 7677.25            </td><td>10                  </td><td>0.54                </td><td>2                   </td><td> 5                  </td><td>11                  </td><td> 171.75             </td><td> 191399.08          </td></tr>\n",
       "\t<tr><td>Cody Nance          </td><td> 14                 </td><td>USA                 </td><td>1987                </td><td>68                  </td><td>162                 </td><td> 9                  </td><td>28                  </td><td>84                  </td><td>30                  </td><td>...                 </td><td> 76                 </td><td>29                  </td><td> 5068.25            </td><td>16                  </td><td>0.38                </td><td>1                   </td><td> 4                  </td><td> 7                  </td><td> 322.00             </td><td> 131580.54          </td></tr>\n",
       "\t<tr><td>Ben Jones           </td><td> 15                 </td><td>AUS                 </td><td>1979                </td><td>71                  </td><td>163                 </td><td>17                  </td><td>11                  </td><td>23                  </td><td> 5                  </td><td>...                 </td><td> 58                 </td><td>26                  </td><td> 4840.75            </td><td>18                  </td><td>0.45                </td><td>0                   </td><td> 5                  </td><td> 7                  </td><td>   0.00             </td><td> 115844.10          </td></tr>\n",
       "\t<tr><td>Cooper Davis        </td><td> 16                 </td><td>USA                 </td><td>1994                </td><td>69                  </td><td>150                 </td><td> 3                  </td><td> 2                  </td><td> 6                  </td><td> 2                  </td><td>...                 </td><td>  0                 </td><td> 0                  </td><td>    0.00            </td><td> 0                  </td><td>0.00                </td><td>0                   </td><td> 0                  </td><td> 0                  </td><td>   0.00             </td><td>      0.00          </td></tr>\n",
       "\t<tr><td>Tanner Byrne        </td><td> 17                 </td><td>CAN                 </td><td>1992                </td><td>76                  </td><td>160                 </td><td> 4                  </td><td>15                  </td><td>42                  </td><td>21                  </td><td>...                 </td><td>  0                 </td><td> 0                  </td><td>    0.00            </td><td> 0                  </td><td>0.00                </td><td>0                   </td><td> 0                  </td><td> 0                  </td><td>   0.00             </td><td>      0.00          </td></tr>\n",
       "\t<tr><td>Shane Proctor       </td><td> 19                 </td><td>USA                 </td><td>1985                </td><td>68                  </td><td>165                 </td><td>10                  </td><td> 1                  </td><td> 3                  </td><td> 1                  </td><td>...                 </td><td> 32                 </td><td> 8                  </td><td> 1387.50            </td><td>35                  </td><td>0.25                </td><td>0                   </td><td> 0                  </td><td> 3                  </td><td>   0.00             </td><td>  52443.96          </td></tr>\n",
       "\t<tr><td>Renato Nunes        </td><td> 20                 </td><td>BRA                 </td><td>1981                </td><td>67                  </td><td>135                 </td><td>11                  </td><td>26                  </td><td>75                  </td><td>25                  </td><td>...                 </td><td> 91                 </td><td>38                  </td><td> 9859.75            </td><td> 6                  </td><td>0.42                </td><td>1                   </td><td> 5                  </td><td>12                  </td><td>3298.50             </td><td> 254709.57          </td></tr>\n",
       "\t<tr><td>Mason Lowe          </td><td> 21                 </td><td>USA                 </td><td>1993                </td><td>71                  </td><td>155                 </td><td> 3                  </td><td> 2                  </td><td> 4                  </td><td> 1                  </td><td>...                 </td><td>  0                 </td><td> 0                  </td><td>    0.00            </td><td> 0                  </td><td>0.00                </td><td>0                   </td><td> 0                  </td><td> 0                  </td><td>   0.00             </td><td>      0.00          </td></tr>\n",
       "\t<tr><td>Gage Gay            </td><td> 22                 </td><td>USA                 </td><td>1994                </td><td>66                  </td><td>145                 </td><td> 3                  </td><td>24                  </td><td>75                  </td><td>25                  </td><td>...                 </td><td>  0                 </td><td> 0                  </td><td>    0.00            </td><td> 0                  </td><td>0.00                </td><td>0                   </td><td> 0                  </td><td> 0                  </td><td>   0.00             </td><td>      0.00          </td></tr>\n",
       "\t<tr><td>Chase Outlaw        </td><td> 23                 </td><td>USA                 </td><td>1992                </td><td>65                  </td><td>150                 </td><td> 4                  </td><td>23                  </td><td>66                  </td><td>19                  </td><td>...                 </td><td> 64                 </td><td>21                  </td><td> 4186.50            </td><td>21                  </td><td>0.33                </td><td>1                   </td><td> 3                  </td><td> 8                  </td><td>   0.00             </td><td> 170203.48          </td></tr>\n",
       "\t<tr><td>Kasey Hayes         </td><td> 24                 </td><td>USA                 </td><td>1985                </td><td>69                  </td><td>140                 </td><td>11                  </td><td>22                  </td><td>63                  </td><td>22                  </td><td>...                 </td><td> 26                 </td><td> 7                  </td><td>  914.25            </td><td>40                  </td><td>0.27                </td><td>0                   </td><td> 0                  </td><td> 1                  </td><td>   0.00             </td><td>  29116.33          </td></tr>\n",
       "\t<tr><td>L.J. Jenkins        </td><td> 25                 </td><td>USA                 </td><td>1987                </td><td>70                  </td><td>140                 </td><td>10                  </td><td>27                  </td><td>83                  </td><td>32                  </td><td>...                 </td><td> 93                 </td><td>49                  </td><td>10621.25            </td><td> 3                  </td><td>0.53                </td><td>1                   </td><td>10                  </td><td>13                  </td><td>1212.75             </td><td> 239935.66          </td></tr>\n",
       "\t<tr><td>Eduardo Aparecido   </td><td> 27                 </td><td>BRA                 </td><td>1990                </td><td>68                  </td><td>160                 </td><td> 4                  </td><td>27                  </td><td>78                  </td><td>37                  </td><td>...                 </td><td>  0                 </td><td> 0                  </td><td>    0.00            </td><td> 0                  </td><td>0.00                </td><td>0                   </td><td> 0                  </td><td> 0                  </td><td>   0.00             </td><td>      0.00          </td></tr>\n",
       "\t<tr><td>Stormy Wing         </td><td> 28                 </td><td>USA                 </td><td>1989                </td><td>66                  </td><td>145                 </td><td> 6                  </td><td>25                  </td><td>70                  </td><td>21                  </td><td>...                 </td><td> 80                 </td><td>28                  </td><td> 5062.50            </td><td>17                  </td><td>0.35                </td><td>0                   </td><td> 5                  </td><td> 7                  </td><td>  83.25             </td><td>  93296.23          </td></tr>\n",
       "\t<tr><td>Ryan Dirteater      </td><td> 30                 </td><td>USA                 </td><td>1989                </td><td>69                  </td><td>155                 </td><td>10                  </td><td>25                  </td><td>72                  </td><td>25                  </td><td>...                 </td><td>  0                 </td><td> 0                  </td><td>    0.00            </td><td> 0                  </td><td>0.00                </td><td>0                   </td><td> 0                  </td><td> 0                  </td><td>   0.00             </td><td>      0.00          </td></tr>\n",
       "\t<tr><td>Bonner Bolton       </td><td> 31                 </td><td>USA                 </td><td>1987                </td><td>71                  </td><td>175                 </td><td> 9                  </td><td> 1                  </td><td> 3                  </td><td> 2                  </td><td>...                 </td><td>  0                 </td><td> 0                  </td><td>    0.00            </td><td> 0                  </td><td>0.00                </td><td>0                   </td><td> 0                  </td><td> 0                  </td><td>   0.00             </td><td>      0.00          </td></tr>\n",
       "\t<tr><td>Dave Mason          </td><td> 32                 </td><td>AUS                 </td><td>1987                </td><td>68                  </td><td>154                 </td><td> 7                  </td><td> 5                  </td><td>10                  </td><td> 1                  </td><td>...                 </td><td>  0                 </td><td> 0                  </td><td>    0.00            </td><td> 0                  </td><td>0.00                </td><td>0                   </td><td> 0                  </td><td> 0                  </td><td>   0.00             </td><td>      0.00          </td></tr>\n",
       "\t<tr><td>Brady Sims          </td><td> 33                 </td><td>USA                 </td><td>1993                </td><td>69                  </td><td>160                 </td><td> 3                  </td><td>20                  </td><td>58                  </td><td>19                  </td><td>...                 </td><td>  0                 </td><td> 0                  </td><td>    0.00            </td><td> 0                  </td><td>0.00                </td><td>0                   </td><td> 0                  </td><td> 0                  </td><td>   0.00             </td><td>      0.00          </td></tr>\n",
       "\t<tr><td>Douglas Duncan      </td><td> 35                 </td><td>USA                 </td><td>1987                </td><td>68                  </td><td>155                 </td><td>10                  </td><td>26                  </td><td>63                  </td><td>17                  </td><td>...                 </td><td> 62                 </td><td>18                  </td><td> 3842.50            </td><td>23                  </td><td>0.29                </td><td>0                   </td><td> 2                  </td><td> 7                  </td><td> 111.25             </td><td>  90687.00          </td></tr>\n",
       "\t<tr><td>Neil Holmes         </td><td> 36                 </td><td>USA                 </td><td>1985                </td><td>68                  </td><td>145                 </td><td> 7                  </td><td> 4                  </td><td>11                  </td><td> 6                  </td><td>...                 </td><td>  0                 </td><td> 0                  </td><td>    0.00            </td><td> 0                  </td><td>0.00                </td><td>0                   </td><td> 0                  </td><td> 0                  </td><td>   0.00             </td><td>      0.00          </td></tr>\n",
       "\t<tr><td>Tyler Harr          </td><td> 39                 </td><td>USA                 </td><td>1990                </td><td>70                  </td><td>165                 </td><td> 7                  </td><td> 5                  </td><td>12                  </td><td> 1                  </td><td>...                 </td><td>  0                 </td><td> 0                  </td><td>    0.00            </td><td> 0                  </td><td>0.00                </td><td>0                   </td><td> 0                  </td><td> 0                  </td><td>   0.00             </td><td>      0.00          </td></tr>\n",
       "\t<tr><td>Robson Palermo      </td><td> 40                 </td><td>BRA                 </td><td>1983                </td><td>66                  </td><td>120                 </td><td>10                  </td><td>14                  </td><td>38                  </td><td>14                  </td><td>...                 </td><td> 57                 </td><td>30                  </td><td> 9681.25            </td><td> 7                  </td><td>0.53                </td><td>2                   </td><td> 5                  </td><td> 8                  </td><td>4189.25             </td><td> 466599.60          </td></tr>\n",
       "\t<tr><td>Luis Blanco         </td><td> 41                 </td><td>BRA                 </td><td>1986                </td><td>68                  </td><td>175                 </td><td> 5                  </td><td> 4                  </td><td> 9                  </td><td> 1                  </td><td>...                 </td><td>  0                 </td><td> 0                  </td><td>    0.00            </td><td> 0                  </td><td>0.00                </td><td>0                   </td><td> 0                  </td><td> 0                  </td><td>   0.00             </td><td>      0.00          </td></tr>\n",
       "\t<tr><td>Lachlan Richardson  </td><td> 44                 </td><td>AUS                 </td><td>1992                </td><td>69                  </td><td>141                 </td><td> 4                  </td><td>24                  </td><td>62                  </td><td>11                  </td><td>...                 </td><td> 37                 </td><td> 7                  </td><td> 1408.75            </td><td>34                  </td><td>0.19                </td><td>1                   </td><td> 1                  </td><td> 2                  </td><td>   0.00             </td><td>  90044.06          </td></tr>\n",
       "\t<tr><td>Claudio Crisostomo  </td><td> 46                 </td><td>BRA                 </td><td>1985                </td><td>71                  </td><td>160                 </td><td> 7                  </td><td>22                  </td><td>59                  </td><td>22                  </td><td>...                 </td><td>  0                 </td><td> 0                  </td><td>    0.00            </td><td> 0                  </td><td>0.00                </td><td>0                   </td><td> 0                  </td><td> 0                  </td><td>   0.00             </td><td>      0.00          </td></tr>\n",
       "\t<tr><td>Sean Willingham     </td><td> 47                 </td><td>USA                 </td><td>1981                </td><td>70                  </td><td>140                 </td><td>16                  </td><td>21                  </td><td>60                  </td><td>22                  </td><td>...                 </td><td> 25                 </td><td> 5                  </td><td>  793.75            </td><td>43                  </td><td>0.20                </td><td>0                   </td><td> 0                  </td><td> 2                  </td><td>   0.00             </td><td>  21343.28          </td></tr>\n",
       "\t<tr><td>Thad Newell         </td><td> 51                 </td><td>USA                 </td><td>1985                </td><td>71                  </td><td>165                 </td><td> 5                  </td><td> 1                  </td><td> 1                  </td><td> 0                  </td><td>...                 </td><td>  0                 </td><td> 0                  </td><td>    0.00            </td><td> 0                  </td><td>0.00                </td><td>0                   </td><td> 0                  </td><td> 0                  </td><td>   0.00             </td><td>      0.00          </td></tr>\n",
       "\t<tr><td>Jay Miller          </td><td> 52                 </td><td>USA                 </td><td>1992                </td><td>66                  </td><td>165                 </td><td> 1                  </td><td> 4                  </td><td> 7                  </td><td> 1                  </td><td>...                 </td><td>  0                 </td><td> 0                  </td><td>    0.00            </td><td> 0                  </td><td>0.00                </td><td>0                   </td><td> 0                  </td><td> 0                  </td><td>   0.00             </td><td>      0.00          </td></tr>\n",
       "\t<tr><td>Marco Eguchi        </td><td> 53                 </td><td>BRA                 </td><td>1989                </td><td>67                  </td><td>135                 </td><td> 7                  </td><td>27                  </td><td>72                  </td><td>26                  </td><td>...                 </td><td> 84                 </td><td>39                  </td><td> 7699.25            </td><td> 9                  </td><td>0.46                </td><td>1                   </td><td> 9                  </td><td>11                  </td><td> 571.00             </td><td> 226255.50          </td></tr>\n",
       "\t<tr><td>Austin Meier        </td><td> 55                 </td><td>USA                 </td><td>1987                </td><td>71                  </td><td>165                 </td><td>10                  </td><td>12                  </td><td>28                  </td><td> 6                  </td><td>...                 </td><td> 91                 </td><td>49                  </td><td>10249.75            </td><td> 5                  </td><td>0.54                </td><td>2                   </td><td> 8                  </td><td>12                  </td><td>1773.25             </td><td> 311728.81          </td></tr>\n",
       "\t<tr><td>Jordan Hupp         </td><td> 58                 </td><td>USA                 </td><td>1985                </td><td>60                  </td><td>188                 </td><td>10                  </td><td>20                  </td><td>56                  </td><td>16                  </td><td>...                 </td><td> 61                 </td><td>23                  </td><td> 3031.50            </td><td>27                  </td><td>0.38                </td><td>1                   </td><td> 1                  </td><td> 5                  </td><td>   0.00             </td><td>  66814.33          </td></tr>\n",
       "\t<tr><td>Dakota Louis        </td><td> 62                 </td><td>USA                 </td><td>1992                </td><td>72                  </td><td>160                 </td><td> 4                  </td><td> 1                  </td><td> 3                  </td><td> 1                  </td><td>...                 </td><td>  0                 </td><td> 0                  </td><td>    0.00            </td><td> 0                  </td><td>0.00                </td><td>0                   </td><td> 0                  </td><td> 0                  </td><td>   0.00             </td><td>      0.00          </td></tr>\n",
       "\t<tr><td>David Kennedy       </td><td> 66                 </td><td>AUS                 </td><td>1984                </td><td>69                  </td><td>176                 </td><td> 7                  </td><td> 1                  </td><td> 2                  </td><td> 1                  </td><td>...                 </td><td>  0                 </td><td> 0                  </td><td>    0.00            </td><td> 0                  </td><td>0.00                </td><td>0                   </td><td> 0                  </td><td> 0                  </td><td>   0.00             </td><td>      0.00          </td></tr>\n",
       "\t<tr><td>Billy Robinson      </td><td> 66                 </td><td>USA                 </td><td>1979                </td><td>68                  </td><td>150                 </td><td>17                  </td><td>24                  </td><td>61                  </td><td>16                  </td><td>...                 </td><td> 38                 </td><td> 9                  </td><td> 1217.50            </td><td>38                  </td><td>0.24                </td><td>0                   </td><td> 0                  </td><td> 2                  </td><td>   0.00             </td><td>  55617.33          </td></tr>\n",
       "\t<tr><td>Skeeter Kingsolver  </td><td> 70                 </td><td>USA                 </td><td>1989                </td><td>70                  </td><td>165                 </td><td> 7                  </td><td> 1                  </td><td> 2                  </td><td> 0                  </td><td>...                 </td><td>  0                 </td><td> 0                  </td><td>    0.00            </td><td> 0                  </td><td>0.00                </td><td>0                   </td><td> 0                  </td><td> 0                  </td><td>   0.00             </td><td>      0.00          </td></tr>\n",
       "\t<tr><td>Scott Schiffner     </td><td> 75                 </td><td>CAN                 </td><td>1980                </td><td>68                  </td><td>155                 </td><td>14                  </td><td> 1                  </td><td> 2                  </td><td> 0                  </td><td>...                 </td><td>  0                 </td><td> 0                  </td><td>    0.00            </td><td> 0                  </td><td>0.00                </td><td>0                   </td><td> 0                  </td><td> 0                  </td><td>   0.00             </td><td>      0.00          </td></tr>\n",
       "\t<tr><td>Budd Williamson     </td><td> 77                 </td><td>AUS                 </td><td>1986                </td><td>72                  </td><td>155                 </td><td> 9                  </td><td> 2                  </td><td> 4                  </td><td> 1                  </td><td>...                 </td><td>  0                 </td><td> 0                  </td><td>    0.00            </td><td> 0                  </td><td>0.00                </td><td>0                   </td><td> 0                  </td><td> 0                  </td><td>   0.00             </td><td>      0.00          </td></tr>\n",
       "\t<tr><td>Josh Faircloth      </td><td> 77                 </td><td>USA                 </td><td>1989                </td><td>70                  </td><td>140                 </td><td> 8                  </td><td> 9                  </td><td>26                  </td><td> 8                  </td><td>...                 </td><td>  0                 </td><td> 0                  </td><td>    0.00            </td><td> 0                  </td><td>0.00                </td><td>0                   </td><td> 0                  </td><td> 0                  </td><td>   0.00             </td><td>      0.00          </td></tr>\n",
       "\t<tr><td>Justin Granger      </td><td> 93                 </td><td>USA                 </td><td>1991                </td><td>66                  </td><td>115                 </td><td> 6                  </td><td> 1                  </td><td> 1                  </td><td> 0                  </td><td>...                 </td><td>  0                 </td><td> 0                  </td><td>    0.00            </td><td> 0                  </td><td>0.00                </td><td>0                   </td><td> 0                  </td><td> 0                  </td><td>   0.00             </td><td>      0.00          </td></tr>\n",
       "\t<tr><td>Dakota Beck         </td><td>100                 </td><td>USA                 </td><td>1991                </td><td>67                  </td><td>155                 </td><td> 5                  </td><td> 1                  </td><td> 3                  </td><td> 0                  </td><td>...                 </td><td>  0                 </td><td> 0                  </td><td>    0.00            </td><td> 0                  </td><td>0.00                </td><td>0                   </td><td> 0                  </td><td> 0                  </td><td>   0.00             </td><td>      0.00          </td></tr>\n",
       "\t<tr><td>Harve Stewart       </td><td>104                 </td><td>USA                 </td><td>1987                </td><td>69                  </td><td>150                 </td><td> 9                  </td><td>19                  </td><td>47                  </td><td>11                  </td><td>...                 </td><td> 81                 </td><td>28                  </td><td> 5523.00            </td><td>15                  </td><td>0.35                </td><td>1                   </td><td> 4                  </td><td> 6                  </td><td> 186.50             </td><td> 150975.16          </td></tr>\n",
       "\t<tr><td>Brant Atwood        </td><td>116                 </td><td>USA                 </td><td>1987                </td><td>67                  </td><td>140                 </td><td>10                  </td><td> 8                  </td><td>20                  </td><td> 2                  </td><td>...                 </td><td>  4                 </td><td> 1                  </td><td>  261.75            </td><td>65                  </td><td>0.25                </td><td>0                   </td><td> 0                  </td><td> 1                  </td><td>   0.00             </td><td>  22059.59          </td></tr>\n",
       "\t<tr><td>Ty Pozzobon         </td><td>148                 </td><td>CAN                 </td><td>1991                </td><td>69                  </td><td>135                 </td><td> 6                  </td><td>22                  </td><td>54                  </td><td>16                  </td><td>...                 </td><td> 78                 </td><td>28                  </td><td> 4683.25            </td><td>20                  </td><td>0.36                </td><td>0                   </td><td> 2                  </td><td> 9                  </td><td> 424.00             </td><td> 106451.16          </td></tr>\n",
       "\t<tr><td>Kody Lostroh        </td><td>279                 </td><td>USA                 </td><td>1985                </td><td>66                  </td><td>155                 </td><td>11                  </td><td>16                  </td><td>42                  </td><td>15                  </td><td>...                 </td><td> 61                 </td><td>23                  </td><td> 4700.00            </td><td>19                  </td><td>0.38                </td><td>1                   </td><td> 3                  </td><td> 8                  </td><td> 525.00             </td><td> 158470.75          </td></tr>\n",
       "\t<tr><td>Markus Mariluch     </td><td>279                 </td><td>USA                 </td><td>1985                </td><td>68                  </td><td>155                 </td><td>11                  </td><td>21                  </td><td>60                  </td><td>24                  </td><td>...                 </td><td> 20                 </td><td> 5                  </td><td>  554.25            </td><td>49                  </td><td>0.25                </td><td>0                   </td><td> 0                  </td><td> 0                  </td><td>   0.00             </td><td>  28806.83          </td></tr>\n",
       "\t<tr><td>Emilio Resende      </td><td>279                 </td><td>BRA                 </td><td>1987                </td><td>67                  </td><td>150                 </td><td> 7                  </td><td>26                  </td><td>75                  </td><td>27                  </td><td>...                 </td><td> 45                 </td><td>24                  </td><td> 6911.25            </td><td>12                  </td><td>0.53                </td><td>0                   </td><td> 3                  </td><td> 5                  </td><td>3414.25             </td><td> 271470.63          </td></tr>\n",
       "</tbody>\n",
       "</table>\n"
      ],
      "text/latex": [
       "\\begin{tabular}{r|llllllllllllllllllllllllllllllllllllllllllll}\n",
       " Rider & Rank15 & Country & YearBorn & Height & Weight & YearsPro & Events14 & BuckOuts14 & Rides14 & ... & BuckOuts12 & Rides12 & CupPoints12 & Rank12 & RidePer12 & Wins12 & Top5\\_12 & Top10\\_12 & FinalPoints12 & Earnings12\\\\\n",
       "\\hline\n",
       "\t Joao Ricardo Vieira  &   1                  & BRA                  & 1984                 & 66                   & 163                  &  3                   & 28                   & 93                   & 41                   & ...                  &   0                  &  0                   &     0.00             &  0                   & 0.00                 & 0                    &  0                   &  0                   &    0.00              &       0.00          \\\\\n",
       "\t Matt Triplett        &   2                  & USA                  & 1991                 & 67                   & 160                  &  4                   & 28                   & 86                   & 33                   & ...                  &   0                  &  0                   &     0.00             &  0                   & 0.00                 & 0                    &  0                   &  0                   &    0.00              &       0.00          \\\\\n",
       "\t J.B. Mauney          &   3                  & USA                  & 1987                 & 70                   & 140                  & 10                   & 22                   & 63                   & 25                   & ...                  &  82                  & 40                   &  9273.25             &  8                   & 0.49                 & 3                    &  8                   & 13                   &  287.00              &  313340.27          \\\\\n",
       "\t Kaique Pacheco       &   4                  & BRA                  & 1994                 & 68                   & 145                  &  2                   &  1                   &  1                   &  0                   & ...                  &   0                  &  0                   &     0.00             &  0                   & 0.00                 & 0                    &  0                   &  0                   &    0.00              &       0.00          \\\\\n",
       "\t Nathan Schaper       &   5                  & USA                  & 1990                 & 73                   & 160                  &  6                   & 15                   & 41                   & 17                   & ...                  &   0                  &  0                   &     0.00             &  0                   & 0.00                 & 0                    &  0                   &  0                   &    0.00              &       0.00          \\\\\n",
       "\t Valdiron de Oliveira &   6                  & BRA                  & 1979                 & 72                   & 170                  &  9                   & 28                   & 81                   & 29                   & ...                  &  87                  & 53                   & 10608.25             &  4                   & 0.61                 & 1                    & 10                   & 14                   &  559.50              &  208724.52          \\\\\n",
       "\t Guilherme Marchi     &   7                  & BRA                  & 1982                 & 70                   & 180                  & 16                   & 28                   & 90                   & 41                   & ...                  &  87                  & 50                   & 11542.00             &  2                   & 0.57                 & 2                    &  9                   & 12                   & 2519.75              &  331421.67          \\\\\n",
       "\t Silvano Alves        &   8                  & BRA                  & 1987                 & 67                   & 150                  &  7                   & 28                   & 92                   & 50                   & ...                  & 103                  & 62                   & 12201.75             &  1                   & 0.60                 & 2                    &  8                   & 18                   & 1648.00              & 1464475.61          \\\\\n",
       "\t Reese Cates          &   9                  & USA                  & 1989                 & 68                   & 135                  &  9                   & 12                   & 30                   &  8                   & ...                  &  10                  &  3                   &   428.50             & 53                   & 0.30                 & 0                    &  0                   &  1                   &    0.00              &   27987.21          \\\\\n",
       "\t J.W. Harris          &  10                  & USA                  & 1986                 & 70                   & 160                  & 10                   & 14                   & 37                   & 16                   & ...                  &   0                  &  0                   &     0.00             &  0                   & 0.00                 & 0                    &  0                   &  0                   &    0.00              &       0.00          \\\\\n",
       "\t Stetson Lawrence     &  11                  & USA                  & 1988                 & 70                   & 155                  &  8                   & 12                   & 33                   &  9                   & ...                  &   0                  &  0                   &     0.00             &  0                   & 0.00                 & 0                    &  0                   &  0                   &    0.00              &       0.00          \\\\\n",
       "\t Mike Lee             &  12                  & USA                  & 1983                 & 68                   & 140                  & 14                   & 26                   & 77                   & 32                   & ...                  &  64                  & 33                   &  6088.00             & 13                   & 0.52                 & 1                    &  5                   &  7                   & 1011.75              &  147952.34          \\\\\n",
       "\t Fabiano Vieira       &  13                  & BRA                  & 1982                 & 68                   & 175                  &  9                   & 26                   & 77                   & 42                   & ...                  &  70                  & 38                   &  7677.25             & 10                   & 0.54                 & 2                    &  5                   & 11                   &  171.75              &  191399.08          \\\\\n",
       "\t Cody Nance           &  14                  & USA                  & 1987                 & 68                   & 162                  &  9                   & 28                   & 84                   & 30                   & ...                  &  76                  & 29                   &  5068.25             & 16                   & 0.38                 & 1                    &  4                   &  7                   &  322.00              &  131580.54          \\\\\n",
       "\t Ben Jones            &  15                  & AUS                  & 1979                 & 71                   & 163                  & 17                   & 11                   & 23                   &  5                   & ...                  &  58                  & 26                   &  4840.75             & 18                   & 0.45                 & 0                    &  5                   &  7                   &    0.00              &  115844.10          \\\\\n",
       "\t Cooper Davis         &  16                  & USA                  & 1994                 & 69                   & 150                  &  3                   &  2                   &  6                   &  2                   & ...                  &   0                  &  0                   &     0.00             &  0                   & 0.00                 & 0                    &  0                   &  0                   &    0.00              &       0.00          \\\\\n",
       "\t Tanner Byrne         &  17                  & CAN                  & 1992                 & 76                   & 160                  &  4                   & 15                   & 42                   & 21                   & ...                  &   0                  &  0                   &     0.00             &  0                   & 0.00                 & 0                    &  0                   &  0                   &    0.00              &       0.00          \\\\\n",
       "\t Shane Proctor        &  19                  & USA                  & 1985                 & 68                   & 165                  & 10                   &  1                   &  3                   &  1                   & ...                  &  32                  &  8                   &  1387.50             & 35                   & 0.25                 & 0                    &  0                   &  3                   &    0.00              &   52443.96          \\\\\n",
       "\t Renato Nunes         &  20                  & BRA                  & 1981                 & 67                   & 135                  & 11                   & 26                   & 75                   & 25                   & ...                  &  91                  & 38                   &  9859.75             &  6                   & 0.42                 & 1                    &  5                   & 12                   & 3298.50              &  254709.57          \\\\\n",
       "\t Mason Lowe           &  21                  & USA                  & 1993                 & 71                   & 155                  &  3                   &  2                   &  4                   &  1                   & ...                  &   0                  &  0                   &     0.00             &  0                   & 0.00                 & 0                    &  0                   &  0                   &    0.00              &       0.00          \\\\\n",
       "\t Gage Gay             &  22                  & USA                  & 1994                 & 66                   & 145                  &  3                   & 24                   & 75                   & 25                   & ...                  &   0                  &  0                   &     0.00             &  0                   & 0.00                 & 0                    &  0                   &  0                   &    0.00              &       0.00          \\\\\n",
       "\t Chase Outlaw         &  23                  & USA                  & 1992                 & 65                   & 150                  &  4                   & 23                   & 66                   & 19                   & ...                  &  64                  & 21                   &  4186.50             & 21                   & 0.33                 & 1                    &  3                   &  8                   &    0.00              &  170203.48          \\\\\n",
       "\t Kasey Hayes          &  24                  & USA                  & 1985                 & 69                   & 140                  & 11                   & 22                   & 63                   & 22                   & ...                  &  26                  &  7                   &   914.25             & 40                   & 0.27                 & 0                    &  0                   &  1                   &    0.00              &   29116.33          \\\\\n",
       "\t L.J. Jenkins         &  25                  & USA                  & 1987                 & 70                   & 140                  & 10                   & 27                   & 83                   & 32                   & ...                  &  93                  & 49                   & 10621.25             &  3                   & 0.53                 & 1                    & 10                   & 13                   & 1212.75              &  239935.66          \\\\\n",
       "\t Eduardo Aparecido    &  27                  & BRA                  & 1990                 & 68                   & 160                  &  4                   & 27                   & 78                   & 37                   & ...                  &   0                  &  0                   &     0.00             &  0                   & 0.00                 & 0                    &  0                   &  0                   &    0.00              &       0.00          \\\\\n",
       "\t Stormy Wing          &  28                  & USA                  & 1989                 & 66                   & 145                  &  6                   & 25                   & 70                   & 21                   & ...                  &  80                  & 28                   &  5062.50             & 17                   & 0.35                 & 0                    &  5                   &  7                   &   83.25              &   93296.23          \\\\\n",
       "\t Ryan Dirteater       &  30                  & USA                  & 1989                 & 69                   & 155                  & 10                   & 25                   & 72                   & 25                   & ...                  &   0                  &  0                   &     0.00             &  0                   & 0.00                 & 0                    &  0                   &  0                   &    0.00              &       0.00          \\\\\n",
       "\t Bonner Bolton        &  31                  & USA                  & 1987                 & 71                   & 175                  &  9                   &  1                   &  3                   &  2                   & ...                  &   0                  &  0                   &     0.00             &  0                   & 0.00                 & 0                    &  0                   &  0                   &    0.00              &       0.00          \\\\\n",
       "\t Dave Mason           &  32                  & AUS                  & 1987                 & 68                   & 154                  &  7                   &  5                   & 10                   &  1                   & ...                  &   0                  &  0                   &     0.00             &  0                   & 0.00                 & 0                    &  0                   &  0                   &    0.00              &       0.00          \\\\\n",
       "\t Brady Sims           &  33                  & USA                  & 1993                 & 69                   & 160                  &  3                   & 20                   & 58                   & 19                   & ...                  &   0                  &  0                   &     0.00             &  0                   & 0.00                 & 0                    &  0                   &  0                   &    0.00              &       0.00          \\\\\n",
       "\t Douglas Duncan       &  35                  & USA                  & 1987                 & 68                   & 155                  & 10                   & 26                   & 63                   & 17                   & ...                  &  62                  & 18                   &  3842.50             & 23                   & 0.29                 & 0                    &  2                   &  7                   &  111.25              &   90687.00          \\\\\n",
       "\t Neil Holmes          &  36                  & USA                  & 1985                 & 68                   & 145                  &  7                   &  4                   & 11                   &  6                   & ...                  &   0                  &  0                   &     0.00             &  0                   & 0.00                 & 0                    &  0                   &  0                   &    0.00              &       0.00          \\\\\n",
       "\t Tyler Harr           &  39                  & USA                  & 1990                 & 70                   & 165                  &  7                   &  5                   & 12                   &  1                   & ...                  &   0                  &  0                   &     0.00             &  0                   & 0.00                 & 0                    &  0                   &  0                   &    0.00              &       0.00          \\\\\n",
       "\t Robson Palermo       &  40                  & BRA                  & 1983                 & 66                   & 120                  & 10                   & 14                   & 38                   & 14                   & ...                  &  57                  & 30                   &  9681.25             &  7                   & 0.53                 & 2                    &  5                   &  8                   & 4189.25              &  466599.60          \\\\\n",
       "\t Luis Blanco          &  41                  & BRA                  & 1986                 & 68                   & 175                  &  5                   &  4                   &  9                   &  1                   & ...                  &   0                  &  0                   &     0.00             &  0                   & 0.00                 & 0                    &  0                   &  0                   &    0.00              &       0.00          \\\\\n",
       "\t Lachlan Richardson   &  44                  & AUS                  & 1992                 & 69                   & 141                  &  4                   & 24                   & 62                   & 11                   & ...                  &  37                  &  7                   &  1408.75             & 34                   & 0.19                 & 1                    &  1                   &  2                   &    0.00              &   90044.06          \\\\\n",
       "\t Claudio Crisostomo   &  46                  & BRA                  & 1985                 & 71                   & 160                  &  7                   & 22                   & 59                   & 22                   & ...                  &   0                  &  0                   &     0.00             &  0                   & 0.00                 & 0                    &  0                   &  0                   &    0.00              &       0.00          \\\\\n",
       "\t Sean Willingham      &  47                  & USA                  & 1981                 & 70                   & 140                  & 16                   & 21                   & 60                   & 22                   & ...                  &  25                  &  5                   &   793.75             & 43                   & 0.20                 & 0                    &  0                   &  2                   &    0.00              &   21343.28          \\\\\n",
       "\t Thad Newell          &  51                  & USA                  & 1985                 & 71                   & 165                  &  5                   &  1                   &  1                   &  0                   & ...                  &   0                  &  0                   &     0.00             &  0                   & 0.00                 & 0                    &  0                   &  0                   &    0.00              &       0.00          \\\\\n",
       "\t Jay Miller           &  52                  & USA                  & 1992                 & 66                   & 165                  &  1                   &  4                   &  7                   &  1                   & ...                  &   0                  &  0                   &     0.00             &  0                   & 0.00                 & 0                    &  0                   &  0                   &    0.00              &       0.00          \\\\\n",
       "\t Marco Eguchi         &  53                  & BRA                  & 1989                 & 67                   & 135                  &  7                   & 27                   & 72                   & 26                   & ...                  &  84                  & 39                   &  7699.25             &  9                   & 0.46                 & 1                    &  9                   & 11                   &  571.00              &  226255.50          \\\\\n",
       "\t Austin Meier         &  55                  & USA                  & 1987                 & 71                   & 165                  & 10                   & 12                   & 28                   &  6                   & ...                  &  91                  & 49                   & 10249.75             &  5                   & 0.54                 & 2                    &  8                   & 12                   & 1773.25              &  311728.81          \\\\\n",
       "\t Jordan Hupp          &  58                  & USA                  & 1985                 & 60                   & 188                  & 10                   & 20                   & 56                   & 16                   & ...                  &  61                  & 23                   &  3031.50             & 27                   & 0.38                 & 1                    &  1                   &  5                   &    0.00              &   66814.33          \\\\\n",
       "\t Dakota Louis         &  62                  & USA                  & 1992                 & 72                   & 160                  &  4                   &  1                   &  3                   &  1                   & ...                  &   0                  &  0                   &     0.00             &  0                   & 0.00                 & 0                    &  0                   &  0                   &    0.00              &       0.00          \\\\\n",
       "\t David Kennedy        &  66                  & AUS                  & 1984                 & 69                   & 176                  &  7                   &  1                   &  2                   &  1                   & ...                  &   0                  &  0                   &     0.00             &  0                   & 0.00                 & 0                    &  0                   &  0                   &    0.00              &       0.00          \\\\\n",
       "\t Billy Robinson       &  66                  & USA                  & 1979                 & 68                   & 150                  & 17                   & 24                   & 61                   & 16                   & ...                  &  38                  &  9                   &  1217.50             & 38                   & 0.24                 & 0                    &  0                   &  2                   &    0.00              &   55617.33          \\\\\n",
       "\t Skeeter Kingsolver   &  70                  & USA                  & 1989                 & 70                   & 165                  &  7                   &  1                   &  2                   &  0                   & ...                  &   0                  &  0                   &     0.00             &  0                   & 0.00                 & 0                    &  0                   &  0                   &    0.00              &       0.00          \\\\\n",
       "\t Scott Schiffner      &  75                  & CAN                  & 1980                 & 68                   & 155                  & 14                   &  1                   &  2                   &  0                   & ...                  &   0                  &  0                   &     0.00             &  0                   & 0.00                 & 0                    &  0                   &  0                   &    0.00              &       0.00          \\\\\n",
       "\t Budd Williamson      &  77                  & AUS                  & 1986                 & 72                   & 155                  &  9                   &  2                   &  4                   &  1                   & ...                  &   0                  &  0                   &     0.00             &  0                   & 0.00                 & 0                    &  0                   &  0                   &    0.00              &       0.00          \\\\\n",
       "\t Josh Faircloth       &  77                  & USA                  & 1989                 & 70                   & 140                  &  8                   &  9                   & 26                   &  8                   & ...                  &   0                  &  0                   &     0.00             &  0                   & 0.00                 & 0                    &  0                   &  0                   &    0.00              &       0.00          \\\\\n",
       "\t Justin Granger       &  93                  & USA                  & 1991                 & 66                   & 115                  &  6                   &  1                   &  1                   &  0                   & ...                  &   0                  &  0                   &     0.00             &  0                   & 0.00                 & 0                    &  0                   &  0                   &    0.00              &       0.00          \\\\\n",
       "\t Dakota Beck          & 100                  & USA                  & 1991                 & 67                   & 155                  &  5                   &  1                   &  3                   &  0                   & ...                  &   0                  &  0                   &     0.00             &  0                   & 0.00                 & 0                    &  0                   &  0                   &    0.00              &       0.00          \\\\\n",
       "\t Harve Stewart        & 104                  & USA                  & 1987                 & 69                   & 150                  &  9                   & 19                   & 47                   & 11                   & ...                  &  81                  & 28                   &  5523.00             & 15                   & 0.35                 & 1                    &  4                   &  6                   &  186.50              &  150975.16          \\\\\n",
       "\t Brant Atwood         & 116                  & USA                  & 1987                 & 67                   & 140                  & 10                   &  8                   & 20                   &  2                   & ...                  &   4                  &  1                   &   261.75             & 65                   & 0.25                 & 0                    &  0                   &  1                   &    0.00              &   22059.59          \\\\\n",
       "\t Ty Pozzobon          & 148                  & CAN                  & 1991                 & 69                   & 135                  &  6                   & 22                   & 54                   & 16                   & ...                  &  78                  & 28                   &  4683.25             & 20                   & 0.36                 & 0                    &  2                   &  9                   &  424.00              &  106451.16          \\\\\n",
       "\t Kody Lostroh         & 279                  & USA                  & 1985                 & 66                   & 155                  & 11                   & 16                   & 42                   & 15                   & ...                  &  61                  & 23                   &  4700.00             & 19                   & 0.38                 & 1                    &  3                   &  8                   &  525.00              &  158470.75          \\\\\n",
       "\t Markus Mariluch      & 279                  & USA                  & 1985                 & 68                   & 155                  & 11                   & 21                   & 60                   & 24                   & ...                  &  20                  &  5                   &   554.25             & 49                   & 0.25                 & 0                    &  0                   &  0                   &    0.00              &   28806.83          \\\\\n",
       "\t Emilio Resende       & 279                  & BRA                  & 1987                 & 67                   & 150                  &  7                   & 26                   & 75                   & 27                   & ...                  &  45                  & 24                   &  6911.25             & 12                   & 0.53                 & 0                    &  3                   &  5                   & 3414.25              &  271470.63          \\\\\n",
       "\\end{tabular}\n"
      ],
      "text/markdown": [
       "\n",
       "| Rider | Rank15 | Country | YearBorn | Height | Weight | YearsPro | Events14 | BuckOuts14 | Rides14 | ... | BuckOuts12 | Rides12 | CupPoints12 | Rank12 | RidePer12 | Wins12 | Top5_12 | Top10_12 | FinalPoints12 | Earnings12 |\n",
       "|---|---|---|---|---|---|---|---|---|---|---|---|---|---|---|---|---|---|---|---|---|\n",
       "| Joao Ricardo Vieira  |   1                  | BRA                  | 1984                 | 66                   | 163                  |  3                   | 28                   | 93                   | 41                   | ...                  |   0                  |  0                   |     0.00             |  0                   | 0.00                 | 0                    |  0                   |  0                   |    0.00              |       0.00           |\n",
       "| Matt Triplett        |   2                  | USA                  | 1991                 | 67                   | 160                  |  4                   | 28                   | 86                   | 33                   | ...                  |   0                  |  0                   |     0.00             |  0                   | 0.00                 | 0                    |  0                   |  0                   |    0.00              |       0.00           |\n",
       "| J.B. Mauney          |   3                  | USA                  | 1987                 | 70                   | 140                  | 10                   | 22                   | 63                   | 25                   | ...                  |  82                  | 40                   |  9273.25             |  8                   | 0.49                 | 3                    |  8                   | 13                   |  287.00              |  313340.27           |\n",
       "| Kaique Pacheco       |   4                  | BRA                  | 1994                 | 68                   | 145                  |  2                   |  1                   |  1                   |  0                   | ...                  |   0                  |  0                   |     0.00             |  0                   | 0.00                 | 0                    |  0                   |  0                   |    0.00              |       0.00           |\n",
       "| Nathan Schaper       |   5                  | USA                  | 1990                 | 73                   | 160                  |  6                   | 15                   | 41                   | 17                   | ...                  |   0                  |  0                   |     0.00             |  0                   | 0.00                 | 0                    |  0                   |  0                   |    0.00              |       0.00           |\n",
       "| Valdiron de Oliveira |   6                  | BRA                  | 1979                 | 72                   | 170                  |  9                   | 28                   | 81                   | 29                   | ...                  |  87                  | 53                   | 10608.25             |  4                   | 0.61                 | 1                    | 10                   | 14                   |  559.50              |  208724.52           |\n",
       "| Guilherme Marchi     |   7                  | BRA                  | 1982                 | 70                   | 180                  | 16                   | 28                   | 90                   | 41                   | ...                  |  87                  | 50                   | 11542.00             |  2                   | 0.57                 | 2                    |  9                   | 12                   | 2519.75              |  331421.67           |\n",
       "| Silvano Alves        |   8                  | BRA                  | 1987                 | 67                   | 150                  |  7                   | 28                   | 92                   | 50                   | ...                  | 103                  | 62                   | 12201.75             |  1                   | 0.60                 | 2                    |  8                   | 18                   | 1648.00              | 1464475.61           |\n",
       "| Reese Cates          |   9                  | USA                  | 1989                 | 68                   | 135                  |  9                   | 12                   | 30                   |  8                   | ...                  |  10                  |  3                   |   428.50             | 53                   | 0.30                 | 0                    |  0                   |  1                   |    0.00              |   27987.21           |\n",
       "| J.W. Harris          |  10                  | USA                  | 1986                 | 70                   | 160                  | 10                   | 14                   | 37                   | 16                   | ...                  |   0                  |  0                   |     0.00             |  0                   | 0.00                 | 0                    |  0                   |  0                   |    0.00              |       0.00           |\n",
       "| Stetson Lawrence     |  11                  | USA                  | 1988                 | 70                   | 155                  |  8                   | 12                   | 33                   |  9                   | ...                  |   0                  |  0                   |     0.00             |  0                   | 0.00                 | 0                    |  0                   |  0                   |    0.00              |       0.00           |\n",
       "| Mike Lee             |  12                  | USA                  | 1983                 | 68                   | 140                  | 14                   | 26                   | 77                   | 32                   | ...                  |  64                  | 33                   |  6088.00             | 13                   | 0.52                 | 1                    |  5                   |  7                   | 1011.75              |  147952.34           |\n",
       "| Fabiano Vieira       |  13                  | BRA                  | 1982                 | 68                   | 175                  |  9                   | 26                   | 77                   | 42                   | ...                  |  70                  | 38                   |  7677.25             | 10                   | 0.54                 | 2                    |  5                   | 11                   |  171.75              |  191399.08           |\n",
       "| Cody Nance           |  14                  | USA                  | 1987                 | 68                   | 162                  |  9                   | 28                   | 84                   | 30                   | ...                  |  76                  | 29                   |  5068.25             | 16                   | 0.38                 | 1                    |  4                   |  7                   |  322.00              |  131580.54           |\n",
       "| Ben Jones            |  15                  | AUS                  | 1979                 | 71                   | 163                  | 17                   | 11                   | 23                   |  5                   | ...                  |  58                  | 26                   |  4840.75             | 18                   | 0.45                 | 0                    |  5                   |  7                   |    0.00              |  115844.10           |\n",
       "| Cooper Davis         |  16                  | USA                  | 1994                 | 69                   | 150                  |  3                   |  2                   |  6                   |  2                   | ...                  |   0                  |  0                   |     0.00             |  0                   | 0.00                 | 0                    |  0                   |  0                   |    0.00              |       0.00           |\n",
       "| Tanner Byrne         |  17                  | CAN                  | 1992                 | 76                   | 160                  |  4                   | 15                   | 42                   | 21                   | ...                  |   0                  |  0                   |     0.00             |  0                   | 0.00                 | 0                    |  0                   |  0                   |    0.00              |       0.00           |\n",
       "| Shane Proctor        |  19                  | USA                  | 1985                 | 68                   | 165                  | 10                   |  1                   |  3                   |  1                   | ...                  |  32                  |  8                   |  1387.50             | 35                   | 0.25                 | 0                    |  0                   |  3                   |    0.00              |   52443.96           |\n",
       "| Renato Nunes         |  20                  | BRA                  | 1981                 | 67                   | 135                  | 11                   | 26                   | 75                   | 25                   | ...                  |  91                  | 38                   |  9859.75             |  6                   | 0.42                 | 1                    |  5                   | 12                   | 3298.50              |  254709.57           |\n",
       "| Mason Lowe           |  21                  | USA                  | 1993                 | 71                   | 155                  |  3                   |  2                   |  4                   |  1                   | ...                  |   0                  |  0                   |     0.00             |  0                   | 0.00                 | 0                    |  0                   |  0                   |    0.00              |       0.00           |\n",
       "| Gage Gay             |  22                  | USA                  | 1994                 | 66                   | 145                  |  3                   | 24                   | 75                   | 25                   | ...                  |   0                  |  0                   |     0.00             |  0                   | 0.00                 | 0                    |  0                   |  0                   |    0.00              |       0.00           |\n",
       "| Chase Outlaw         |  23                  | USA                  | 1992                 | 65                   | 150                  |  4                   | 23                   | 66                   | 19                   | ...                  |  64                  | 21                   |  4186.50             | 21                   | 0.33                 | 1                    |  3                   |  8                   |    0.00              |  170203.48           |\n",
       "| Kasey Hayes          |  24                  | USA                  | 1985                 | 69                   | 140                  | 11                   | 22                   | 63                   | 22                   | ...                  |  26                  |  7                   |   914.25             | 40                   | 0.27                 | 0                    |  0                   |  1                   |    0.00              |   29116.33           |\n",
       "| L.J. Jenkins         |  25                  | USA                  | 1987                 | 70                   | 140                  | 10                   | 27                   | 83                   | 32                   | ...                  |  93                  | 49                   | 10621.25             |  3                   | 0.53                 | 1                    | 10                   | 13                   | 1212.75              |  239935.66           |\n",
       "| Eduardo Aparecido    |  27                  | BRA                  | 1990                 | 68                   | 160                  |  4                   | 27                   | 78                   | 37                   | ...                  |   0                  |  0                   |     0.00             |  0                   | 0.00                 | 0                    |  0                   |  0                   |    0.00              |       0.00           |\n",
       "| Stormy Wing          |  28                  | USA                  | 1989                 | 66                   | 145                  |  6                   | 25                   | 70                   | 21                   | ...                  |  80                  | 28                   |  5062.50             | 17                   | 0.35                 | 0                    |  5                   |  7                   |   83.25              |   93296.23           |\n",
       "| Ryan Dirteater       |  30                  | USA                  | 1989                 | 69                   | 155                  | 10                   | 25                   | 72                   | 25                   | ...                  |   0                  |  0                   |     0.00             |  0                   | 0.00                 | 0                    |  0                   |  0                   |    0.00              |       0.00           |\n",
       "| Bonner Bolton        |  31                  | USA                  | 1987                 | 71                   | 175                  |  9                   |  1                   |  3                   |  2                   | ...                  |   0                  |  0                   |     0.00             |  0                   | 0.00                 | 0                    |  0                   |  0                   |    0.00              |       0.00           |\n",
       "| Dave Mason           |  32                  | AUS                  | 1987                 | 68                   | 154                  |  7                   |  5                   | 10                   |  1                   | ...                  |   0                  |  0                   |     0.00             |  0                   | 0.00                 | 0                    |  0                   |  0                   |    0.00              |       0.00           |\n",
       "| Brady Sims           |  33                  | USA                  | 1993                 | 69                   | 160                  |  3                   | 20                   | 58                   | 19                   | ...                  |   0                  |  0                   |     0.00             |  0                   | 0.00                 | 0                    |  0                   |  0                   |    0.00              |       0.00           |\n",
       "| Douglas Duncan       |  35                  | USA                  | 1987                 | 68                   | 155                  | 10                   | 26                   | 63                   | 17                   | ...                  |  62                  | 18                   |  3842.50             | 23                   | 0.29                 | 0                    |  2                   |  7                   |  111.25              |   90687.00           |\n",
       "| Neil Holmes          |  36                  | USA                  | 1985                 | 68                   | 145                  |  7                   |  4                   | 11                   |  6                   | ...                  |   0                  |  0                   |     0.00             |  0                   | 0.00                 | 0                    |  0                   |  0                   |    0.00              |       0.00           |\n",
       "| Tyler Harr           |  39                  | USA                  | 1990                 | 70                   | 165                  |  7                   |  5                   | 12                   |  1                   | ...                  |   0                  |  0                   |     0.00             |  0                   | 0.00                 | 0                    |  0                   |  0                   |    0.00              |       0.00           |\n",
       "| Robson Palermo       |  40                  | BRA                  | 1983                 | 66                   | 120                  | 10                   | 14                   | 38                   | 14                   | ...                  |  57                  | 30                   |  9681.25             |  7                   | 0.53                 | 2                    |  5                   |  8                   | 4189.25              |  466599.60           |\n",
       "| Luis Blanco          |  41                  | BRA                  | 1986                 | 68                   | 175                  |  5                   |  4                   |  9                   |  1                   | ...                  |   0                  |  0                   |     0.00             |  0                   | 0.00                 | 0                    |  0                   |  0                   |    0.00              |       0.00           |\n",
       "| Lachlan Richardson   |  44                  | AUS                  | 1992                 | 69                   | 141                  |  4                   | 24                   | 62                   | 11                   | ...                  |  37                  |  7                   |  1408.75             | 34                   | 0.19                 | 1                    |  1                   |  2                   |    0.00              |   90044.06           |\n",
       "| Claudio Crisostomo   |  46                  | BRA                  | 1985                 | 71                   | 160                  |  7                   | 22                   | 59                   | 22                   | ...                  |   0                  |  0                   |     0.00             |  0                   | 0.00                 | 0                    |  0                   |  0                   |    0.00              |       0.00           |\n",
       "| Sean Willingham      |  47                  | USA                  | 1981                 | 70                   | 140                  | 16                   | 21                   | 60                   | 22                   | ...                  |  25                  |  5                   |   793.75             | 43                   | 0.20                 | 0                    |  0                   |  2                   |    0.00              |   21343.28           |\n",
       "| Thad Newell          |  51                  | USA                  | 1985                 | 71                   | 165                  |  5                   |  1                   |  1                   |  0                   | ...                  |   0                  |  0                   |     0.00             |  0                   | 0.00                 | 0                    |  0                   |  0                   |    0.00              |       0.00           |\n",
       "| Jay Miller           |  52                  | USA                  | 1992                 | 66                   | 165                  |  1                   |  4                   |  7                   |  1                   | ...                  |   0                  |  0                   |     0.00             |  0                   | 0.00                 | 0                    |  0                   |  0                   |    0.00              |       0.00           |\n",
       "| Marco Eguchi         |  53                  | BRA                  | 1989                 | 67                   | 135                  |  7                   | 27                   | 72                   | 26                   | ...                  |  84                  | 39                   |  7699.25             |  9                   | 0.46                 | 1                    |  9                   | 11                   |  571.00              |  226255.50           |\n",
       "| Austin Meier         |  55                  | USA                  | 1987                 | 71                   | 165                  | 10                   | 12                   | 28                   |  6                   | ...                  |  91                  | 49                   | 10249.75             |  5                   | 0.54                 | 2                    |  8                   | 12                   | 1773.25              |  311728.81           |\n",
       "| Jordan Hupp          |  58                  | USA                  | 1985                 | 60                   | 188                  | 10                   | 20                   | 56                   | 16                   | ...                  |  61                  | 23                   |  3031.50             | 27                   | 0.38                 | 1                    |  1                   |  5                   |    0.00              |   66814.33           |\n",
       "| Dakota Louis         |  62                  | USA                  | 1992                 | 72                   | 160                  |  4                   |  1                   |  3                   |  1                   | ...                  |   0                  |  0                   |     0.00             |  0                   | 0.00                 | 0                    |  0                   |  0                   |    0.00              |       0.00           |\n",
       "| David Kennedy        |  66                  | AUS                  | 1984                 | 69                   | 176                  |  7                   |  1                   |  2                   |  1                   | ...                  |   0                  |  0                   |     0.00             |  0                   | 0.00                 | 0                    |  0                   |  0                   |    0.00              |       0.00           |\n",
       "| Billy Robinson       |  66                  | USA                  | 1979                 | 68                   | 150                  | 17                   | 24                   | 61                   | 16                   | ...                  |  38                  |  9                   |  1217.50             | 38                   | 0.24                 | 0                    |  0                   |  2                   |    0.00              |   55617.33           |\n",
       "| Skeeter Kingsolver   |  70                  | USA                  | 1989                 | 70                   | 165                  |  7                   |  1                   |  2                   |  0                   | ...                  |   0                  |  0                   |     0.00             |  0                   | 0.00                 | 0                    |  0                   |  0                   |    0.00              |       0.00           |\n",
       "| Scott Schiffner      |  75                  | CAN                  | 1980                 | 68                   | 155                  | 14                   |  1                   |  2                   |  0                   | ...                  |   0                  |  0                   |     0.00             |  0                   | 0.00                 | 0                    |  0                   |  0                   |    0.00              |       0.00           |\n",
       "| Budd Williamson      |  77                  | AUS                  | 1986                 | 72                   | 155                  |  9                   |  2                   |  4                   |  1                   | ...                  |   0                  |  0                   |     0.00             |  0                   | 0.00                 | 0                    |  0                   |  0                   |    0.00              |       0.00           |\n",
       "| Josh Faircloth       |  77                  | USA                  | 1989                 | 70                   | 140                  |  8                   |  9                   | 26                   |  8                   | ...                  |   0                  |  0                   |     0.00             |  0                   | 0.00                 | 0                    |  0                   |  0                   |    0.00              |       0.00           |\n",
       "| Justin Granger       |  93                  | USA                  | 1991                 | 66                   | 115                  |  6                   |  1                   |  1                   |  0                   | ...                  |   0                  |  0                   |     0.00             |  0                   | 0.00                 | 0                    |  0                   |  0                   |    0.00              |       0.00           |\n",
       "| Dakota Beck          | 100                  | USA                  | 1991                 | 67                   | 155                  |  5                   |  1                   |  3                   |  0                   | ...                  |   0                  |  0                   |     0.00             |  0                   | 0.00                 | 0                    |  0                   |  0                   |    0.00              |       0.00           |\n",
       "| Harve Stewart        | 104                  | USA                  | 1987                 | 69                   | 150                  |  9                   | 19                   | 47                   | 11                   | ...                  |  81                  | 28                   |  5523.00             | 15                   | 0.35                 | 1                    |  4                   |  6                   |  186.50              |  150975.16           |\n",
       "| Brant Atwood         | 116                  | USA                  | 1987                 | 67                   | 140                  | 10                   |  8                   | 20                   |  2                   | ...                  |   4                  |  1                   |   261.75             | 65                   | 0.25                 | 0                    |  0                   |  1                   |    0.00              |   22059.59           |\n",
       "| Ty Pozzobon          | 148                  | CAN                  | 1991                 | 69                   | 135                  |  6                   | 22                   | 54                   | 16                   | ...                  |  78                  | 28                   |  4683.25             | 20                   | 0.36                 | 0                    |  2                   |  9                   |  424.00              |  106451.16           |\n",
       "| Kody Lostroh         | 279                  | USA                  | 1985                 | 66                   | 155                  | 11                   | 16                   | 42                   | 15                   | ...                  |  61                  | 23                   |  4700.00             | 19                   | 0.38                 | 1                    |  3                   |  8                   |  525.00              |  158470.75           |\n",
       "| Markus Mariluch      | 279                  | USA                  | 1985                 | 68                   | 155                  | 11                   | 21                   | 60                   | 24                   | ...                  |  20                  |  5                   |   554.25             | 49                   | 0.25                 | 0                    |  0                   |  0                   |    0.00              |   28806.83           |\n",
       "| Emilio Resende       | 279                  | BRA                  | 1987                 | 67                   | 150                  |  7                   | 26                   | 75                   | 27                   | ...                  |  45                  | 24                   |  6911.25             | 12                   | 0.53                 | 0                    |  3                   |  5                   | 3414.25              |  271470.63           |\n",
       "\n"
      ],
      "text/plain": [
       "   Rider                Rank15 Country YearBorn Height Weight YearsPro Events14\n",
       "1  Joao Ricardo Vieira    1    BRA     1984     66     163     3       28      \n",
       "2  Matt Triplett          2    USA     1991     67     160     4       28      \n",
       "3  J.B. Mauney            3    USA     1987     70     140    10       22      \n",
       "4  Kaique Pacheco         4    BRA     1994     68     145     2        1      \n",
       "5  Nathan Schaper         5    USA     1990     73     160     6       15      \n",
       "6  Valdiron de Oliveira   6    BRA     1979     72     170     9       28      \n",
       "7  Guilherme Marchi       7    BRA     1982     70     180    16       28      \n",
       "8  Silvano Alves          8    BRA     1987     67     150     7       28      \n",
       "9  Reese Cates            9    USA     1989     68     135     9       12      \n",
       "10 J.W. Harris           10    USA     1986     70     160    10       14      \n",
       "11 Stetson Lawrence      11    USA     1988     70     155     8       12      \n",
       "12 Mike Lee              12    USA     1983     68     140    14       26      \n",
       "13 Fabiano Vieira        13    BRA     1982     68     175     9       26      \n",
       "14 Cody Nance            14    USA     1987     68     162     9       28      \n",
       "15 Ben Jones             15    AUS     1979     71     163    17       11      \n",
       "16 Cooper Davis          16    USA     1994     69     150     3        2      \n",
       "17 Tanner Byrne          17    CAN     1992     76     160     4       15      \n",
       "18 Shane Proctor         19    USA     1985     68     165    10        1      \n",
       "19 Renato Nunes          20    BRA     1981     67     135    11       26      \n",
       "20 Mason Lowe            21    USA     1993     71     155     3        2      \n",
       "21 Gage Gay              22    USA     1994     66     145     3       24      \n",
       "22 Chase Outlaw          23    USA     1992     65     150     4       23      \n",
       "23 Kasey Hayes           24    USA     1985     69     140    11       22      \n",
       "24 L.J. Jenkins          25    USA     1987     70     140    10       27      \n",
       "25 Eduardo Aparecido     27    BRA     1990     68     160     4       27      \n",
       "26 Stormy Wing           28    USA     1989     66     145     6       25      \n",
       "27 Ryan Dirteater        30    USA     1989     69     155    10       25      \n",
       "28 Bonner Bolton         31    USA     1987     71     175     9        1      \n",
       "29 Dave Mason            32    AUS     1987     68     154     7        5      \n",
       "30 Brady Sims            33    USA     1993     69     160     3       20      \n",
       "31 Douglas Duncan        35    USA     1987     68     155    10       26      \n",
       "32 Neil Holmes           36    USA     1985     68     145     7        4      \n",
       "33 Tyler Harr            39    USA     1990     70     165     7        5      \n",
       "34 Robson Palermo        40    BRA     1983     66     120    10       14      \n",
       "35 Luis Blanco           41    BRA     1986     68     175     5        4      \n",
       "36 Lachlan Richardson    44    AUS     1992     69     141     4       24      \n",
       "37 Claudio Crisostomo    46    BRA     1985     71     160     7       22      \n",
       "38 Sean Willingham       47    USA     1981     70     140    16       21      \n",
       "39 Thad Newell           51    USA     1985     71     165     5        1      \n",
       "40 Jay Miller            52    USA     1992     66     165     1        4      \n",
       "41 Marco Eguchi          53    BRA     1989     67     135     7       27      \n",
       "42 Austin Meier          55    USA     1987     71     165    10       12      \n",
       "43 Jordan Hupp           58    USA     1985     60     188    10       20      \n",
       "44 Dakota Louis          62    USA     1992     72     160     4        1      \n",
       "45 David Kennedy         66    AUS     1984     69     176     7        1      \n",
       "46 Billy Robinson        66    USA     1979     68     150    17       24      \n",
       "47 Skeeter Kingsolver    70    USA     1989     70     165     7        1      \n",
       "48 Scott Schiffner       75    CAN     1980     68     155    14        1      \n",
       "49 Budd Williamson       77    AUS     1986     72     155     9        2      \n",
       "50 Josh Faircloth        77    USA     1989     70     140     8        9      \n",
       "51 Justin Granger        93    USA     1991     66     115     6        1      \n",
       "52 Dakota Beck          100    USA     1991     67     155     5        1      \n",
       "53 Harve Stewart        104    USA     1987     69     150     9       19      \n",
       "54 Brant Atwood         116    USA     1987     67     140    10        8      \n",
       "55 Ty Pozzobon          148    CAN     1991     69     135     6       22      \n",
       "56 Kody Lostroh         279    USA     1985     66     155    11       16      \n",
       "57 Markus Mariluch      279    USA     1985     68     155    11       21      \n",
       "58 Emilio Resende       279    BRA     1987     67     150     7       26      \n",
       "   BuckOuts14 Rides14 ... BuckOuts12 Rides12 CupPoints12 Rank12 RidePer12\n",
       "1  93         41      ...   0         0          0.00     0     0.00     \n",
       "2  86         33      ...   0         0          0.00     0     0.00     \n",
       "3  63         25      ...  82        40       9273.25     8     0.49     \n",
       "4   1          0      ...   0         0          0.00     0     0.00     \n",
       "5  41         17      ...   0         0          0.00     0     0.00     \n",
       "6  81         29      ...  87        53      10608.25     4     0.61     \n",
       "7  90         41      ...  87        50      11542.00     2     0.57     \n",
       "8  92         50      ... 103        62      12201.75     1     0.60     \n",
       "9  30          8      ...  10         3        428.50    53     0.30     \n",
       "10 37         16      ...   0         0          0.00     0     0.00     \n",
       "11 33          9      ...   0         0          0.00     0     0.00     \n",
       "12 77         32      ...  64        33       6088.00    13     0.52     \n",
       "13 77         42      ...  70        38       7677.25    10     0.54     \n",
       "14 84         30      ...  76        29       5068.25    16     0.38     \n",
       "15 23          5      ...  58        26       4840.75    18     0.45     \n",
       "16  6          2      ...   0         0          0.00     0     0.00     \n",
       "17 42         21      ...   0         0          0.00     0     0.00     \n",
       "18  3          1      ...  32         8       1387.50    35     0.25     \n",
       "19 75         25      ...  91        38       9859.75     6     0.42     \n",
       "20  4          1      ...   0         0          0.00     0     0.00     \n",
       "21 75         25      ...   0         0          0.00     0     0.00     \n",
       "22 66         19      ...  64        21       4186.50    21     0.33     \n",
       "23 63         22      ...  26         7        914.25    40     0.27     \n",
       "24 83         32      ...  93        49      10621.25     3     0.53     \n",
       "25 78         37      ...   0         0          0.00     0     0.00     \n",
       "26 70         21      ...  80        28       5062.50    17     0.35     \n",
       "27 72         25      ...   0         0          0.00     0     0.00     \n",
       "28  3          2      ...   0         0          0.00     0     0.00     \n",
       "29 10          1      ...   0         0          0.00     0     0.00     \n",
       "30 58         19      ...   0         0          0.00     0     0.00     \n",
       "31 63         17      ...  62        18       3842.50    23     0.29     \n",
       "32 11          6      ...   0         0          0.00     0     0.00     \n",
       "33 12          1      ...   0         0          0.00     0     0.00     \n",
       "34 38         14      ...  57        30       9681.25     7     0.53     \n",
       "35  9          1      ...   0         0          0.00     0     0.00     \n",
       "36 62         11      ...  37         7       1408.75    34     0.19     \n",
       "37 59         22      ...   0         0          0.00     0     0.00     \n",
       "38 60         22      ...  25         5        793.75    43     0.20     \n",
       "39  1          0      ...   0         0          0.00     0     0.00     \n",
       "40  7          1      ...   0         0          0.00     0     0.00     \n",
       "41 72         26      ...  84        39       7699.25     9     0.46     \n",
       "42 28          6      ...  91        49      10249.75     5     0.54     \n",
       "43 56         16      ...  61        23       3031.50    27     0.38     \n",
       "44  3          1      ...   0         0          0.00     0     0.00     \n",
       "45  2          1      ...   0         0          0.00     0     0.00     \n",
       "46 61         16      ...  38         9       1217.50    38     0.24     \n",
       "47  2          0      ...   0         0          0.00     0     0.00     \n",
       "48  2          0      ...   0         0          0.00     0     0.00     \n",
       "49  4          1      ...   0         0          0.00     0     0.00     \n",
       "50 26          8      ...   0         0          0.00     0     0.00     \n",
       "51  1          0      ...   0         0          0.00     0     0.00     \n",
       "52  3          0      ...   0         0          0.00     0     0.00     \n",
       "53 47         11      ...  81        28       5523.00    15     0.35     \n",
       "54 20          2      ...   4         1        261.75    65     0.25     \n",
       "55 54         16      ...  78        28       4683.25    20     0.36     \n",
       "56 42         15      ...  61        23       4700.00    19     0.38     \n",
       "57 60         24      ...  20         5        554.25    49     0.25     \n",
       "58 75         27      ...  45        24       6911.25    12     0.53     \n",
       "   Wins12 Top5_12 Top10_12 FinalPoints12 Earnings12\n",
       "1  0       0       0          0.00             0.00\n",
       "2  0       0       0          0.00             0.00\n",
       "3  3       8      13        287.00        313340.27\n",
       "4  0       0       0          0.00             0.00\n",
       "5  0       0       0          0.00             0.00\n",
       "6  1      10      14        559.50        208724.52\n",
       "7  2       9      12       2519.75        331421.67\n",
       "8  2       8      18       1648.00       1464475.61\n",
       "9  0       0       1          0.00         27987.21\n",
       "10 0       0       0          0.00             0.00\n",
       "11 0       0       0          0.00             0.00\n",
       "12 1       5       7       1011.75        147952.34\n",
       "13 2       5      11        171.75        191399.08\n",
       "14 1       4       7        322.00        131580.54\n",
       "15 0       5       7          0.00        115844.10\n",
       "16 0       0       0          0.00             0.00\n",
       "17 0       0       0          0.00             0.00\n",
       "18 0       0       3          0.00         52443.96\n",
       "19 1       5      12       3298.50        254709.57\n",
       "20 0       0       0          0.00             0.00\n",
       "21 0       0       0          0.00             0.00\n",
       "22 1       3       8          0.00        170203.48\n",
       "23 0       0       1          0.00         29116.33\n",
       "24 1      10      13       1212.75        239935.66\n",
       "25 0       0       0          0.00             0.00\n",
       "26 0       5       7         83.25         93296.23\n",
       "27 0       0       0          0.00             0.00\n",
       "28 0       0       0          0.00             0.00\n",
       "29 0       0       0          0.00             0.00\n",
       "30 0       0       0          0.00             0.00\n",
       "31 0       2       7        111.25         90687.00\n",
       "32 0       0       0          0.00             0.00\n",
       "33 0       0       0          0.00             0.00\n",
       "34 2       5       8       4189.25        466599.60\n",
       "35 0       0       0          0.00             0.00\n",
       "36 1       1       2          0.00         90044.06\n",
       "37 0       0       0          0.00             0.00\n",
       "38 0       0       2          0.00         21343.28\n",
       "39 0       0       0          0.00             0.00\n",
       "40 0       0       0          0.00             0.00\n",
       "41 1       9      11        571.00        226255.50\n",
       "42 2       8      12       1773.25        311728.81\n",
       "43 1       1       5          0.00         66814.33\n",
       "44 0       0       0          0.00             0.00\n",
       "45 0       0       0          0.00             0.00\n",
       "46 0       0       2          0.00         55617.33\n",
       "47 0       0       0          0.00             0.00\n",
       "48 0       0       0          0.00             0.00\n",
       "49 0       0       0          0.00             0.00\n",
       "50 0       0       0          0.00             0.00\n",
       "51 0       0       0          0.00             0.00\n",
       "52 0       0       0          0.00             0.00\n",
       "53 1       4       6        186.50        150975.16\n",
       "54 0       0       1          0.00         22059.59\n",
       "55 0       2       9        424.00        106451.16\n",
       "56 1       3       8        525.00        158470.75\n",
       "57 0       0       0          0.00         28806.83\n",
       "58 0       3       5       3414.25        271470.63"
      ]
     },
     "metadata": {},
     "output_type": "display_data"
    }
   ],
   "source": [
    "br"
   ]
  },
  {
   "cell_type": "code",
   "execution_count": 5,
   "metadata": {},
   "outputs": [],
   "source": [
    "top15 = br[br$Rank15 <= 15,]"
   ]
  },
  {
   "cell_type": "code",
   "execution_count": 7,
   "metadata": {},
   "outputs": [
    {
     "data": {
      "text/html": [
       "1"
      ],
      "text/latex": [
       "1"
      ],
      "text/markdown": [
       "1"
      ],
      "text/plain": [
       "[1] 1"
      ]
     },
     "metadata": {},
     "output_type": "display_data"
    }
   ],
   "source": [
    "min(top15$BuckOuts14)"
   ]
  },
  {
   "cell_type": "code",
   "execution_count": 10,
   "metadata": {},
   "outputs": [
    {
     "data": {
      "text/html": [
       "4"
      ],
      "text/latex": [
       "4"
      ],
      "text/markdown": [
       "4"
      ],
      "text/plain": [
       "[1] 4"
      ]
     },
     "metadata": {},
     "output_type": "display_data"
    }
   ],
   "source": [
    "which(top15$BuckOuts14 == 1)"
   ]
  },
  {
   "cell_type": "code",
   "execution_count": 11,
   "metadata": {},
   "outputs": [
    {
     "data": {
      "text/html": [
       "<table>\n",
       "<thead><tr><th></th><th scope=col>Rider</th><th scope=col>Rank15</th><th scope=col>Country</th><th scope=col>YearBorn</th><th scope=col>Height</th><th scope=col>Weight</th><th scope=col>YearsPro</th><th scope=col>Events14</th><th scope=col>BuckOuts14</th><th scope=col>Rides14</th><th scope=col>...</th><th scope=col>BuckOuts12</th><th scope=col>Rides12</th><th scope=col>CupPoints12</th><th scope=col>Rank12</th><th scope=col>RidePer12</th><th scope=col>Wins12</th><th scope=col>Top5_12</th><th scope=col>Top10_12</th><th scope=col>FinalPoints12</th><th scope=col>Earnings12</th></tr></thead>\n",
       "<tbody>\n",
       "\t<tr><th scope=row>4</th><td>Kaique Pacheco</td><td>4             </td><td>BRA           </td><td>1994          </td><td>68            </td><td>145           </td><td>2             </td><td>1             </td><td>1             </td><td>0             </td><td>...           </td><td>0             </td><td>0             </td><td>0             </td><td>0             </td><td>0             </td><td>0             </td><td>0             </td><td>0             </td><td>0             </td><td>0             </td></tr>\n",
       "</tbody>\n",
       "</table>\n"
      ],
      "text/latex": [
       "\\begin{tabular}{r|llllllllllllllllllllllllllllllllllllllllllll}\n",
       "  & Rider & Rank15 & Country & YearBorn & Height & Weight & YearsPro & Events14 & BuckOuts14 & Rides14 & ... & BuckOuts12 & Rides12 & CupPoints12 & Rank12 & RidePer12 & Wins12 & Top5\\_12 & Top10\\_12 & FinalPoints12 & Earnings12\\\\\n",
       "\\hline\n",
       "\t4 & Kaique Pacheco & 4              & BRA            & 1994           & 68             & 145            & 2              & 1              & 1              & 0              & ...            & 0              & 0              & 0              & 0              & 0              & 0              & 0              & 0              & 0              & 0             \\\\\n",
       "\\end{tabular}\n"
      ],
      "text/markdown": [
       "\n",
       "| <!--/--> | Rider | Rank15 | Country | YearBorn | Height | Weight | YearsPro | Events14 | BuckOuts14 | Rides14 | ... | BuckOuts12 | Rides12 | CupPoints12 | Rank12 | RidePer12 | Wins12 | Top5_12 | Top10_12 | FinalPoints12 | Earnings12 |\n",
       "|---|---|---|---|---|---|---|---|---|---|---|---|---|---|---|---|---|---|---|---|---|---|\n",
       "| 4 | Kaique Pacheco | 4              | BRA            | 1994           | 68             | 145            | 2              | 1              | 1              | 0              | ...            | 0              | 0              | 0              | 0              | 0              | 0              | 0              | 0              | 0              | 0              |\n",
       "\n"
      ],
      "text/plain": [
       "  Rider          Rank15 Country YearBorn Height Weight YearsPro Events14\n",
       "4 Kaique Pacheco 4      BRA     1994     68     145    2        1       \n",
       "  BuckOuts14 Rides14 ... BuckOuts12 Rides12 CupPoints12 Rank12 RidePer12 Wins12\n",
       "4 1          0       ... 0          0       0           0      0         0     \n",
       "  Top5_12 Top10_12 FinalPoints12 Earnings12\n",
       "4 0       0        0             0         "
      ]
     },
     "metadata": {},
     "output_type": "display_data"
    }
   ],
   "source": [
    "top15[4,]"
   ]
  },
  {
   "cell_type": "code",
   "execution_count": 19,
   "metadata": {},
   "outputs": [
    {
     "data": {
      "text/plain": [
       "Package: SDSFoundations\n",
       "Type: Package\n",
       "Title: Collection of functions and data for The University of Texas\n",
       "        Department of Statistics MOOC: Foundations of Data Analysis.\n",
       "LazyData: yes\n",
       "Version: 1.3\n",
       "Date: 2015-12-30\n",
       "Author: Michael J. Mahometa & Sally K. Amen\n",
       "Maintainer: Michael J. Mahometa <michael.mahometa@ssc.utexas.edu>\n",
       "Description: These functions do several helper things. There are\n",
       "        functions to fit single models (linear, exponential, and\n",
       "        logistic growth), with minimal output. There are functions to\n",
       "        fit all three models to examine overall model fit. Included in\n",
       "        the package are various data files for use in some labs.\n",
       "License: CC BY-NC-ND 3.0 US\n",
       "Built: R 3.1.2; ; 2016-01-05 15:54:10 UTC; windows\n",
       "\n",
       "-- File: C:/Program Files/R/R-3.6.1/library/SDSFoundations/Meta/package.rds "
      ]
     },
     "metadata": {},
     "output_type": "display_data"
    }
   ],
   "source": [
    "packageDescription(\"SDSFoundations\")"
   ]
  },
  {
   "cell_type": "markdown",
   "metadata": {},
   "source": [
    "# For the 2013 season, Is there a linear relationship between how often a rider places in the Top 10 and the number of times he stayed on his bull for a full 8 seconds?"
   ]
  },
  {
   "cell_type": "markdown",
   "metadata": {},
   "source": [
    "## riders that participated in 2013"
   ]
  },
  {
   "cell_type": "code",
   "execution_count": 7,
   "metadata": {},
   "outputs": [],
   "source": [
    "r13 <- br[br$Events13 > 0,]"
   ]
  },
  {
   "cell_type": "code",
   "execution_count": 15,
   "metadata": {},
   "outputs": [
    {
     "data": {
      "text/html": [
       "<ol class=list-inline>\n",
       "\t<li>0</li>\n",
       "\t<li>11</li>\n",
       "\t<li>19</li>\n",
       "\t<li>25</li>\n",
       "\t<li>50</li>\n",
       "</ol>\n"
      ],
      "text/latex": [
       "\\begin{enumerate*}\n",
       "\\item 0\n",
       "\\item 11\n",
       "\\item 19\n",
       "\\item 25\n",
       "\\item 50\n",
       "\\end{enumerate*}\n"
      ],
      "text/markdown": [
       "1. 0\n",
       "2. 11\n",
       "3. 19\n",
       "4. 25\n",
       "5. 50\n",
       "\n",
       "\n"
      ],
      "text/plain": [
       "[1]  0 11 19 25 50"
      ]
     },
     "metadata": {},
     "output_type": "display_data"
    },
    {
     "data": {
      "text/html": [
       "18.7317073170732"
      ],
      "text/latex": [
       "18.7317073170732"
      ],
      "text/markdown": [
       "18.7317073170732"
      ],
      "text/plain": [
       "[1] 18.73171"
      ]
     },
     "metadata": {},
     "output_type": "display_data"
    },
    {
     "data": {
      "text/html": [
       "12.7318977184156"
      ],
      "text/latex": [
       "12.7318977184156"
      ],
      "text/markdown": [
       "12.7318977184156"
      ],
      "text/plain": [
       "[1] 12.7319"
      ]
     },
     "metadata": {},
     "output_type": "display_data"
    },
    {
     "data": {
      "image/png": "[encoded data removed]",
      "text/plain": [
       "Plot with title \"Histogram of r13$Rides13\""
      ]
     },
     "metadata": {},
     "output_type": "display_data"
    }
   ],
   "source": [
    "fivenum(r13$Rides13)\n",
    "mean(r13$Rides13)\n",
    "sd(r13$Rides13)\n",
    "hist(r13$Rides13,breaks = 15)"
   ]
  },
  {
   "cell_type": "code",
   "execution_count": 16,
   "metadata": {},
   "outputs": [
    {
     "data": {
      "text/html": [
       "<ol class=list-inline>\n",
       "\t<li>0</li>\n",
       "\t<li>2</li>\n",
       "\t<li>6</li>\n",
       "\t<li>8</li>\n",
       "\t<li>14</li>\n",
       "</ol>\n"
      ],
      "text/latex": [
       "\\begin{enumerate*}\n",
       "\\item 0\n",
       "\\item 2\n",
       "\\item 6\n",
       "\\item 8\n",
       "\\item 14\n",
       "\\end{enumerate*}\n"
      ],
      "text/markdown": [
       "1. 0\n",
       "2. 2\n",
       "3. 6\n",
       "4. 8\n",
       "5. 14\n",
       "\n",
       "\n"
      ],
      "text/plain": [
       "[1]  0  2  6  8 14"
      ]
     },
     "metadata": {},
     "output_type": "display_data"
    },
    {
     "data": {
      "text/html": [
       "5.39024390243902"
      ],
      "text/latex": [
       "5.39024390243902"
      ],
      "text/markdown": [
       "5.39024390243902"
      ],
      "text/plain": [
       "[1] 5.390244"
      ]
     },
     "metadata": {},
     "output_type": "display_data"
    },
    {
     "data": {
      "text/html": [
       "4.03657062851926"
      ],
      "text/latex": [
       "4.03657062851926"
      ],
      "text/markdown": [
       "4.03657062851926"
      ],
      "text/plain": [
       "[1] 4.036571"
      ]
     },
     "metadata": {},
     "output_type": "display_data"
    },
    {
     "data": {
      "image/png": "[encoded data removed]",
      "text/plain": [
       "Plot with title \"Histogram of r13$Top10_13\""
      ]
     },
     "metadata": {},
     "output_type": "display_data"
    }
   ],
   "source": [
    "fivenum(r13$Top10_13)\n",
    "mean(r13$Top10_13)\n",
    "sd(r13$Top10_13)\n",
    "hist(r13$Top10_13,breaks = 15)"
   ]
  },
  {
   "cell_type": "code",
   "execution_count": 8,
   "metadata": {
    "scrolled": true
   },
   "outputs": [
    {
     "name": "stdout",
     "output_type": "stream",
     "text": [
      "'data.frame':\t41 obs. of  44 variables:\n",
      " $ Rider             : chr  \"Joao Ricardo Vieira\" \"Matt Triplett\" \"J.B. Mauney\" \"Nathan Schaper\" ...\n",
      " $ Rank15            : int  1 2 3 5 6 7 8 9 11 12 ...\n",
      " $ Country           : chr  \"BRA\" \"USA\" \"USA\" \"USA\" ...\n",
      " $ YearBorn          : int  1984 1991 1987 1990 1979 1982 1987 1989 1988 1983 ...\n",
      " $ Height            : int  66 67 70 73 72 70 67 68 70 68 ...\n",
      " $ Weight            : int  163 160 140 160 170 180 150 135 155 140 ...\n",
      " $ YearsPro          : int  3 4 10 6 9 16 7 9 8 14 ...\n",
      " $ Events14          : int  28 28 22 15 28 28 28 12 12 26 ...\n",
      " $ BuckOuts14        : int  93 86 63 41 81 90 92 30 33 77 ...\n",
      " $ Rides14           : int  41 33 25 17 29 41 50 8 9 32 ...\n",
      " $ CupPoints14       : num  9520 7494 4974 3240 5733 ...\n",
      " $ Rank14            : int  2 3 4 31 17 8 1 54 29 7 ...\n",
      " $ RidePer14         : num  0.441 0.384 0.397 0.415 0.358 ...\n",
      " $ RidesPer_45bull_14: num  0 0.2 0.5 0 0 ...\n",
      " $ Rides90pts_14     : int  5 2 4 0 1 2 1 0 0 0 ...\n",
      " $ Wins14            : int  2 0 2 1 2 1 0 0 0 2 ...\n",
      " $ Top5_14           : int  10 4 5 1 5 6 7 1 1 7 ...\n",
      " $ Top10_14          : int  14 11 5 3 8 15 12 2 4 9 ...\n",
      " $ FinalPoints14     : num  1152.8 2743.2 4553.5 83.5 0 ...\n",
      " $ Earnings14        : num  328121 258026 497598 77426 142893 ...\n",
      " $ Events13          : int  22 9 26 24 19 27 27 11 9 27 ...\n",
      " $ BuckOuts13        : int  72 26 90 66 53 84 91 26 18 80 ...\n",
      " $ Rides13           : int  35 11 47 22 25 39 50 6 2 24 ...\n",
      " $ CupPoints13       : num  8749 2827 10399 4304 5238 ...\n",
      " $ Rank13            : int  3 26 1 25 16 4 2 42 40 10 ...\n",
      " $ RidePer13         : num  0.486 0.423 0.522 0.333 0.472 ...\n",
      " $ RidesPer_45bull_13: num  0.375 1 0.267 0 0 ...\n",
      " $ Rides90pts_13     : int  4 1 8 0 0 0 3 0 0 1 ...\n",
      " $ Wins13            : int  3 0 5 0 0 2 3 0 0 1 ...\n",
      " $ Top5_13           : int  5 1 11 2 6 5 11 1 0 2 ...\n",
      " $ Top10_13          : int  9 2 14 2 6 11 13 2 2 6 ...\n",
      " $ FinalPoints13     : num  1991 1257 5296 0 436 ...\n",
      " $ Earnings13        : num  466585 89378 1810711 58577 107942 ...\n",
      " $ Events12          : int  0 0 26 0 28 29 29 5 0 20 ...\n",
      " $ BuckOuts12        : int  0 0 82 0 87 87 103 10 0 64 ...\n",
      " $ Rides12           : int  0 0 40 0 53 50 62 3 0 33 ...\n",
      " $ CupPoints12       : num  0 0 9273 0 10608 ...\n",
      " $ Rank12            : int  0 0 8 0 4 2 1 53 0 13 ...\n",
      " $ RidePer12         : num  0 0 0.49 0 0.61 0.57 0.6 0.3 0 0.52 ...\n",
      " $ Wins12            : int  0 0 3 0 1 2 2 0 0 1 ...\n",
      " $ Top5_12           : int  0 0 8 0 10 9 8 0 0 5 ...\n",
      " $ Top10_12          : int  0 0 13 0 14 12 18 1 0 7 ...\n",
      " $ FinalPoints12     : num  0 0 287 0 560 ...\n",
      " $ Earnings12        : num  0 0 313340 0 208725 ...\n"
     ]
    }
   ],
   "source": [
    "str(r13)"
   ]
  },
  {
   "cell_type": "code",
   "execution_count": 11,
   "metadata": {},
   "outputs": [
    {
     "data": {
      "image/png": "[encoded data removed]",
      "text/plain": [
       "plot without title"
      ]
     },
     "metadata": {},
     "output_type": "display_data"
    }
   ],
   "source": [
    "plot(r13$Rides13,r13$Top10_13,xlab = 'no. of full 8 sec rides',ylab = 'no. of times placed in top 10')\n",
    "abline(lm(r13$Top10_13~r13$Rides13))"
   ]
  },
  {
   "cell_type": "code",
   "execution_count": 22,
   "metadata": {},
   "outputs": [
    {
     "data": {
      "text/html": [
       "0.917"
      ],
      "text/latex": [
       "0.917"
      ],
      "text/markdown": [
       "0.917"
      ],
      "text/plain": [
       "[1] 0.917"
      ]
     },
     "metadata": {},
     "output_type": "display_data"
    }
   ],
   "source": [
    "round(cor(r13$Rides13,r13$Top10_13),3)"
   ]
  },
  {
   "cell_type": "markdown",
   "metadata": {},
   "source": [
    "## correlation matrix"
   ]
  },
  {
   "cell_type": "code",
   "execution_count": 17,
   "metadata": {},
   "outputs": [
    {
     "data": {
      "text/html": [
       "<table>\n",
       "<thead><tr><th></th><th scope=col>Top10_13</th><th scope=col>Rides13</th></tr></thead>\n",
       "<tbody>\n",
       "\t<tr><th scope=row>Top10_13</th><td>1.000000</td><td>0.916606</td></tr>\n",
       "\t<tr><th scope=row>Rides13</th><td>0.916606</td><td>1.000000</td></tr>\n",
       "</tbody>\n",
       "</table>\n"
      ],
      "text/latex": [
       "\\begin{tabular}{r|ll}\n",
       "  & Top10\\_13 & Rides13\\\\\n",
       "\\hline\n",
       "\tTop10\\_13 & 1.000000 & 0.916606\\\\\n",
       "\tRides13 & 0.916606 & 1.000000\\\\\n",
       "\\end{tabular}\n"
      ],
      "text/markdown": [
       "\n",
       "| <!--/--> | Top10_13 | Rides13 |\n",
       "|---|---|---|\n",
       "| Top10_13 | 1.000000 | 0.916606 |\n",
       "| Rides13 | 0.916606 | 1.000000 |\n",
       "\n"
      ],
      "text/plain": [
       "         Top10_13 Rides13 \n",
       "Top10_13 1.000000 0.916606\n",
       "Rides13  0.916606 1.000000"
      ]
     },
     "metadata": {},
     "output_type": "display_data"
    }
   ],
   "source": [
    "vars <- c(\"Top10_13\", \"Rides13\")\n",
    "cor(r13[,vars])"
   ]
  },
  {
   "cell_type": "code",
   "execution_count": 24,
   "metadata": {},
   "outputs": [
    {
     "data": {
      "text/html": [
       "4"
      ],
      "text/latex": [
       "4"
      ],
      "text/markdown": [
       "4"
      ],
      "text/plain": [
       "[1] 4"
      ]
     },
     "metadata": {},
     "output_type": "display_data"
    }
   ],
   "source": [
    "which(r13$Top10_13==2 & r13$Rides13==22)"
   ]
  },
  {
   "cell_type": "code",
   "execution_count": 27,
   "metadata": {},
   "outputs": [
    {
     "name": "stdout",
     "output_type": "stream",
     "text": [
      "           Rider Rank15 Country YearBorn Height Weight YearsPro Events14\n",
      "5 Nathan Schaper      5     USA     1990     73    160        6       15\n",
      "  BuckOuts14 Rides14 CupPoints14 Rank14 RidePer14 RidesPer_45bull_14\n",
      "5         41      17     3240.25     31    0.4146                  0\n",
      "  Rides90pts_14 Wins14 Top5_14 Top10_14 FinalPoints14 Earnings14 Events13\n",
      "5             0      1       1        3          83.5    77426.3       24\n",
      "  BuckOuts13 Rides13 CupPoints13 Rank13 RidePer13 RidesPer_45bull_13\n",
      "5         66      22     4304.41     25    0.3333                  0\n",
      "  Rides90pts_13 Wins13 Top5_13 Top10_13 FinalPoints13 Earnings13 Events12\n",
      "5             0      0       2        2             0   58577.22        0\n",
      "  BuckOuts12 Rides12 CupPoints12 Rank12 RidePer12 Wins12 Top5_12 Top10_12\n",
      "5          0       0           0      0         0      0       0        0\n",
      "  FinalPoints12 Earnings12\n",
      "5             0          0\n"
     ]
    }
   ],
   "source": [
    "print(r13[4,])"
   ]
  },
  {
   "cell_type": "code",
   "execution_count": 21,
   "metadata": {},
   "outputs": [
    {
     "data": {
      "image/png": "[encoded data removed]",
      "text/plain": [
       "plot without title"
      ]
     },
     "metadata": {},
     "output_type": "display_data"
    }
   ],
   "source": [
    "plot(br$Events12, br$BuckOuts12)\n",
    "abline(lm(br$BuckOuts12~br$Events12))"
   ]
  },
  {
   "cell_type": "code",
   "execution_count": null,
   "metadata": {},
   "outputs": [],
   "source": []
  }
 ],
 "metadata": {
  "kernelspec": {
   "display_name": "R",
   "language": "R",
   "name": "ir"
  },
  "language_info": {
   "codemirror_mode": "r",
   "file_extension": ".r",
   "mimetype": "text/x-r-source",
   "name": "R",
   "pygments_lexer": "r",
   "version": "3.6.1"
  }
 },
 "nbformat": 4,
 "nbformat_minor": 2
}

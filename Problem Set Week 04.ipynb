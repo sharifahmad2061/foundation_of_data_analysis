{
 "cells": [
  {
   "cell_type": "markdown",
   "metadata": {},
   "source": [
    "# Import Data"
   ]
  },
  {
   "cell_type": "code",
   "execution_count": 1,
   "metadata": {},
   "outputs": [],
   "source": [
    "library(SDSFoundations,lib.loc = 'C:\\\\Program Files\\\\R\\\\R-3.6.1\\\\library')\n",
    "bd <- BullRiders"
   ]
  },
  {
   "cell_type": "code",
   "execution_count": 3,
   "metadata": {},
   "outputs": [
    {
     "name": "stdout",
     "output_type": "stream",
     "text": [
      "'data.frame':\t58 obs. of  44 variables:\n",
      " $ Rider             : chr  \"Joao Ricardo Vieira\" \"Matt Triplett\" \"J.B. Mauney\" \"Kaique Pacheco\" ...\n",
      " $ Rank15            : int  1 2 3 4 5 6 7 8 9 10 ...\n",
      " $ Country           : chr  \"BRA\" \"USA\" \"USA\" \"BRA\" ...\n",
      " $ YearBorn          : int  1984 1991 1987 1994 1990 1979 1982 1987 1989 1986 ...\n",
      " $ Height            : int  66 67 70 68 73 72 70 67 68 70 ...\n",
      " $ Weight            : int  163 160 140 145 160 170 180 150 135 160 ...\n",
      " $ YearsPro          : int  3 4 10 2 6 9 16 7 9 10 ...\n",
      " $ Events14          : int  28 28 22 1 15 28 28 28 12 14 ...\n",
      " $ BuckOuts14        : int  93 86 63 1 41 81 90 92 30 37 ...\n",
      " $ Rides14           : int  41 33 25 0 17 29 41 50 8 16 ...\n",
      " $ CupPoints14       : num  9520 7494 4974 1672 3240 ...\n",
      " $ Rank14            : int  2 3 4 0 31 17 8 1 54 9 ...\n",
      " $ RidePer14         : num  0.441 0.384 0.397 0 0.415 ...\n",
      " $ RidesPer_45bull_14: num  0 0.2 0.5 0 0 ...\n",
      " $ Rides90pts_14     : int  5 2 4 0 0 1 2 1 0 2 ...\n",
      " $ Wins14            : int  2 0 2 0 1 2 1 0 0 0 ...\n",
      " $ Top5_14           : int  10 4 5 0 1 5 6 7 1 2 ...\n",
      " $ Top10_14          : int  14 11 5 0 3 8 15 12 2 4 ...\n",
      " $ FinalPoints14     : num  1152.8 2743.2 4553.5 0 83.5 ...\n",
      " $ Earnings14        : num  328121 258026 497598 32978 77426 ...\n",
      " $ Events13          : int  22 9 26 0 24 19 27 27 11 0 ...\n",
      " $ BuckOuts13        : int  72 26 90 0 66 53 84 91 26 0 ...\n",
      " $ Rides13           : int  35 11 47 0 22 25 39 50 6 0 ...\n",
      " $ CupPoints13       : num  8749 2827 10399 0 4304 ...\n",
      " $ Rank13            : int  3 26 1 0 25 16 4 2 42 0 ...\n",
      " $ RidePer13         : num  0.486 0.423 0.522 0 0.333 ...\n",
      " $ RidesPer_45bull_13: num  0.375 1 0.267 0 0 ...\n",
      " $ Rides90pts_13     : int  4 1 8 0 0 0 0 3 0 0 ...\n",
      " $ Wins13            : int  3 0 5 0 0 0 2 3 0 0 ...\n",
      " $ Top5_13           : int  5 1 11 0 2 6 5 11 1 0 ...\n",
      " $ Top10_13          : int  9 2 14 0 2 6 11 13 2 0 ...\n",
      " $ FinalPoints13     : num  1991 1257 5296 0 0 ...\n",
      " $ Earnings13        : num  466585 89378 1810711 0 58577 ...\n",
      " $ Events12          : int  0 0 26 0 0 28 29 29 5 0 ...\n",
      " $ BuckOuts12        : int  0 0 82 0 0 87 87 103 10 0 ...\n",
      " $ Rides12           : int  0 0 40 0 0 53 50 62 3 0 ...\n",
      " $ CupPoints12       : num  0 0 9273 0 0 ...\n",
      " $ Rank12            : int  0 0 8 0 0 4 2 1 53 0 ...\n",
      " $ RidePer12         : num  0 0 0.49 0 0 0.61 0.57 0.6 0.3 0 ...\n",
      " $ Wins12            : int  0 0 3 0 0 1 2 2 0 0 ...\n",
      " $ Top5_12           : int  0 0 8 0 0 10 9 8 0 0 ...\n",
      " $ Top10_12          : int  0 0 13 0 0 14 12 18 1 0 ...\n",
      " $ FinalPoints12     : num  0 0 287 0 0 ...\n",
      " $ Earnings12        : num  0 0 313340 0 0 ...\n"
     ]
    }
   ],
   "source": [
    "str(bd)"
   ]
  },
  {
   "cell_type": "code",
   "execution_count": 9,
   "metadata": {},
   "outputs": [],
   "source": [
    "br14 <- bd[bd$Rides14 > 0,]"
   ]
  },
  {
   "cell_type": "code",
   "execution_count": 10,
   "metadata": {},
   "outputs": [
    {
     "name": "stdout",
     "output_type": "stream",
     "text": [
      "'data.frame':\t52 obs. of  44 variables:\n",
      " $ Rider             : chr  \"Joao Ricardo Vieira\" \"Matt Triplett\" \"J.B. Mauney\" \"Nathan Schaper\" ...\n",
      " $ Rank15            : int  1 2 3 5 6 7 8 9 10 11 ...\n",
      " $ Country           : chr  \"BRA\" \"USA\" \"USA\" \"USA\" ...\n",
      " $ YearBorn          : int  1984 1991 1987 1990 1979 1982 1987 1989 1986 1988 ...\n",
      " $ Height            : int  66 67 70 73 72 70 67 68 70 70 ...\n",
      " $ Weight            : int  163 160 140 160 170 180 150 135 160 155 ...\n",
      " $ YearsPro          : int  3 4 10 6 9 16 7 9 10 8 ...\n",
      " $ Events14          : int  28 28 22 15 28 28 28 12 14 12 ...\n",
      " $ BuckOuts14        : int  93 86 63 41 81 90 92 30 37 33 ...\n",
      " $ Rides14           : int  41 33 25 17 29 41 50 8 16 9 ...\n",
      " $ CupPoints14       : num  9520 7494 4974 3240 5733 ...\n",
      " $ Rank14            : int  2 3 4 31 17 8 1 54 9 29 ...\n",
      " $ RidePer14         : num  0.441 0.384 0.397 0.415 0.358 ...\n",
      " $ RidesPer_45bull_14: num  0 0.2 0.5 0 0 ...\n",
      " $ Rides90pts_14     : int  5 2 4 0 1 2 1 0 2 0 ...\n",
      " $ Wins14            : int  2 0 2 1 2 1 0 0 0 0 ...\n",
      " $ Top5_14           : int  10 4 5 1 5 6 7 1 2 1 ...\n",
      " $ Top10_14          : int  14 11 5 3 8 15 12 2 4 4 ...\n",
      " $ FinalPoints14     : num  1152.8 2743.2 4553.5 83.5 0 ...\n",
      " $ Earnings14        : num  328121 258026 497598 77426 142893 ...\n",
      " $ Events13          : int  22 9 26 24 19 27 27 11 0 9 ...\n",
      " $ BuckOuts13        : int  72 26 90 66 53 84 91 26 0 18 ...\n",
      " $ Rides13           : int  35 11 47 22 25 39 50 6 0 2 ...\n",
      " $ CupPoints13       : num  8749 2827 10399 4304 5238 ...\n",
      " $ Rank13            : int  3 26 1 25 16 4 2 42 0 40 ...\n",
      " $ RidePer13         : num  0.486 0.423 0.522 0.333 0.472 ...\n",
      " $ RidesPer_45bull_13: num  0.375 1 0.267 0 0 ...\n",
      " $ Rides90pts_13     : int  4 1 8 0 0 0 3 0 0 0 ...\n",
      " $ Wins13            : int  3 0 5 0 0 2 3 0 0 0 ...\n",
      " $ Top5_13           : int  5 1 11 2 6 5 11 1 0 0 ...\n",
      " $ Top10_13          : int  9 2 14 2 6 11 13 2 0 2 ...\n",
      " $ FinalPoints13     : num  1991 1257 5296 0 436 ...\n",
      " $ Earnings13        : num  466585 89378 1810711 58577 107942 ...\n",
      " $ Events12          : int  0 0 26 0 28 29 29 5 0 0 ...\n",
      " $ BuckOuts12        : int  0 0 82 0 87 87 103 10 0 0 ...\n",
      " $ Rides12           : int  0 0 40 0 53 50 62 3 0 0 ...\n",
      " $ CupPoints12       : num  0 0 9273 0 10608 ...\n",
      " $ Rank12            : int  0 0 8 0 4 2 1 53 0 0 ...\n",
      " $ RidePer12         : num  0 0 0.49 0 0.61 0.57 0.6 0.3 0 0 ...\n",
      " $ Wins12            : int  0 0 3 0 1 2 2 0 0 0 ...\n",
      " $ Top5_12           : int  0 0 8 0 10 9 8 0 0 0 ...\n",
      " $ Top10_12          : int  0 0 13 0 14 12 18 1 0 0 ...\n",
      " $ FinalPoints12     : num  0 0 287 0 560 ...\n",
      " $ Earnings12        : num  0 0 313340 0 208725 ...\n"
     ]
    }
   ],
   "source": [
    "str(br14)"
   ]
  },
  {
   "cell_type": "code",
   "execution_count": 11,
   "metadata": {},
   "outputs": [],
   "source": [
    "RidesPerEvent14 <- br14$Rides14/br14$Events14"
   ]
  },
  {
   "cell_type": "code",
   "execution_count": 12,
   "metadata": {},
   "outputs": [
    {
     "data": {
      "text/html": [
       "<ol class=list-inline>\n",
       "\t<li>1.46428571428571</li>\n",
       "\t<li>1.17857142857143</li>\n",
       "\t<li>1.13636363636364</li>\n",
       "\t<li>1.13333333333333</li>\n",
       "\t<li>1.03571428571429</li>\n",
       "\t<li>1.46428571428571</li>\n",
       "\t<li>1.78571428571429</li>\n",
       "\t<li>0.666666666666667</li>\n",
       "\t<li>1.14285714285714</li>\n",
       "\t<li>0.75</li>\n",
       "\t<li>1.23076923076923</li>\n",
       "\t<li>1.61538461538462</li>\n",
       "\t<li>1.07142857142857</li>\n",
       "\t<li>0.454545454545455</li>\n",
       "\t<li>1</li>\n",
       "\t<li>1.4</li>\n",
       "\t<li>1</li>\n",
       "\t<li>0.961538461538462</li>\n",
       "\t<li>0.5</li>\n",
       "\t<li>1.04166666666667</li>\n",
       "\t<li>0.826086956521739</li>\n",
       "\t<li>1</li>\n",
       "\t<li>1.18518518518519</li>\n",
       "\t<li>1.37037037037037</li>\n",
       "\t<li>0.84</li>\n",
       "\t<li>1</li>\n",
       "\t<li>2</li>\n",
       "\t<li>0.2</li>\n",
       "\t<li>0.95</li>\n",
       "\t<li>0.653846153846154</li>\n",
       "\t<li>1.5</li>\n",
       "\t<li>0.2</li>\n",
       "\t<li>1</li>\n",
       "\t<li>0.25</li>\n",
       "\t<li>0.458333333333333</li>\n",
       "\t<li>1</li>\n",
       "\t<li>1.04761904761905</li>\n",
       "\t<li>0.25</li>\n",
       "\t<li>0.962962962962963</li>\n",
       "\t<li>0.5</li>\n",
       "\t<li>0.8</li>\n",
       "\t<li>1</li>\n",
       "\t<li>1</li>\n",
       "\t<li>0.666666666666667</li>\n",
       "\t<li>0.5</li>\n",
       "\t<li>0.888888888888889</li>\n",
       "\t<li>0.578947368421053</li>\n",
       "\t<li>0.25</li>\n",
       "\t<li>0.727272727272727</li>\n",
       "\t<li>0.9375</li>\n",
       "\t<li>1.14285714285714</li>\n",
       "\t<li>1.03846153846154</li>\n",
       "</ol>\n"
      ],
      "text/latex": [
       "\\begin{enumerate*}\n",
       "\\item 1.46428571428571\n",
       "\\item 1.17857142857143\n",
       "\\item 1.13636363636364\n",
       "\\item 1.13333333333333\n",
       "\\item 1.03571428571429\n",
       "\\item 1.46428571428571\n",
       "\\item 1.78571428571429\n",
       "\\item 0.666666666666667\n",
       "\\item 1.14285714285714\n",
       "\\item 0.75\n",
       "\\item 1.23076923076923\n",
       "\\item 1.61538461538462\n",
       "\\item 1.07142857142857\n",
       "\\item 0.454545454545455\n",
       "\\item 1\n",
       "\\item 1.4\n",
       "\\item 1\n",
       "\\item 0.961538461538462\n",
       "\\item 0.5\n",
       "\\item 1.04166666666667\n",
       "\\item 0.826086956521739\n",
       "\\item 1\n",
       "\\item 1.18518518518519\n",
       "\\item 1.37037037037037\n",
       "\\item 0.84\n",
       "\\item 1\n",
       "\\item 2\n",
       "\\item 0.2\n",
       "\\item 0.95\n",
       "\\item 0.653846153846154\n",
       "\\item 1.5\n",
       "\\item 0.2\n",
       "\\item 1\n",
       "\\item 0.25\n",
       "\\item 0.458333333333333\n",
       "\\item 1\n",
       "\\item 1.04761904761905\n",
       "\\item 0.25\n",
       "\\item 0.962962962962963\n",
       "\\item 0.5\n",
       "\\item 0.8\n",
       "\\item 1\n",
       "\\item 1\n",
       "\\item 0.666666666666667\n",
       "\\item 0.5\n",
       "\\item 0.888888888888889\n",
       "\\item 0.578947368421053\n",
       "\\item 0.25\n",
       "\\item 0.727272727272727\n",
       "\\item 0.9375\n",
       "\\item 1.14285714285714\n",
       "\\item 1.03846153846154\n",
       "\\end{enumerate*}\n"
      ],
      "text/markdown": [
       "1. 1.46428571428571\n",
       "2. 1.17857142857143\n",
       "3. 1.13636363636364\n",
       "4. 1.13333333333333\n",
       "5. 1.03571428571429\n",
       "6. 1.46428571428571\n",
       "7. 1.78571428571429\n",
       "8. 0.666666666666667\n",
       "9. 1.14285714285714\n",
       "10. 0.75\n",
       "11. 1.23076923076923\n",
       "12. 1.61538461538462\n",
       "13. 1.07142857142857\n",
       "14. 0.454545454545455\n",
       "15. 1\n",
       "16. 1.4\n",
       "17. 1\n",
       "18. 0.961538461538462\n",
       "19. 0.5\n",
       "20. 1.04166666666667\n",
       "21. 0.826086956521739\n",
       "22. 1\n",
       "23. 1.18518518518519\n",
       "24. 1.37037037037037\n",
       "25. 0.84\n",
       "26. 1\n",
       "27. 2\n",
       "28. 0.2\n",
       "29. 0.95\n",
       "30. 0.653846153846154\n",
       "31. 1.5\n",
       "32. 0.2\n",
       "33. 1\n",
       "34. 0.25\n",
       "35. 0.458333333333333\n",
       "36. 1\n",
       "37. 1.04761904761905\n",
       "38. 0.25\n",
       "39. 0.962962962962963\n",
       "40. 0.5\n",
       "41. 0.8\n",
       "42. 1\n",
       "43. 1\n",
       "44. 0.666666666666667\n",
       "45. 0.5\n",
       "46. 0.888888888888889\n",
       "47. 0.578947368421053\n",
       "48. 0.25\n",
       "49. 0.727272727272727\n",
       "50. 0.9375\n",
       "51. 1.14285714285714\n",
       "52. 1.03846153846154\n",
       "\n",
       "\n"
      ],
      "text/plain": [
       " [1] 1.4642857 1.1785714 1.1363636 1.1333333 1.0357143 1.4642857 1.7857143\n",
       " [8] 0.6666667 1.1428571 0.7500000 1.2307692 1.6153846 1.0714286 0.4545455\n",
       "[15] 1.0000000 1.4000000 1.0000000 0.9615385 0.5000000 1.0416667 0.8260870\n",
       "[22] 1.0000000 1.1851852 1.3703704 0.8400000 1.0000000 2.0000000 0.2000000\n",
       "[29] 0.9500000 0.6538462 1.5000000 0.2000000 1.0000000 0.2500000 0.4583333\n",
       "[36] 1.0000000 1.0476190 0.2500000 0.9629630 0.5000000 0.8000000 1.0000000\n",
       "[43] 1.0000000 0.6666667 0.5000000 0.8888889 0.5789474 0.2500000 0.7272727\n",
       "[50] 0.9375000 1.1428571 1.0384615"
      ]
     },
     "metadata": {},
     "output_type": "display_data"
    }
   ],
   "source": [
    "RidesPerEvent14"
   ]
  },
  {
   "cell_type": "code",
   "execution_count": 13,
   "metadata": {},
   "outputs": [
    {
     "data": {
      "text/html": [
       "<ol class=list-inline>\n",
       "\t<li>0.2</li>\n",
       "\t<li>0.666666666666667</li>\n",
       "\t<li>1</li>\n",
       "\t<li>1.13961038961039</li>\n",
       "\t<li>2</li>\n",
       "</ol>\n"
      ],
      "text/latex": [
       "\\begin{enumerate*}\n",
       "\\item 0.2\n",
       "\\item 0.666666666666667\n",
       "\\item 1\n",
       "\\item 1.13961038961039\n",
       "\\item 2\n",
       "\\end{enumerate*}\n"
      ],
      "text/markdown": [
       "1. 0.2\n",
       "2. 0.666666666666667\n",
       "3. 1\n",
       "4. 1.13961038961039\n",
       "5. 2\n",
       "\n",
       "\n"
      ],
      "text/plain": [
       "[1] 0.2000000 0.6666667 1.0000000 1.1396104 2.0000000"
      ]
     },
     "metadata": {},
     "output_type": "display_data"
    },
    {
     "data": {
      "image/png": "[encoded data removed]",
      "text/plain": [
       "Plot with title \"Histogram of RidesPerEvent14\""
      ]
     },
     "metadata": {},
     "output_type": "display_data"
    }
   ],
   "source": [
    "fivenum(RidesPerEvent14)\n",
    "hist(RidesPerEvent14)"
   ]
  },
  {
   "cell_type": "code",
   "execution_count": 14,
   "metadata": {},
   "outputs": [
    {
     "data": {
      "text/html": [
       "0.2"
      ],
      "text/latex": [
       "0.2"
      ],
      "text/markdown": [
       "0.2"
      ],
      "text/plain": [
       "[1] 0.2"
      ]
     },
     "metadata": {},
     "output_type": "display_data"
    }
   ],
   "source": [
    "round(min(RidesPerEvent14),2)"
   ]
  },
  {
   "cell_type": "code",
   "execution_count": 15,
   "metadata": {},
   "outputs": [
    {
     "data": {
      "image/png": "[encoded data removed]",
      "text/plain": [
       "plot without title"
      ]
     },
     "metadata": {},
     "output_type": "display_data"
    }
   ],
   "source": [
    "plot(RidesPerEvent14,br14$Rank14)\n",
    "abline(lm(br14$Rank14~RidesPerEvent14))"
   ]
  },
  {
   "cell_type": "code",
   "execution_count": 16,
   "metadata": {},
   "outputs": [
    {
     "data": {
      "text/html": [
       "-0.495"
      ],
      "text/latex": [
       "-0.495"
      ],
      "text/markdown": [
       "-0.495"
      ],
      "text/plain": [
       "[1] -0.495"
      ]
     },
     "metadata": {},
     "output_type": "display_data"
    }
   ],
   "source": [
    "round(cor(RidesPerEvent14,br14$Rank14),3)"
   ]
  },
  {
   "cell_type": "code",
   "execution_count": 1,
   "metadata": {},
   "outputs": [],
   "source": [
    "hours <- c(30,45,180,95,130,140,30,80,60,110,0,80)\n",
    "score <- c(74,68,87,90,94,84,92,88,82,93,65,90)"
   ]
  },
  {
   "cell_type": "code",
   "execution_count": 22,
   "metadata": {},
   "outputs": [],
   "source": [
    "hvs <- data.frame('hours'=hours,'score'=score)"
   ]
  },
  {
   "cell_type": "code",
   "execution_count": 19,
   "metadata": {},
   "outputs": [
    {
     "data": {
      "text/html": [
       "<table>\n",
       "<thead><tr><th scope=col>hours</th><th scope=col>score</th></tr></thead>\n",
       "<tbody>\n",
       "\t<tr><td> 30</td><td>74 </td></tr>\n",
       "\t<tr><td> 45</td><td>68 </td></tr>\n",
       "\t<tr><td>180</td><td>87 </td></tr>\n",
       "\t<tr><td> 95</td><td>90 </td></tr>\n",
       "\t<tr><td>130</td><td>94 </td></tr>\n",
       "\t<tr><td>140</td><td>84 </td></tr>\n",
       "\t<tr><td> 30</td><td>92 </td></tr>\n",
       "\t<tr><td> 80</td><td>88 </td></tr>\n",
       "\t<tr><td> 60</td><td>82 </td></tr>\n",
       "\t<tr><td>110</td><td>93 </td></tr>\n",
       "\t<tr><td>  0</td><td>65 </td></tr>\n",
       "\t<tr><td> 80</td><td>90 </td></tr>\n",
       "</tbody>\n",
       "</table>\n"
      ],
      "text/latex": [
       "\\begin{tabular}{r|ll}\n",
       " hours & score\\\\\n",
       "\\hline\n",
       "\t  30 & 74 \\\\\n",
       "\t  45 & 68 \\\\\n",
       "\t 180 & 87 \\\\\n",
       "\t  95 & 90 \\\\\n",
       "\t 130 & 94 \\\\\n",
       "\t 140 & 84 \\\\\n",
       "\t  30 & 92 \\\\\n",
       "\t  80 & 88 \\\\\n",
       "\t  60 & 82 \\\\\n",
       "\t 110 & 93 \\\\\n",
       "\t   0 & 65 \\\\\n",
       "\t  80 & 90 \\\\\n",
       "\\end{tabular}\n"
      ],
      "text/markdown": [
       "\n",
       "| hours | score |\n",
       "|---|---|\n",
       "|  30 | 74  |\n",
       "|  45 | 68  |\n",
       "| 180 | 87  |\n",
       "|  95 | 90  |\n",
       "| 130 | 94  |\n",
       "| 140 | 84  |\n",
       "|  30 | 92  |\n",
       "|  80 | 88  |\n",
       "|  60 | 82  |\n",
       "| 110 | 93  |\n",
       "|   0 | 65  |\n",
       "|  80 | 90  |\n",
       "\n"
      ],
      "text/plain": [
       "   hours score\n",
       "1   30   74   \n",
       "2   45   68   \n",
       "3  180   87   \n",
       "4   95   90   \n",
       "5  130   94   \n",
       "6  140   84   \n",
       "7   30   92   \n",
       "8   80   88   \n",
       "9   60   82   \n",
       "10 110   93   \n",
       "11   0   65   \n",
       "12  80   90   "
      ]
     },
     "metadata": {},
     "output_type": "display_data"
    }
   ],
   "source": [
    "hvs"
   ]
  },
  {
   "cell_type": "code",
   "execution_count": 7,
   "metadata": {},
   "outputs": [
    {
     "data": {
      "text/html": [
       "0.597"
      ],
      "text/latex": [
       "0.597"
      ],
      "text/markdown": [
       "0.597"
      ],
      "text/plain": [
       "[1] 0.597"
      ]
     },
     "metadata": {},
     "output_type": "display_data"
    }
   ],
   "source": [
    "round(cor(hours,score),3)"
   ]
  },
  {
   "cell_type": "code",
   "execution_count": 9,
   "metadata": {},
   "outputs": [
    {
     "data": {
      "text/html": [
       "36"
      ],
      "text/latex": [
       "36"
      ],
      "text/markdown": [
       "36"
      ],
      "text/plain": [
       "[1] 36"
      ]
     },
     "metadata": {},
     "output_type": "display_data"
    }
   ],
   "source": [
    "round((cor(hours,score)^2)*100)"
   ]
  },
  {
   "cell_type": "code",
   "execution_count": 6,
   "metadata": {},
   "outputs": [
    {
     "data": {
      "image/png": "[encoded data removed]",
      "text/plain": [
       "plot without title"
      ]
     },
     "metadata": {},
     "output_type": "display_data"
    }
   ],
   "source": [
    "plot(hours,score)\n",
    "abline(lm(score~hours))"
   ]
  },
  {
   "cell_type": "code",
   "execution_count": 10,
   "metadata": {},
   "outputs": [],
   "source": [
    "outlier <- which((hours<50)&(score>90))"
   ]
  },
  {
   "cell_type": "code",
   "execution_count": 11,
   "metadata": {},
   "outputs": [
    {
     "data": {
      "text/html": [
       "7"
      ],
      "text/latex": [
       "7"
      ],
      "text/markdown": [
       "7"
      ],
      "text/plain": [
       "[1] 7"
      ]
     },
     "metadata": {},
     "output_type": "display_data"
    }
   ],
   "source": [
    "outlier"
   ]
  },
  {
   "cell_type": "code",
   "execution_count": 23,
   "metadata": {},
   "outputs": [],
   "source": [
    "hvs <- hvs[(hvs$hours!=30)|(hvs$score != 92),]"
   ]
  },
  {
   "cell_type": "code",
   "execution_count": 24,
   "metadata": {},
   "outputs": [
    {
     "data": {
      "text/html": [
       "<table>\n",
       "<thead><tr><th></th><th scope=col>hours</th><th scope=col>score</th></tr></thead>\n",
       "<tbody>\n",
       "\t<tr><th scope=row>1</th><td> 30</td><td>74 </td></tr>\n",
       "\t<tr><th scope=row>2</th><td> 45</td><td>68 </td></tr>\n",
       "\t<tr><th scope=row>3</th><td>180</td><td>87 </td></tr>\n",
       "\t<tr><th scope=row>4</th><td> 95</td><td>90 </td></tr>\n",
       "\t<tr><th scope=row>5</th><td>130</td><td>94 </td></tr>\n",
       "\t<tr><th scope=row>6</th><td>140</td><td>84 </td></tr>\n",
       "\t<tr><th scope=row>8</th><td> 80</td><td>88 </td></tr>\n",
       "\t<tr><th scope=row>9</th><td> 60</td><td>82 </td></tr>\n",
       "\t<tr><th scope=row>10</th><td>110</td><td>93 </td></tr>\n",
       "\t<tr><th scope=row>11</th><td>  0</td><td>65 </td></tr>\n",
       "\t<tr><th scope=row>12</th><td> 80</td><td>90 </td></tr>\n",
       "</tbody>\n",
       "</table>\n"
      ],
      "text/latex": [
       "\\begin{tabular}{r|ll}\n",
       "  & hours & score\\\\\n",
       "\\hline\n",
       "\t1 &  30 & 74 \\\\\n",
       "\t2 &  45 & 68 \\\\\n",
       "\t3 & 180 & 87 \\\\\n",
       "\t4 &  95 & 90 \\\\\n",
       "\t5 & 130 & 94 \\\\\n",
       "\t6 & 140 & 84 \\\\\n",
       "\t8 &  80 & 88 \\\\\n",
       "\t9 &  60 & 82 \\\\\n",
       "\t10 & 110 & 93 \\\\\n",
       "\t11 &   0 & 65 \\\\\n",
       "\t12 &  80 & 90 \\\\\n",
       "\\end{tabular}\n"
      ],
      "text/markdown": [
       "\n",
       "| <!--/--> | hours | score |\n",
       "|---|---|---|\n",
       "| 1 |  30 | 74  |\n",
       "| 2 |  45 | 68  |\n",
       "| 3 | 180 | 87  |\n",
       "| 4 |  95 | 90  |\n",
       "| 5 | 130 | 94  |\n",
       "| 6 | 140 | 84  |\n",
       "| 8 |  80 | 88  |\n",
       "| 9 |  60 | 82  |\n",
       "| 10 | 110 | 93  |\n",
       "| 11 |   0 | 65  |\n",
       "| 12 |  80 | 90  |\n",
       "\n"
      ],
      "text/plain": [
       "   hours score\n",
       "1   30   74   \n",
       "2   45   68   \n",
       "3  180   87   \n",
       "4   95   90   \n",
       "5  130   94   \n",
       "6  140   84   \n",
       "8   80   88   \n",
       "9   60   82   \n",
       "10 110   93   \n",
       "11   0   65   \n",
       "12  80   90   "
      ]
     },
     "metadata": {},
     "output_type": "display_data"
    }
   ],
   "source": [
    "hvs"
   ]
  },
  {
   "cell_type": "code",
   "execution_count": 25,
   "metadata": {},
   "outputs": [
    {
     "data": {
      "text/html": [
       "0.737"
      ],
      "text/latex": [
       "0.737"
      ],
      "text/markdown": [
       "0.737"
      ],
      "text/plain": [
       "[1] 0.737"
      ]
     },
     "metadata": {},
     "output_type": "display_data"
    }
   ],
   "source": [
    "round(cor(hvs$hours,hvs$score),3)"
   ]
  },
  {
   "cell_type": "code",
   "execution_count": 16,
   "metadata": {},
   "outputs": [
    {
     "data": {
      "image/png": "[encoded data removed]",
      "text/plain": [
       "plot without title"
      ]
     },
     "metadata": {},
     "output_type": "display_data"
    }
   ],
   "source": [
    "plot(hvs$hours,hvs$score)\n",
    "abline(lm(hvs$score~hvs$hours))"
   ]
  },
  {
   "cell_type": "code",
   "execution_count": null,
   "metadata": {},
   "outputs": [],
   "source": []
  }
 ],
 "metadata": {
  "kernelspec": {
   "display_name": "R",
   "language": "R",
   "name": "ir"
  },
  "language_info": {
   "codemirror_mode": "r",
   "file_extension": ".r",
   "mimetype": "text/x-r-source",
   "name": "R",
   "pygments_lexer": "r",
   "version": "3.6.1"
  }
 },
 "nbformat": 4,
 "nbformat_minor": 2
}

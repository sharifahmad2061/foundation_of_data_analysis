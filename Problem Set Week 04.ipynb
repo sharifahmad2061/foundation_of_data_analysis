{
 "cells": [
  {
   "cell_type": "markdown",
   "metadata": {},
   "source": [
    "# Import Data"
   ]
  },
  {
   "cell_type": "code",
   "execution_count": 1,
   "metadata": {},
   "outputs": [],
   "source": [
    "library(SDSFoundations,lib.loc = 'C:\\\\Program Files\\\\R\\\\R-3.6.1\\\\library')\n",
    "acl <- AustinCityLimits"
   ]
  },
  {
   "cell_type": "code",
   "execution_count": 2,
   "metadata": {},
   "outputs": [
    {
     "data": {
      "text/html": [
       "116"
      ],
      "text/latex": [
       "116"
      ],
      "text/markdown": [
       "116"
      ],
      "text/plain": [
       "[1] 116"
      ]
     },
     "metadata": {},
     "output_type": "display_data"
    }
   ],
   "source": [
    "nrow(acl)"
   ]
  },
  {
   "cell_type": "code",
   "execution_count": 3,
   "metadata": {},
   "outputs": [
    {
     "name": "stdout",
     "output_type": "stream",
     "text": [
      "'data.frame':\t116 obs. of  14 variables:\n",
      " $ Artist       : Factor w/ 116 levels \"Aimee Mann\",\"Alabama Shakes\",..: 1 2 3 4 5 6 7 8 9 10 ...\n",
      " $ Year         : int  2008 2013 2009 2009 2007 2009 2010 2009 2003 2008 ...\n",
      " $ Month        : Factor w/ 6 levels \"December\",\"February\",..: 4 2 3 5 4 4 3 4 3 5 ...\n",
      " $ Season       : Factor w/ 2 levels \"fall\",\"winter\": 1 2 2 1 1 1 2 1 2 1 ...\n",
      " $ Gender       : Factor w/ 2 levels \"F\",\"M\": 1 1 2 2 1 2 2 2 2 1 ...\n",
      " $ Age          : int  52 24 75 39 33 62 37 35 43 67 ...\n",
      " $ Age.Group    : Factor w/ 4 levels \"Fifties or Older\",..: 1 4 1 3 3 1 3 3 2 1 ...\n",
      " $ Grammy       : Factor w/ 2 levels \"N\",\"Y\": 2 1 1 1 2 2 1 1 2 1 ...\n",
      " $ Genre        : Factor w/ 4 levels \"Country\",\"Jazz/Blues\",..: 4 3 2 3 3 1 3 3 3 2 ...\n",
      " $ BB.wk.top10  : int  0 1 NA 1 1 0 1 NA 1 0 ...\n",
      " $ Twitter      : int  101870 73313 308634 56343 404439 3326 125758 8197 158647 690 ...\n",
      " $ Twitter.100k : int  1 0 1 0 1 0 1 0 1 0 ...\n",
      " $ Facebook     : int  113576 298278 10721 318313 1711685 27321 563505 18955 1381051 1715 ...\n",
      " $ Facebook.100k: int  1 1 0 1 1 0 1 0 1 0 ...\n"
     ]
    }
   ],
   "source": [
    "str(acl)"
   ]
  },
  {
   "cell_type": "markdown",
   "metadata": {},
   "source": [
    "# Question 1\n",
    "#### You want to see if an artist's popularity on Facebook (whether or not they have 100,000 or more likes) has anything to do with their age."
   ]
  },
  {
   "cell_type": "markdown",
   "metadata": {},
   "source": [
    "Generate a table to show the number of artists that are \"popular\" and those that are not."
   ]
  },
  {
   "cell_type": "code",
   "execution_count": 4,
   "metadata": {},
   "outputs": [
    {
     "data": {
      "text/plain": [
       "\n",
       " 0  1 \n",
       "31 85 "
      ]
     },
     "metadata": {},
     "output_type": "display_data"
    }
   ],
   "source": [
    "table(acl$Facebook.100k)"
   ]
  },
  {
   "cell_type": "markdown",
   "metadata": {},
   "source": [
    " Generate a table to show the number of \"popular\" artists within each age group."
   ]
  },
  {
   "cell_type": "code",
   "execution_count": 6,
   "metadata": {},
   "outputs": [
    {
     "data": {
      "text/plain": [
       "   \n",
       "    Fifties or Older Forties Thirties Twenties\n",
       "  0               13       6        9        3\n",
       "  1               19      24       31       11"
      ]
     },
     "metadata": {},
     "output_type": "display_data"
    }
   ],
   "source": [
    "ctab <- table(acl$Facebook.100k,acl$Age.Group)\n",
    "ctab"
   ]
  },
  {
   "cell_type": "code",
   "execution_count": 10,
   "metadata": {},
   "outputs": [
    {
     "data": {
      "text/plain": [
       "   \n",
       "    Fifties or Older Forties Thirties Twenties\n",
       "  0            0.112   0.052    0.078    0.026\n",
       "  1            0.164   0.207    0.267    0.095"
      ]
     },
     "metadata": {},
     "output_type": "display_data"
    }
   ],
   "source": [
    "round(prop.table(ctab),3)"
   ]
  },
  {
   "cell_type": "code",
   "execution_count": 9,
   "metadata": {},
   "outputs": [
    {
     "data": {
      "text/plain": [
       "   \n",
       "    Fifties or Older Forties Thirties Twenties\n",
       "  0            0.419   0.194    0.290    0.097\n",
       "  1            0.224   0.282    0.365    0.129"
      ]
     },
     "metadata": {},
     "output_type": "display_data"
    }
   ],
   "source": [
    "round(prop.table(ctab,1),3)"
   ]
  },
  {
   "cell_type": "markdown",
   "metadata": {},
   "source": [
    "For each age group, fill in the proportion of artists who have 100,000 or more likes on Facebook. (Use the appropriate function in R to calculate these, and round to 3 decimal places (i.e. 0.123.)"
   ]
  },
  {
   "cell_type": "code",
   "execution_count": 11,
   "metadata": {},
   "outputs": [],
   "source": [
    "cfblikes <- table(acl$Facebook.100k,acl$Age.Group)"
   ]
  },
  {
   "cell_type": "code",
   "execution_count": 12,
   "metadata": {},
   "outputs": [
    {
     "data": {
      "text/plain": [
       "   \n",
       "    Fifties or Older Forties Thirties Twenties\n",
       "  0               13       6        9        3\n",
       "  1               19      24       31       11"
      ]
     },
     "metadata": {},
     "output_type": "display_data"
    }
   ],
   "source": [
    "cfblikes"
   ]
  },
  {
   "cell_type": "code",
   "execution_count": 14,
   "metadata": {},
   "outputs": [
    {
     "data": {
      "text/plain": [
       "   \n",
       "    Fifties or Older Forties Thirties Twenties\n",
       "  0            0.406   0.200    0.225    0.214\n",
       "  1            0.594   0.800    0.775    0.786"
      ]
     },
     "metadata": {},
     "output_type": "display_data"
    }
   ],
   "source": [
    "round(prop.table(cfblikes,2),3)"
   ]
  },
  {
   "cell_type": "markdown",
   "metadata": {},
   "source": [
    "# Question 2\n",
    "#### A high school counselor wants to categorize students according to two variables: their gender (male or female) and their grade level (freshman, sophomore, junior or senior)."
   ]
  },
  {
   "cell_type": "markdown",
   "metadata": {},
   "source": [
    "To how many possible outcomes can students be assigned?"
   ]
  },
  {
   "cell_type": "markdown",
   "metadata": {},
   "source": [
    "- 4"
   ]
  },
  {
   "cell_type": "markdown",
   "metadata": {},
   "source": [
    "#### An Economics professor kept a record of grades earned by the college students in his class, as shown below. (In the US, an \"A\" is the strongest grade and an \"F\" is the Weakest.)\n",
    "\n",
    "||A|B|C|D|F|\n",
    "|-|-|-|-|-|-|\n",
    "|Freshman|5|10|9|10|6|\n",
    "|Sophomore|8|10|9|7|4|\n",
    "|Junior|11|5|4|4|2|\n",
    "|Senior|9|9|4|2|0|"
   ]
  },
  {
   "cell_type": "markdown",
   "metadata": {},
   "source": [
    "What proportion of students in the class received a grade of A? (Round to 2 decimal places.)"
   ]
  },
  {
   "cell_type": "code",
   "execution_count": 29,
   "metadata": {},
   "outputs": [],
   "source": [
    "level <- c('Freshman','Sophomore','Junior','Senior','Total')\n",
    "A <- c(5,8,11,9)\n",
    "A <- c(A,sum(A))\n",
    "B <- c(10,10,5,9)\n",
    "B <- c(B,sum(B))\n",
    "C <- c(9,9,4,4)\n",
    "C <- c(C,sum(C))\n",
    "D <- c(10,7,4,2)\n",
    "D <- c(D,sum(D))\n",
    "F <- c(6,4,2,0)\n",
    "F <- c(F,sum(F))\n",
    "Total <- c()\n",
    "for (t in 1:5){\n",
    "    Total <- c(Total,A[t]+B[t]+C[t]+D[t]+F[t])\n",
    "}\n",
    "df <- data.frame(level,A,B,C,D,F,Total)"
   ]
  },
  {
   "cell_type": "code",
   "execution_count": 30,
   "metadata": {},
   "outputs": [
    {
     "data": {
      "text/html": [
       "<table>\n",
       "<thead><tr><th scope=col>level</th><th scope=col>A</th><th scope=col>B</th><th scope=col>C</th><th scope=col>D</th><th scope=col>F</th><th scope=col>Total</th></tr></thead>\n",
       "<tbody>\n",
       "\t<tr><td>Freshman </td><td> 5       </td><td>10       </td><td> 9       </td><td>10       </td><td> 6       </td><td> 40      </td></tr>\n",
       "\t<tr><td>Sophomore</td><td> 8       </td><td>10       </td><td> 9       </td><td> 7       </td><td> 4       </td><td> 38      </td></tr>\n",
       "\t<tr><td>Junior   </td><td>11       </td><td> 5       </td><td> 4       </td><td> 4       </td><td> 2       </td><td> 26      </td></tr>\n",
       "\t<tr><td>Senior   </td><td> 9       </td><td> 9       </td><td> 4       </td><td> 2       </td><td> 0       </td><td> 24      </td></tr>\n",
       "\t<tr><td>Total    </td><td>33       </td><td>34       </td><td>26       </td><td>23       </td><td>12       </td><td>128      </td></tr>\n",
       "</tbody>\n",
       "</table>\n"
      ],
      "text/latex": [
       "\\begin{tabular}{r|lllllll}\n",
       " level & A & B & C & D & F & Total\\\\\n",
       "\\hline\n",
       "\t Freshman  &  5        & 10        &  9        & 10        &  6        &  40      \\\\\n",
       "\t Sophomore &  8        & 10        &  9        &  7        &  4        &  38      \\\\\n",
       "\t Junior    & 11        &  5        &  4        &  4        &  2        &  26      \\\\\n",
       "\t Senior    &  9        &  9        &  4        &  2        &  0        &  24      \\\\\n",
       "\t Total     & 33        & 34        & 26        & 23        & 12        & 128      \\\\\n",
       "\\end{tabular}\n"
      ],
      "text/markdown": [
       "\n",
       "| level | A | B | C | D | F | Total |\n",
       "|---|---|---|---|---|---|---|\n",
       "| Freshman  |  5        | 10        |  9        | 10        |  6        |  40       |\n",
       "| Sophomore |  8        | 10        |  9        |  7        |  4        |  38       |\n",
       "| Junior    | 11        |  5        |  4        |  4        |  2        |  26       |\n",
       "| Senior    |  9        |  9        |  4        |  2        |  0        |  24       |\n",
       "| Total     | 33        | 34        | 26        | 23        | 12        | 128       |\n",
       "\n"
      ],
      "text/plain": [
       "  level     A  B  C  D  F  Total\n",
       "1 Freshman   5 10  9 10  6  40  \n",
       "2 Sophomore  8 10  9  7  4  38  \n",
       "3 Junior    11  5  4  4  2  26  \n",
       "4 Senior     9  9  4  2  0  24  \n",
       "5 Total     33 34 26 23 12 128  "
      ]
     },
     "metadata": {},
     "output_type": "display_data"
    }
   ],
   "source": [
    "df"
   ]
  },
  {
   "cell_type": "code",
   "execution_count": 32,
   "metadata": {},
   "outputs": [
    {
     "data": {
      "text/html": [
       "<table>\n",
       "<thead><tr><th></th><th scope=col>A</th><th scope=col>B</th><th scope=col>C</th><th scope=col>D</th><th scope=col>F</th></tr></thead>\n",
       "<tbody>\n",
       "\t<tr><th scope=row>5</th><td>0.2578125</td><td>0.265625 </td><td>0.203125 </td><td>0.1796875</td><td>0.09375  </td></tr>\n",
       "</tbody>\n",
       "</table>\n"
      ],
      "text/latex": [
       "\\begin{tabular}{r|lllll}\n",
       "  & A & B & C & D & F\\\\\n",
       "\\hline\n",
       "\t5 & 0.2578125 & 0.265625  & 0.203125  & 0.1796875 & 0.09375  \\\\\n",
       "\\end{tabular}\n"
      ],
      "text/markdown": [
       "\n",
       "| <!--/--> | A | B | C | D | F |\n",
       "|---|---|---|---|---|---|\n",
       "| 5 | 0.2578125 | 0.265625  | 0.203125  | 0.1796875 | 0.09375   |\n",
       "\n"
      ],
      "text/plain": [
       "  A         B        C        D         F      \n",
       "5 0.2578125 0.265625 0.203125 0.1796875 0.09375"
      ]
     },
     "metadata": {},
     "output_type": "display_data"
    }
   ],
   "source": [
    "prop.table(df[5,c('A','B','C','D','F')])"
   ]
  },
  {
   "cell_type": "markdown",
   "metadata": {},
   "source": [
    "- grade A recievers : 0.258"
   ]
  },
  {
   "cell_type": "markdown",
   "metadata": {},
   "source": [
    "What proportion of the students were upperclassmen (juniors and seniors)? (Round to 2 decimal places.)"
   ]
  },
  {
   "cell_type": "code",
   "execution_count": 40,
   "metadata": {},
   "outputs": [
    {
     "data": {
      "text/html": [
       "0.390625"
      ],
      "text/latex": [
       "0.390625"
      ],
      "text/markdown": [
       "0.390625"
      ],
      "text/plain": [
       "[1] 0.390625"
      ]
     },
     "metadata": {},
     "output_type": "display_data"
    }
   ],
   "source": [
    "sum(df[c(3,4),7])/df[5,7]"
   ]
  },
  {
   "cell_type": "markdown",
   "metadata": {},
   "source": [
    "What is the probability that a freshman received a failing grade of F? (Round to 2 decimal places.)"
   ]
  },
  {
   "cell_type": "code",
   "execution_count": 41,
   "metadata": {},
   "outputs": [
    {
     "data": {
      "text/html": [
       "<table>\n",
       "<thead><tr><th scope=col>A</th><th scope=col>B</th><th scope=col>C</th><th scope=col>D</th><th scope=col>F</th></tr></thead>\n",
       "<tbody>\n",
       "\t<tr><td>5 </td><td>10</td><td>9 </td><td>10</td><td>6 </td></tr>\n",
       "</tbody>\n",
       "</table>\n"
      ],
      "text/latex": [
       "\\begin{tabular}{r|lllll}\n",
       " A & B & C & D & F\\\\\n",
       "\\hline\n",
       "\t 5  & 10 & 9  & 10 & 6 \\\\\n",
       "\\end{tabular}\n"
      ],
      "text/markdown": [
       "\n",
       "| A | B | C | D | F |\n",
       "|---|---|---|---|---|\n",
       "| 5  | 10 | 9  | 10 | 6  |\n",
       "\n"
      ],
      "text/plain": [
       "  A B  C D  F\n",
       "1 5 10 9 10 6"
      ]
     },
     "metadata": {},
     "output_type": "display_data"
    }
   ],
   "source": [
    "df[1,2:6]"
   ]
  },
  {
   "cell_type": "code",
   "execution_count": 42,
   "metadata": {},
   "outputs": [
    {
     "data": {
      "text/html": [
       "<table>\n",
       "<thead><tr><th scope=col>A</th><th scope=col>B</th><th scope=col>C</th><th scope=col>D</th><th scope=col>F</th></tr></thead>\n",
       "<tbody>\n",
       "\t<tr><td>0.125</td><td>0.25 </td><td>0.225</td><td>0.25 </td><td>0.15 </td></tr>\n",
       "</tbody>\n",
       "</table>\n"
      ],
      "text/latex": [
       "\\begin{tabular}{r|lllll}\n",
       " A & B & C & D & F\\\\\n",
       "\\hline\n",
       "\t 0.125 & 0.25  & 0.225 & 0.25  & 0.15 \\\\\n",
       "\\end{tabular}\n"
      ],
      "text/markdown": [
       "\n",
       "| A | B | C | D | F |\n",
       "|---|---|---|---|---|\n",
       "| 0.125 | 0.25  | 0.225 | 0.25  | 0.15  |\n",
       "\n"
      ],
      "text/plain": [
       "  A     B    C     D    F   \n",
       "1 0.125 0.25 0.225 0.25 0.15"
      ]
     },
     "metadata": {},
     "output_type": "display_data"
    }
   ],
   "source": [
    "prop.table(df[1,2:6])"
   ]
  },
  {
   "cell_type": "markdown",
   "metadata": {},
   "source": [
    "What is the probability that a randomly selected student from the class would be a sophomore that received a grade of B? (Round to 2 decimal places.)"
   ]
  },
  {
   "cell_type": "code",
   "execution_count": 44,
   "metadata": {},
   "outputs": [
    {
     "data": {
      "text/html": [
       "<table>\n",
       "<thead><tr><th scope=col>A</th><th scope=col>B</th><th scope=col>C</th><th scope=col>D</th><th scope=col>F</th></tr></thead>\n",
       "<tbody>\n",
       "\t<tr><td>0.04</td><td>0.08</td><td>0.07</td><td>0.08</td><td>0.05</td></tr>\n",
       "\t<tr><td>0.06</td><td>0.08</td><td>0.07</td><td>0.05</td><td>0.03</td></tr>\n",
       "\t<tr><td>0.09</td><td>0.04</td><td>0.03</td><td>0.03</td><td>0.02</td></tr>\n",
       "\t<tr><td>0.07</td><td>0.07</td><td>0.03</td><td>0.02</td><td>0.00</td></tr>\n",
       "</tbody>\n",
       "</table>\n"
      ],
      "text/latex": [
       "\\begin{tabular}{r|lllll}\n",
       " A & B & C & D & F\\\\\n",
       "\\hline\n",
       "\t 0.04 & 0.08 & 0.07 & 0.08 & 0.05\\\\\n",
       "\t 0.06 & 0.08 & 0.07 & 0.05 & 0.03\\\\\n",
       "\t 0.09 & 0.04 & 0.03 & 0.03 & 0.02\\\\\n",
       "\t 0.07 & 0.07 & 0.03 & 0.02 & 0.00\\\\\n",
       "\\end{tabular}\n"
      ],
      "text/markdown": [
       "\n",
       "| A | B | C | D | F |\n",
       "|---|---|---|---|---|\n",
       "| 0.04 | 0.08 | 0.07 | 0.08 | 0.05 |\n",
       "| 0.06 | 0.08 | 0.07 | 0.05 | 0.03 |\n",
       "| 0.09 | 0.04 | 0.03 | 0.03 | 0.02 |\n",
       "| 0.07 | 0.07 | 0.03 | 0.02 | 0.00 |\n",
       "\n"
      ],
      "text/plain": [
       "  A    B    C    D    F   \n",
       "1 0.04 0.08 0.07 0.08 0.05\n",
       "2 0.06 0.08 0.07 0.05 0.03\n",
       "3 0.09 0.04 0.03 0.03 0.02\n",
       "4 0.07 0.07 0.03 0.02 0.00"
      ]
     },
     "metadata": {},
     "output_type": "display_data"
    }
   ],
   "source": [
    "round(prop.table(df[1:4,2:6]),2) # marginal distribution"
   ]
  },
  {
   "cell_type": "markdown",
   "metadata": {},
   "source": [
    "What proportion of juniors passed the course with a grade of D or better? (Round to 2 decimal places.)"
   ]
  },
  {
   "cell_type": "code",
   "execution_count": 47,
   "metadata": {},
   "outputs": [
    {
     "data": {
      "text/html": [
       "0.91"
      ],
      "text/latex": [
       "0.91"
      ],
      "text/markdown": [
       "0.91"
      ],
      "text/plain": [
       "[1] 0.91"
      ]
     },
     "metadata": {},
     "output_type": "display_data"
    }
   ],
   "source": [
    "round(sum(df[5,2:5])/df[5,7],2)"
   ]
  },
  {
   "cell_type": "markdown",
   "metadata": {},
   "source": [
    "What is the probability that a randomly selected student from this class would be a senior? (Report to 2 decimal places.)"
   ]
  },
  {
   "cell_type": "code",
   "execution_count": 49,
   "metadata": {},
   "outputs": [
    {
     "data": {
      "text/html": [
       "0.19"
      ],
      "text/latex": [
       "0.19"
      ],
      "text/markdown": [
       "0.19"
      ],
      "text/plain": [
       "[1] 0.19"
      ]
     },
     "metadata": {},
     "output_type": "display_data"
    }
   ],
   "source": [
    "round(df[4,7]/df[5,7],2)"
   ]
  },
  {
   "cell_type": "markdown",
   "metadata": {},
   "source": [
    "If a student received a grade of D in the class, what is the probability that the student was a senior? (Round to 2 decimal places.)"
   ]
  },
  {
   "cell_type": "code",
   "execution_count": 50,
   "metadata": {},
   "outputs": [
    {
     "data": {
      "text/html": [
       "<ol class=list-inline>\n",
       "\t<li>0.43</li>\n",
       "\t<li>0.3</li>\n",
       "\t<li>0.17</li>\n",
       "\t<li>0.09</li>\n",
       "</ol>\n"
      ],
      "text/latex": [
       "\\begin{enumerate*}\n",
       "\\item 0.43\n",
       "\\item 0.3\n",
       "\\item 0.17\n",
       "\\item 0.09\n",
       "\\end{enumerate*}\n"
      ],
      "text/markdown": [
       "1. 0.43\n",
       "2. 0.3\n",
       "3. 0.17\n",
       "4. 0.09\n",
       "\n",
       "\n"
      ],
      "text/plain": [
       "[1] 0.43 0.30 0.17 0.09"
      ]
     },
     "metadata": {},
     "output_type": "display_data"
    }
   ],
   "source": [
    "round(prop.table(df[1:4,5]),2)"
   ]
  },
  {
   "cell_type": "markdown",
   "metadata": {},
   "source": [
    "# Question 3\n",
    "#### Use the below probability statements to answer the following two questions. Report answers as proportions.\n",
    "- P(A) = 0.35\n",
    "- P(A and B) = 0.15"
   ]
  },
  {
   "cell_type": "markdown",
   "metadata": {},
   "source": [
    "If A and B are independent, what is the value of P(A|B)? (Round to 2 decimal places.)"
   ]
  },
  {
   "cell_type": "markdown",
   "metadata": {},
   "source": [
    "0.35"
   ]
  },
  {
   "cell_type": "markdown",
   "metadata": {},
   "source": [
    "What is the probability of P(B|A)? (Round to 2 decimal places.)"
   ]
  },
  {
   "cell_type": "code",
   "execution_count": 53,
   "metadata": {},
   "outputs": [
    {
     "data": {
      "text/html": [
       "0.43"
      ],
      "text/latex": [
       "0.43"
      ],
      "text/markdown": [
       "0.43"
      ],
      "text/plain": [
       "[1] 0.43"
      ]
     },
     "metadata": {},
     "output_type": "display_data"
    }
   ],
   "source": [
    "round(0.15/0.35,2)"
   ]
  },
  {
   "cell_type": "markdown",
   "metadata": {},
   "source": [
    "# Question 4\n",
    "#### A movie theater conducted a survey to determine the movie preferences of men and women. They asked a total of 130 adults (50 women and 80 men) to choose their favorite movie genre out of four choices: Action, Comedy, Horror, or Romance. The results of their survey are shown below.\n",
    "\n",
    "||Women|Men|\n",
    "|-|-|-|\n",
    "|Action|12%|35%|\n",
    "|Comedy|34%|25%|\n",
    "|Horror|30%|32.50%|\n",
    "|Romance|24%|7.50%|"
   ]
  },
  {
   "cell_type": "code",
   "execution_count": 58,
   "metadata": {},
   "outputs": [
    {
     "data": {
      "text/html": [
       "<table>\n",
       "<thead><tr><th scope=col>women</th><th scope=col>men</th></tr></thead>\n",
       "<tbody>\n",
       "\t<tr><td> 6</td><td>28</td></tr>\n",
       "\t<tr><td>17</td><td>20</td></tr>\n",
       "\t<tr><td>15</td><td>26</td></tr>\n",
       "\t<tr><td>12</td><td> 6</td></tr>\n",
       "</tbody>\n",
       "</table>\n"
      ],
      "text/latex": [
       "\\begin{tabular}{r|ll}\n",
       " women & men\\\\\n",
       "\\hline\n",
       "\t  6 & 28\\\\\n",
       "\t 17 & 20\\\\\n",
       "\t 15 & 26\\\\\n",
       "\t 12 &  6\\\\\n",
       "\\end{tabular}\n"
      ],
      "text/markdown": [
       "\n",
       "| women | men |\n",
       "|---|---|\n",
       "|  6 | 28 |\n",
       "| 17 | 20 |\n",
       "| 15 | 26 |\n",
       "| 12 |  6 |\n",
       "\n"
      ],
      "text/plain": [
       "  women men\n",
       "1  6    28 \n",
       "2 17    20 \n",
       "3 15    26 \n",
       "4 12     6 "
      ]
     },
     "metadata": {},
     "output_type": "display_data"
    }
   ],
   "source": [
    "women <- c((12/100)*50,(34/100)*50,(30/100)*50,(24/100)*50)\n",
    "men <- c((35/100)*80,(25/100)*80,(32.50/100)*80,(7.50/100)*80)\n",
    "df <- data.frame(women,men)\n",
    "df"
   ]
  },
  {
   "cell_type": "markdown",
   "metadata": {},
   "source": [
    "What is the probability that a randomly chosen person from the survey prefers Action films? (Report as a proportion rounded to 2 decimal places.)"
   ]
  },
  {
   "cell_type": "code",
   "execution_count": 60,
   "metadata": {},
   "outputs": [
    {
     "data": {
      "text/html": [
       "0.26"
      ],
      "text/latex": [
       "0.26"
      ],
      "text/markdown": [
       "0.26"
      ],
      "text/plain": [
       "[1] 0.26"
      ]
     },
     "metadata": {},
     "output_type": "display_data"
    }
   ],
   "source": [
    "round(sum(df[1,])/130,2)"
   ]
  },
  {
   "cell_type": "markdown",
   "metadata": {},
   "source": [
    "What is **P(Action|Women)**? (Report as a proportion rounded to 2 decimal places.)"
   ]
  },
  {
   "cell_type": "code",
   "execution_count": 61,
   "metadata": {},
   "outputs": [
    {
     "data": {
      "text/html": [
       "0.12"
      ],
      "text/latex": [
       "0.12"
      ],
      "text/markdown": [
       "0.12"
      ],
      "text/plain": [
       "[1] 0.12"
      ]
     },
     "metadata": {},
     "output_type": "display_data"
    }
   ],
   "source": [
    "(6/130)/(50/130)"
   ]
  },
  {
   "cell_type": "code",
   "execution_count": 62,
   "metadata": {},
   "outputs": [
    {
     "data": {
      "text/html": [
       "0.384615384615385"
      ],
      "text/latex": [
       "0.384615384615385"
      ],
      "text/markdown": [
       "0.384615384615385"
      ],
      "text/plain": [
       "[1] 0.3846154"
      ]
     },
     "metadata": {},
     "output_type": "display_data"
    }
   ],
   "source": [
    "50/130"
   ]
  },
  {
   "cell_type": "code",
   "execution_count": 63,
   "metadata": {},
   "outputs": [
    {
     "data": {
      "text/html": [
       "0.12"
      ],
      "text/latex": [
       "0.12"
      ],
      "text/markdown": [
       "0.12"
      ],
      "text/plain": [
       "[1] 0.12"
      ]
     },
     "metadata": {},
     "output_type": "display_data"
    }
   ],
   "source": [
    "6/50"
   ]
  },
  {
   "cell_type": "code",
   "execution_count": null,
   "metadata": {},
   "outputs": [],
   "source": []
  }
 ],
 "metadata": {
  "kernelspec": {
   "display_name": "R",
   "language": "R",
   "name": "ir"
  },
  "language_info": {
   "codemirror_mode": "r",
   "file_extension": ".r",
   "mimetype": "text/x-r-source",
   "name": "R",
   "pygments_lexer": "r",
   "version": "3.6.1"
  }
 },
 "nbformat": 4,
 "nbformat_minor": 2
}

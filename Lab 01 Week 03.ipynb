{
 "cells": [
  {
   "cell_type": "markdown",
   "metadata": {},
   "source": [
    "# Import Data"
   ]
  },
  {
   "cell_type": "code",
   "execution_count": 16,
   "metadata": {},
   "outputs": [],
   "source": [
    "library(SDSFoundations, lib.loc = 'C:\\\\Program Files\\\\R\\\\R-3.6.1\\\\library')\n",
    "bd = BullRiders"
   ]
  },
  {
   "cell_type": "code",
   "execution_count": 10,
   "metadata": {},
   "outputs": [
    {
     "name": "stdout",
     "output_type": "stream",
     "text": [
      "'data.frame':\t58 obs. of  44 variables:\n",
      " $ Rider             : chr  \"Joao Ricardo Vieira\" \"Matt Triplett\" \"J.B. Mauney\" \"Kaique Pacheco\" ...\n",
      " $ Rank15            : int  1 2 3 4 5 6 7 8 9 10 ...\n",
      " $ Country           : chr  \"BRA\" \"USA\" \"USA\" \"BRA\" ...\n",
      " $ YearBorn          : int  1984 1991 1987 1994 1990 1979 1982 1987 1989 1986 ...\n",
      " $ Height            : int  66 67 70 68 73 72 70 67 68 70 ...\n",
      " $ Weight            : int  163 160 140 145 160 170 180 150 135 160 ...\n",
      " $ YearsPro          : int  3 4 10 2 6 9 16 7 9 10 ...\n",
      " $ Events14          : int  28 28 22 1 15 28 28 28 12 14 ...\n",
      " $ BuckOuts14        : int  93 86 63 1 41 81 90 92 30 37 ...\n",
      " $ Rides14           : int  41 33 25 0 17 29 41 50 8 16 ...\n",
      " $ CupPoints14       : num  9520 7494 4974 1672 3240 ...\n",
      " $ Rank14            : int  2 3 4 0 31 17 8 1 54 9 ...\n",
      " $ RidePer14         : num  0.441 0.384 0.397 0 0.415 ...\n",
      " $ RidesPer_45bull_14: num  0 0.2 0.5 0 0 ...\n",
      " $ Rides90pts_14     : int  5 2 4 0 0 1 2 1 0 2 ...\n",
      " $ Wins14            : int  2 0 2 0 1 2 1 0 0 0 ...\n",
      " $ Top5_14           : int  10 4 5 0 1 5 6 7 1 2 ...\n",
      " $ Top10_14          : int  14 11 5 0 3 8 15 12 2 4 ...\n",
      " $ FinalPoints14     : num  1152.8 2743.2 4553.5 0 83.5 ...\n",
      " $ Earnings14        : num  328121 258026 497598 32978 77426 ...\n",
      " $ Events13          : int  22 9 26 0 24 19 27 27 11 0 ...\n",
      " $ BuckOuts13        : int  72 26 90 0 66 53 84 91 26 0 ...\n",
      " $ Rides13           : int  35 11 47 0 22 25 39 50 6 0 ...\n",
      " $ CupPoints13       : num  8749 2827 10399 0 4304 ...\n",
      " $ Rank13            : int  3 26 1 0 25 16 4 2 42 0 ...\n",
      " $ RidePer13         : num  0.486 0.423 0.522 0 0.333 ...\n",
      " $ RidesPer_45bull_13: num  0.375 1 0.267 0 0 ...\n",
      " $ Rides90pts_13     : int  4 1 8 0 0 0 0 3 0 0 ...\n",
      " $ Wins13            : int  3 0 5 0 0 0 2 3 0 0 ...\n",
      " $ Top5_13           : int  5 1 11 0 2 6 5 11 1 0 ...\n",
      " $ Top10_13          : int  9 2 14 0 2 6 11 13 2 0 ...\n",
      " $ FinalPoints13     : num  1991 1257 5296 0 0 ...\n",
      " $ Earnings13        : num  466585 89378 1810711 0 58577 ...\n",
      " $ Events12          : int  0 0 26 0 0 28 29 29 5 0 ...\n",
      " $ BuckOuts12        : int  0 0 82 0 0 87 87 103 10 0 ...\n",
      " $ Rides12           : int  0 0 40 0 0 53 50 62 3 0 ...\n",
      " $ CupPoints12       : num  0 0 9273 0 0 ...\n",
      " $ Rank12            : int  0 0 8 0 0 4 2 1 53 0 ...\n",
      " $ RidePer12         : num  0 0 0.49 0 0 0.61 0.57 0.6 0.3 0 ...\n",
      " $ Wins12            : int  0 0 3 0 0 1 2 2 0 0 ...\n",
      " $ Top5_12           : int  0 0 8 0 0 10 9 8 0 0 ...\n",
      " $ Top10_12          : int  0 0 13 0 0 14 12 18 1 0 ...\n",
      " $ FinalPoints12     : num  0 0 287 0 0 ...\n",
      " $ Earnings12        : num  0 0 313340 0 0 ...\n"
     ]
    }
   ],
   "source": [
    "str(bd)"
   ]
  },
  {
   "cell_type": "markdown",
   "metadata": {},
   "source": [
    "# Primary Research Question\n",
    "### In 2012, which variable had the strongest linear relationship with Earnings:  Ride Percentage or Cup Points?"
   ]
  },
  {
   "cell_type": "code",
   "execution_count": 17,
   "metadata": {},
   "outputs": [],
   "source": [
    "br12 <- bd[bd$Events12 > 0,]"
   ]
  },
  {
   "cell_type": "code",
   "execution_count": 23,
   "metadata": {},
   "outputs": [
    {
     "data": {
      "text/html": [
       "<ol class=list-inline>\n",
       "\t<li>21343.28</li>\n",
       "\t<li>66814.33</li>\n",
       "\t<li>147952.34</li>\n",
       "\t<li>239935.66</li>\n",
       "\t<li>1464475.61</li>\n",
       "</ol>\n"
      ],
      "text/latex": [
       "\\begin{enumerate*}\n",
       "\\item 21343.28\n",
       "\\item 66814.33\n",
       "\\item 147952.34\n",
       "\\item 239935.66\n",
       "\\item 1464475.61\n",
       "\\end{enumerate*}\n"
      ],
      "text/markdown": [
       "1. 21343.28\n",
       "2. 66814.33\n",
       "3. 147952.34\n",
       "4. 239935.66\n",
       "5. 1464475.61\n",
       "\n",
       "\n"
      ],
      "text/plain": [
       "[1]   21343.28   66814.33  147952.34  239935.66 1464475.61"
      ]
     },
     "metadata": {},
     "output_type": "display_data"
    },
    {
     "data": {
      "text/html": [
       "201370.848275862"
      ],
      "text/latex": [
       "201370.848275862"
      ],
      "text/markdown": [
       "201370.848275862"
      ],
      "text/plain": [
       "[1] 201370.8"
      ]
     },
     "metadata": {},
     "output_type": "display_data"
    },
    {
     "data": {
      "text/html": [
       "267178.129176043"
      ],
      "text/latex": [
       "267178.129176043"
      ],
      "text/markdown": [
       "267178.129176043"
      ],
      "text/plain": [
       "[1] 267178.1"
      ]
     },
     "metadata": {},
     "output_type": "display_data"
    },
    {
     "data": {
      "image/png": "[encoded data removed]",
      "text/plain": [
       "Plot with title \"Histogram of br12$Earnings12\""
      ]
     },
     "metadata": {},
     "output_type": "display_data"
    }
   ],
   "source": [
    "fivenum(br12$Earnings12)\n",
    "mean(br12$Earnings12)\n",
    "sd(br12$Earnings12)\n",
    "hist(br12$Earnings12,breaks = 15)"
   ]
  },
  {
   "cell_type": "code",
   "execution_count": 32,
   "metadata": {},
   "outputs": [
    {
     "data": {
      "text/html": [
       "147952"
      ],
      "text/latex": [
       "147952"
      ],
      "text/markdown": [
       "147952"
      ],
      "text/plain": [
       "[1] 147952"
      ]
     },
     "metadata": {},
     "output_type": "display_data"
    },
    {
     "data": {
      "text/html": [
       "1464476"
      ],
      "text/latex": [
       "1464476"
      ],
      "text/markdown": [
       "1464476"
      ],
      "text/plain": [
       "[1] 1464476"
      ]
     },
     "metadata": {},
     "output_type": "display_data"
    }
   ],
   "source": [
    "round(median(br12$Earnings12))\n",
    "round(max(br12$Earnings12))"
   ]
  },
  {
   "cell_type": "code",
   "execution_count": 24,
   "metadata": {},
   "outputs": [
    {
     "data": {
      "text/html": [
       "<ol class=list-inline>\n",
       "\t<li>0.19</li>\n",
       "\t<li>0.29</li>\n",
       "\t<li>0.38</li>\n",
       "\t<li>0.53</li>\n",
       "\t<li>0.61</li>\n",
       "</ol>\n"
      ],
      "text/latex": [
       "\\begin{enumerate*}\n",
       "\\item 0.19\n",
       "\\item 0.29\n",
       "\\item 0.38\n",
       "\\item 0.53\n",
       "\\item 0.61\n",
       "\\end{enumerate*}\n"
      ],
      "text/markdown": [
       "1. 0.19\n",
       "2. 0.29\n",
       "3. 0.38\n",
       "4. 0.53\n",
       "5. 0.61\n",
       "\n",
       "\n"
      ],
      "text/plain": [
       "[1] 0.19 0.29 0.38 0.53 0.61"
      ]
     },
     "metadata": {},
     "output_type": "display_data"
    },
    {
     "data": {
      "text/html": [
       "0.398620689655172"
      ],
      "text/latex": [
       "0.398620689655172"
      ],
      "text/markdown": [
       "0.398620689655172"
      ],
      "text/plain": [
       "[1] 0.3986207"
      ]
     },
     "metadata": {},
     "output_type": "display_data"
    },
    {
     "data": {
      "text/html": [
       "0.128277715967323"
      ],
      "text/latex": [
       "0.128277715967323"
      ],
      "text/markdown": [
       "0.128277715967323"
      ],
      "text/plain": [
       "[1] 0.1282777"
      ]
     },
     "metadata": {},
     "output_type": "display_data"
    },
    {
     "data": {
      "image/png": "[encoded data removed]",
      "text/plain": [
       "Plot with title \"Histogram of br12$RidePer12\""
      ]
     },
     "metadata": {},
     "output_type": "display_data"
    }
   ],
   "source": [
    "fivenum(br12$RidePer12)\n",
    "mean(br12$RidePer12)\n",
    "sd(br12$RidePer12)\n",
    "hist(br12$RidePer12,breaks = 15)"
   ]
  },
  {
   "cell_type": "code",
   "execution_count": 25,
   "metadata": {},
   "outputs": [
    {
     "data": {
      "text/html": [
       "<ol class=list-inline>\n",
       "\t<li>261.75</li>\n",
       "\t<li>1408.75</li>\n",
       "\t<li>5062.5</li>\n",
       "\t<li>9273.25</li>\n",
       "\t<li>12201.75</li>\n",
       "</ol>\n"
      ],
      "text/latex": [
       "\\begin{enumerate*}\n",
       "\\item 261.75\n",
       "\\item 1408.75\n",
       "\\item 5062.5\n",
       "\\item 9273.25\n",
       "\\item 12201.75\n",
       "\\end{enumerate*}\n"
      ],
      "text/markdown": [
       "1. 261.75\n",
       "2. 1408.75\n",
       "3. 5062.5\n",
       "4. 9273.25\n",
       "5. 12201.75\n",
       "\n",
       "\n"
      ],
      "text/plain": [
       "[1]   261.75  1408.75  5062.50  9273.25 12201.75"
      ]
     },
     "metadata": {},
     "output_type": "display_data"
    },
    {
     "data": {
      "text/html": [
       "5528.18965517241"
      ],
      "text/latex": [
       "5528.18965517241"
      ],
      "text/markdown": [
       "5528.18965517241"
      ],
      "text/plain": [
       "[1] 5528.19"
      ]
     },
     "metadata": {},
     "output_type": "display_data"
    },
    {
     "data": {
      "text/html": [
       "3800.3501123106"
      ],
      "text/latex": [
       "3800.3501123106"
      ],
      "text/markdown": [
       "3800.3501123106"
      ],
      "text/plain": [
       "[1] 3800.35"
      ]
     },
     "metadata": {},
     "output_type": "display_data"
    },
    {
     "data": {
      "image/png": "[encoded data removed]",
      "text/plain": [
       "Plot with title \"Histogram of br12$CupPoints12\""
      ]
     },
     "metadata": {},
     "output_type": "display_data"
    }
   ],
   "source": [
    "fivenum(br12$CupPoints12)\n",
    "mean(br12$CupPoints12)\n",
    "sd(br12$CupPoints12)\n",
    "hist(br12$CupPoints12,breaks = 15)"
   ]
  },
  {
   "cell_type": "code",
   "execution_count": 34,
   "metadata": {},
   "outputs": [
    {
     "data": {
      "image/png": "[encoded data removed]",
      "text/plain": [
       "plot without title"
      ]
     },
     "metadata": {},
     "output_type": "display_data"
    }
   ],
   "source": [
    "plot(br12$RidePer12,br12$Earnings12)\n",
    "abline(lm(br12$Earnings12~br12$RidePer12))"
   ]
  },
  {
   "cell_type": "code",
   "execution_count": 33,
   "metadata": {},
   "outputs": [
    {
     "data": {
      "image/png": "[encoded data removed]",
      "text/plain": [
       "plot without title"
      ]
     },
     "metadata": {},
     "output_type": "display_data"
    }
   ],
   "source": [
    "plot(br12$CupPoints12,br12$Earnings12)\n",
    "abline(lm(br12$Earnings12~br12$CupPoints12))"
   ]
  },
  {
   "cell_type": "code",
   "execution_count": 28,
   "metadata": {},
   "outputs": [
    {
     "data": {
      "text/html": [
       "0.593410956411092"
      ],
      "text/latex": [
       "0.593410956411092"
      ],
      "text/markdown": [
       "0.593410956411092"
      ],
      "text/plain": [
       "[1] 0.593411"
      ]
     },
     "metadata": {},
     "output_type": "display_data"
    },
    {
     "data": {
      "text/html": [
       "0.656936325873338"
      ],
      "text/latex": [
       "0.656936325873338"
      ],
      "text/markdown": [
       "0.656936325873338"
      ],
      "text/plain": [
       "[1] 0.6569363"
      ]
     },
     "metadata": {},
     "output_type": "display_data"
    }
   ],
   "source": [
    "cor(br12$RidePer12,br12$Earnings12)\n",
    "cor(br12$CupPoints12,br12$Earnings12)"
   ]
  },
  {
   "cell_type": "code",
   "execution_count": 35,
   "metadata": {},
   "outputs": [
    {
     "data": {
      "text/html": [
       "0.593"
      ],
      "text/latex": [
       "0.593"
      ],
      "text/markdown": [
       "0.593"
      ],
      "text/plain": [
       "[1] 0.593"
      ]
     },
     "metadata": {},
     "output_type": "display_data"
    },
    {
     "data": {
      "text/html": [
       "0.657"
      ],
      "text/latex": [
       "0.657"
      ],
      "text/markdown": [
       "0.657"
      ],
      "text/plain": [
       "[1] 0.657"
      ]
     },
     "metadata": {},
     "output_type": "display_data"
    }
   ],
   "source": [
    "round(cor(br12$RidePer12,br12$Earnings12),3)\n",
    "round(cor(br12$CupPoints12,br12$Earnings12),3)"
   ]
  },
  {
   "cell_type": "code",
   "execution_count": 30,
   "metadata": {},
   "outputs": [
    {
     "data": {
      "text/html": [
       "<table>\n",
       "<thead><tr><th></th><th scope=col>Earnings12</th><th scope=col>RidePer12</th><th scope=col>CupPoints12</th></tr></thead>\n",
       "<tbody>\n",
       "\t<tr><th scope=row>Earnings12</th><td>1.0000000</td><td>0.5934110</td><td>0.6569363</td></tr>\n",
       "\t<tr><th scope=row>RidePer12</th><td>0.5934110</td><td>1.0000000</td><td>0.9183375</td></tr>\n",
       "\t<tr><th scope=row>CupPoints12</th><td>0.6569363</td><td>0.9183375</td><td>1.0000000</td></tr>\n",
       "</tbody>\n",
       "</table>\n"
      ],
      "text/latex": [
       "\\begin{tabular}{r|lll}\n",
       "  & Earnings12 & RidePer12 & CupPoints12\\\\\n",
       "\\hline\n",
       "\tEarnings12 & 1.0000000 & 0.5934110 & 0.6569363\\\\\n",
       "\tRidePer12 & 0.5934110 & 1.0000000 & 0.9183375\\\\\n",
       "\tCupPoints12 & 0.6569363 & 0.9183375 & 1.0000000\\\\\n",
       "\\end{tabular}\n"
      ],
      "text/markdown": [
       "\n",
       "| <!--/--> | Earnings12 | RidePer12 | CupPoints12 |\n",
       "|---|---|---|---|\n",
       "| Earnings12 | 1.0000000 | 0.5934110 | 0.6569363 |\n",
       "| RidePer12 | 0.5934110 | 1.0000000 | 0.9183375 |\n",
       "| CupPoints12 | 0.6569363 | 0.9183375 | 1.0000000 |\n",
       "\n"
      ],
      "text/plain": [
       "            Earnings12 RidePer12 CupPoints12\n",
       "Earnings12  1.0000000  0.5934110 0.6569363  \n",
       "RidePer12   0.5934110  1.0000000 0.9183375  \n",
       "CupPoints12 0.6569363  0.9183375 1.0000000  "
      ]
     },
     "metadata": {},
     "output_type": "display_data"
    }
   ],
   "source": [
    "cor(br12[,c('Earnings12','RidePer12','CupPoints12')])"
   ]
  },
  {
   "cell_type": "markdown",
   "metadata": {},
   "source": [
    "## Outliers"
   ]
  },
  {
   "cell_type": "code",
   "execution_count": 36,
   "metadata": {},
   "outputs": [
    {
     "data": {
      "text/html": [
       "4"
      ],
      "text/latex": [
       "4"
      ],
      "text/markdown": [
       "4"
      ],
      "text/plain": [
       "[1] 4"
      ]
     },
     "metadata": {},
     "output_type": "display_data"
    }
   ],
   "source": [
    "which(br12$Earnings12 == max(br12$Earnings12))"
   ]
  },
  {
   "cell_type": "code",
   "execution_count": 38,
   "metadata": {},
   "outputs": [
    {
     "name": "stdout",
     "output_type": "stream",
     "text": [
      "          Rider Rank15 Country YearBorn Height Weight YearsPro Events14\n",
      "8 Silvano Alves      8     BRA     1987     67    150        7       28\n",
      "  BuckOuts14 Rides14 CupPoints14 Rank14 RidePer14 RidesPer_45bull_14\n",
      "8         92      50     9004.06      1    0.5435             0.3333\n",
      "  Rides90pts_14 Wins14 Top5_14 Top10_14 FinalPoints14 Earnings14 Events13\n",
      "8             1      0       7       12          3607    1422603       27\n",
      "  BuckOuts13 Rides13 CupPoints13 Rank13 RidePer13 RidesPer_45bull_13\n",
      "8         91      50    10937.75      2    0.5495                0.2\n",
      "  Rides90pts_13 Wins13 Top5_13 Top10_13 FinalPoints13 Earnings13 Events12\n",
      "8             3      3      11       13          3780   625650.8       29\n",
      "  BuckOuts12 Rides12 CupPoints12 Rank12 RidePer12 Wins12 Top5_12 Top10_12\n",
      "8        103      62    12201.75      1       0.6      2       8       18\n",
      "  FinalPoints12 Earnings12\n",
      "8          1648    1464476\n"
     ]
    }
   ],
   "source": [
    "print(br12[4,])"
   ]
  },
  {
   "cell_type": "code",
   "execution_count": 39,
   "metadata": {},
   "outputs": [],
   "source": [
    "nobr12 <- br12[br12$Earnings12 < 1000000 ,]"
   ]
  },
  {
   "cell_type": "code",
   "execution_count": 40,
   "metadata": {},
   "outputs": [
    {
     "data": {
      "text/html": [
       "0.804"
      ],
      "text/latex": [
       "0.804"
      ],
      "text/markdown": [
       "0.804"
      ],
      "text/plain": [
       "[1] 0.804"
      ]
     },
     "metadata": {},
     "output_type": "display_data"
    },
    {
     "data": {
      "text/html": [
       "0.893"
      ],
      "text/latex": [
       "0.893"
      ],
      "text/markdown": [
       "0.893"
      ],
      "text/plain": [
       "[1] 0.893"
      ]
     },
     "metadata": {},
     "output_type": "display_data"
    }
   ],
   "source": [
    "round(cor(nobr12$RidePer12,nobr12$Earnings12),3)\n",
    "round(cor(nobr12$CupPoints12,nobr12$Earnings12),3)"
   ]
  },
  {
   "cell_type": "code",
   "execution_count": null,
   "metadata": {},
   "outputs": [],
   "source": []
  }
 ],
 "metadata": {
  "kernelspec": {
   "display_name": "R",
   "language": "R",
   "name": "ir"
  },
  "language_info": {
   "codemirror_mode": "r",
   "file_extension": ".r",
   "mimetype": "text/x-r-source",
   "name": "R",
   "pygments_lexer": "r",
   "version": "3.6.1"
  }
 },
 "nbformat": 4,
 "nbformat_minor": 2
}

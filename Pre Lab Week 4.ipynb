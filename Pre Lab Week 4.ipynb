{
 "cells": [
  {
   "cell_type": "markdown",
   "metadata": {},
   "source": [
    "# Import data"
   ]
  },
  {
   "cell_type": "code",
   "execution_count": 1,
   "metadata": {},
   "outputs": [],
   "source": [
    ".libPaths('C:\\\\Program Files\\\\R\\\\R-3.6.1\\\\library')\n",
    "library(SDSFoundations)\n",
    "acl = AustinCityLimits"
   ]
  },
  {
   "cell_type": "code",
   "execution_count": 2,
   "metadata": {},
   "outputs": [
    {
     "data": {
      "text/html": [
       "116"
      ],
      "text/latex": [
       "116"
      ],
      "text/markdown": [
       "116"
      ],
      "text/plain": [
       "[1] 116"
      ]
     },
     "metadata": {},
     "output_type": "display_data"
    }
   ],
   "source": [
    "nrow(acl)"
   ]
  },
  {
   "cell_type": "code",
   "execution_count": 3,
   "metadata": {},
   "outputs": [
    {
     "data": {
      "text/html": [
       "14"
      ],
      "text/latex": [
       "14"
      ],
      "text/markdown": [
       "14"
      ],
      "text/plain": [
       "[1] 14"
      ]
     },
     "metadata": {},
     "output_type": "display_data"
    }
   ],
   "source": [
    "ncol(acl)"
   ]
  },
  {
   "cell_type": "code",
   "execution_count": 4,
   "metadata": {},
   "outputs": [
    {
     "name": "stdout",
     "output_type": "stream",
     "text": [
      "'data.frame':\t116 obs. of  14 variables:\n",
      " $ Artist       : Factor w/ 116 levels \"Aimee Mann\",\"Alabama Shakes\",..: 1 2 3 4 5 6 7 8 9 10 ...\n",
      " $ Year         : int  2008 2013 2009 2009 2007 2009 2010 2009 2003 2008 ...\n",
      " $ Month        : Factor w/ 6 levels \"December\",\"February\",..: 4 2 3 5 4 4 3 4 3 5 ...\n",
      " $ Season       : Factor w/ 2 levels \"fall\",\"winter\": 1 2 2 1 1 1 2 1 2 1 ...\n",
      " $ Gender       : Factor w/ 2 levels \"F\",\"M\": 1 1 2 2 1 2 2 2 2 1 ...\n",
      " $ Age          : int  52 24 75 39 33 62 37 35 43 67 ...\n",
      " $ Age.Group    : Factor w/ 4 levels \"Fifties or Older\",..: 1 4 1 3 3 1 3 3 2 1 ...\n",
      " $ Grammy       : Factor w/ 2 levels \"N\",\"Y\": 2 1 1 1 2 2 1 1 2 1 ...\n",
      " $ Genre        : Factor w/ 4 levels \"Country\",\"Jazz/Blues\",..: 4 3 2 3 3 1 3 3 3 2 ...\n",
      " $ BB.wk.top10  : int  0 1 NA 1 1 0 1 NA 1 0 ...\n",
      " $ Twitter      : int  101870 73313 308634 56343 404439 3326 125758 8197 158647 690 ...\n",
      " $ Twitter.100k : int  1 0 1 0 1 0 1 0 1 0 ...\n",
      " $ Facebook     : int  113576 298278 10721 318313 1711685 27321 563505 18955 1381051 1715 ...\n",
      " $ Facebook.100k: int  1 1 0 1 1 0 1 0 1 0 ...\n"
     ]
    }
   ],
   "source": [
    "str(acl)"
   ]
  },
  {
   "cell_type": "markdown",
   "metadata": {},
   "source": [
    "## How many of the first 10 artists in the dataset were Grammy winners?"
   ]
  },
  {
   "cell_type": "code",
   "execution_count": 5,
   "metadata": {},
   "outputs": [
    {
     "data": {
      "text/plain": [
       "\n",
       "N Y \n",
       "6 4 "
      ]
     },
     "metadata": {},
     "output_type": "display_data"
    }
   ],
   "source": [
    "table(head(acl,10)$Grammy)"
   ]
  },
  {
   "cell_type": "markdown",
   "metadata": {},
   "source": [
    "## What genre was played by the first female artist in the dataset who was over 60 years of age? Match the case of the genre as it appears in the dataset."
   ]
  },
  {
   "cell_type": "code",
   "execution_count": 7,
   "metadata": {},
   "outputs": [
    {
     "data": {
      "text/html": [
       "<table>\n",
       "<thead><tr><th></th><th scope=col>Artist</th><th scope=col>Year</th><th scope=col>Month</th><th scope=col>Season</th><th scope=col>Gender</th><th scope=col>Age</th><th scope=col>Age.Group</th><th scope=col>Grammy</th><th scope=col>Genre</th><th scope=col>BB.wk.top10</th><th scope=col>Twitter</th><th scope=col>Twitter.100k</th><th scope=col>Facebook</th><th scope=col>Facebook.100k</th></tr></thead>\n",
       "<tbody>\n",
       "\t<tr><th scope=row>10</th><td>Bettye Lavette  </td><td>2008            </td><td>October         </td><td>fall            </td><td>F               </td><td>67              </td><td>Fifties or Older</td><td>N               </td><td>Jazz/Blues      </td><td>0               </td><td>  690           </td><td>0               </td><td>  1715          </td><td>0               </td></tr>\n",
       "\t<tr><th scope=row>17</th><td>Bonnie Rait     </td><td>2012            </td><td>November        </td><td>fall            </td><td>F               </td><td>63              </td><td>Fifties or Older</td><td>Y               </td><td>Country         </td><td>1               </td><td>18683           </td><td>0               </td><td>357770          </td><td>1               </td></tr>\n",
       "\t<tr><th scope=row>59</th><td>Jeff Bridges    </td><td>2011            </td><td>November        </td><td>fall            </td><td>F               </td><td>63              </td><td>Fifties or Older</td><td>N               </td><td>Country         </td><td>0               </td><td>46193           </td><td>0               </td><td>141809          </td><td>1               </td></tr>\n",
       "</tbody>\n",
       "</table>\n"
      ],
      "text/latex": [
       "\\begin{tabular}{r|llllllllllllll}\n",
       "  & Artist & Year & Month & Season & Gender & Age & Age.Group & Grammy & Genre & BB.wk.top10 & Twitter & Twitter.100k & Facebook & Facebook.100k\\\\\n",
       "\\hline\n",
       "\t10 & Bettye Lavette   & 2008             & October          & fall             & F                & 67               & Fifties or Older & N                & Jazz/Blues       & 0                &   690            & 0                &   1715           & 0               \\\\\n",
       "\t17 & Bonnie Rait      & 2012             & November         & fall             & F                & 63               & Fifties or Older & Y                & Country          & 1                & 18683            & 0                & 357770           & 1               \\\\\n",
       "\t59 & Jeff Bridges     & 2011             & November         & fall             & F                & 63               & Fifties or Older & N                & Country          & 0                & 46193            & 0                & 141809           & 1               \\\\\n",
       "\\end{tabular}\n"
      ],
      "text/markdown": [
       "\n",
       "| <!--/--> | Artist | Year | Month | Season | Gender | Age | Age.Group | Grammy | Genre | BB.wk.top10 | Twitter | Twitter.100k | Facebook | Facebook.100k |\n",
       "|---|---|---|---|---|---|---|---|---|---|---|---|---|---|---|\n",
       "| 10 | Bettye Lavette   | 2008             | October          | fall             | F                | 67               | Fifties or Older | N                | Jazz/Blues       | 0                |   690            | 0                |   1715           | 0                |\n",
       "| 17 | Bonnie Rait      | 2012             | November         | fall             | F                | 63               | Fifties or Older | Y                | Country          | 1                | 18683            | 0                | 357770           | 1                |\n",
       "| 59 | Jeff Bridges     | 2011             | November         | fall             | F                | 63               | Fifties or Older | N                | Country          | 0                | 46193            | 0                | 141809           | 1                |\n",
       "\n"
      ],
      "text/plain": [
       "   Artist         Year Month    Season Gender Age Age.Group        Grammy\n",
       "10 Bettye Lavette 2008 October  fall   F      67  Fifties or Older N     \n",
       "17 Bonnie Rait    2012 November fall   F      63  Fifties or Older Y     \n",
       "59 Jeff Bridges   2011 November fall   F      63  Fifties or Older N     \n",
       "   Genre      BB.wk.top10 Twitter Twitter.100k Facebook Facebook.100k\n",
       "10 Jazz/Blues 0             690   0              1715   0            \n",
       "17 Country    1           18683   0            357770   1            \n",
       "59 Country    0           46193   0            141809   1            "
      ]
     },
     "metadata": {},
     "output_type": "display_data"
    }
   ],
   "source": [
    "acl[(acl$Age>60)&(acl$Gender == 'F'),]"
   ]
  },
  {
   "cell_type": "markdown",
   "metadata": {},
   "source": [
    "## artist age 30 or older"
   ]
  },
  {
   "cell_type": "code",
   "execution_count": 8,
   "metadata": {},
   "outputs": [],
   "source": [
    "a30 <- acl[acl$Age >= 30,]"
   ]
  },
  {
   "cell_type": "markdown",
   "metadata": {},
   "source": [
    "## tables of marginal distributions"
   ]
  },
  {
   "cell_type": "code",
   "execution_count": 35,
   "metadata": {},
   "outputs": [],
   "source": [
    "genre <- table(a30$Genre)\n",
    "gender <- table(a30$Gender)"
   ]
  },
  {
   "cell_type": "code",
   "execution_count": 36,
   "metadata": {},
   "outputs": [
    {
     "data": {
      "text/plain": [
       "\n",
       "          Country        Jazz/Blues   Rock/Folk/Indie Singer-Songwriter \n",
       "               17                11                61                13 "
      ]
     },
     "metadata": {},
     "output_type": "display_data"
    },
    {
     "data": {
      "text/plain": [
       "\n",
       " F  M \n",
       "25 77 "
      ]
     },
     "metadata": {},
     "output_type": "display_data"
    }
   ],
   "source": [
    "genre\n",
    "gender"
   ]
  },
  {
   "cell_type": "markdown",
   "metadata": {},
   "source": [
    "## create contingency table for gender and genre"
   ]
  },
  {
   "cell_type": "code",
   "execution_count": 38,
   "metadata": {},
   "outputs": [],
   "source": [
    "contingency_table <- table(a30$Gender,a30$Genre)"
   ]
  },
  {
   "cell_type": "code",
   "execution_count": 39,
   "metadata": {},
   "outputs": [
    {
     "data": {
      "text/plain": [
       "   \n",
       "    Country Jazz/Blues Rock/Folk/Indie Singer-Songwriter\n",
       "  F       6          4               8                 7\n",
       "  M      11          7              53                 6"
      ]
     },
     "metadata": {},
     "output_type": "display_data"
    }
   ],
   "source": [
    "contingency_table"
   ]
  },
  {
   "cell_type": "markdown",
   "metadata": {},
   "source": [
    "## create barplot for contingency data"
   ]
  },
  {
   "cell_type": "code",
   "execution_count": 25,
   "metadata": {},
   "outputs": [
    {
     "data": {
      "image/png": "[encoded data removed]",
      "text/plain": [
       "plot without title"
      ]
     },
     "metadata": {},
     "output_type": "display_data"
    }
   ],
   "source": [
    "barplot(contingency_table,legend=T,beside = T)"
   ]
  },
  {
   "cell_type": "markdown",
   "metadata": {},
   "source": [
    "## probability distributions"
   ]
  },
  {
   "cell_type": "code",
   "execution_count": 37,
   "metadata": {},
   "outputs": [
    {
     "data": {
      "text/plain": [
       "\n",
       "          Country        Jazz/Blues   Rock/Folk/Indie Singer-Songwriter \n",
       "        0.1666667         0.1078431         0.5980392         0.1274510 "
      ]
     },
     "metadata": {},
     "output_type": "display_data"
    }
   ],
   "source": [
    "prop.table(genre)"
   ]
  },
  {
   "cell_type": "code",
   "execution_count": 40,
   "metadata": {},
   "outputs": [
    {
     "data": {
      "text/plain": [
       "   \n",
       "       Country Jazz/Blues Rock/Folk/Indie Singer-Songwriter\n",
       "  F 0.05882353 0.03921569      0.07843137        0.06862745\n",
       "  M 0.10784314 0.06862745      0.51960784        0.05882353"
      ]
     },
     "metadata": {},
     "output_type": "display_data"
    }
   ],
   "source": [
    "prop.table(contingency_table)"
   ]
  },
  {
   "cell_type": "code",
   "execution_count": 41,
   "metadata": {},
   "outputs": [
    {
     "data": {
      "text/plain": [
       "   \n",
       "       Country Jazz/Blues Rock/Folk/Indie Singer-Songwriter\n",
       "  F 0.24000000 0.16000000      0.32000000        0.28000000\n",
       "  M 0.14285714 0.09090909      0.68831169        0.07792208"
      ]
     },
     "metadata": {},
     "output_type": "display_data"
    }
   ],
   "source": [
    "prop.table(contingency_table,1) # row distributions (the proportion of country being played given the gender being F or M)"
   ]
  },
  {
   "cell_type": "code",
   "execution_count": 42,
   "metadata": {},
   "outputs": [
    {
     "data": {
      "text/plain": [
       "   \n",
       "      Country Jazz/Blues Rock/Folk/Indie Singer-Songwriter\n",
       "  F 0.3529412  0.3636364       0.1311475         0.5384615\n",
       "  M 0.6470588  0.6363636       0.8688525         0.4615385"
      ]
     },
     "metadata": {},
     "output_type": "display_data"
    }
   ],
   "source": [
    "prop.table(contingency_table,2) # by column distributions (the proportion of gender given the genre being played is country)"
   ]
  },
  {
   "cell_type": "markdown",
   "metadata": {},
   "source": [
    "## How many male artists are in the 30+ year old artist subset of the Austin City Limits dataset?"
   ]
  },
  {
   "cell_type": "code",
   "execution_count": 30,
   "metadata": {},
   "outputs": [
    {
     "data": {
      "text/plain": [
       "\n",
       " F  M \n",
       "25 77 "
      ]
     },
     "metadata": {},
     "output_type": "display_data"
    }
   ],
   "source": [
    "table(a30$Gender)"
   ]
  },
  {
   "cell_type": "code",
   "execution_count": 31,
   "metadata": {},
   "outputs": [
    {
     "data": {
      "text/html": [
       "102"
      ],
      "text/latex": [
       "102"
      ],
      "text/markdown": [
       "102"
      ],
      "text/plain": [
       "[1] 102"
      ]
     },
     "metadata": {},
     "output_type": "display_data"
    }
   ],
   "source": [
    "nrow(a30)"
   ]
  },
  {
   "cell_type": "code",
   "execution_count": null,
   "metadata": {},
   "outputs": [],
   "source": []
  }
 ],
 "metadata": {
  "kernelspec": {
   "display_name": "R",
   "language": "R",
   "name": "ir"
  },
  "language_info": {
   "codemirror_mode": "r",
   "file_extension": ".r",
   "mimetype": "text/x-r-source",
   "name": "R",
   "pygments_lexer": "r",
   "version": "3.6.1"
  }
 },
 "nbformat": 4,
 "nbformat_minor": 2
}

{
 "cells": [
  {
   "cell_type": "markdown",
   "metadata": {},
   "source": [
    "# Five Number Summary Review Questions"
   ]
  },
  {
   "cell_type": "markdown",
   "metadata": {},
   "source": [
    "## data initializations"
   ]
  },
  {
   "cell_type": "code",
   "execution_count": 1,
   "metadata": {},
   "outputs": [],
   "source": [
    "data  <- c(70,84,62,80,75,95,69,48,76,70,45,83,58,75,85,70,62,64,39,68,67,35,55,93,51,67,86,58,49,47,42,75)"
   ]
  },
  {
   "cell_type": "code",
   "execution_count": 2,
   "metadata": {},
   "outputs": [
    {
     "data": {
      "text/html": [
       "<ol class=list-inline>\n",
       "\t<li>70</li>\n",
       "\t<li>84</li>\n",
       "\t<li>62</li>\n",
       "\t<li>80</li>\n",
       "\t<li>75</li>\n",
       "\t<li>95</li>\n",
       "\t<li>69</li>\n",
       "\t<li>48</li>\n",
       "\t<li>76</li>\n",
       "\t<li>70</li>\n",
       "\t<li>45</li>\n",
       "\t<li>83</li>\n",
       "\t<li>58</li>\n",
       "\t<li>75</li>\n",
       "\t<li>85</li>\n",
       "\t<li>70</li>\n",
       "\t<li>62</li>\n",
       "\t<li>64</li>\n",
       "\t<li>39</li>\n",
       "\t<li>68</li>\n",
       "\t<li>67</li>\n",
       "\t<li>35</li>\n",
       "\t<li>55</li>\n",
       "\t<li>93</li>\n",
       "\t<li>51</li>\n",
       "\t<li>67</li>\n",
       "\t<li>86</li>\n",
       "\t<li>58</li>\n",
       "\t<li>49</li>\n",
       "\t<li>47</li>\n",
       "\t<li>42</li>\n",
       "\t<li>75</li>\n",
       "</ol>\n"
      ],
      "text/latex": [
       "\\begin{enumerate*}\n",
       "\\item 70\n",
       "\\item 84\n",
       "\\item 62\n",
       "\\item 80\n",
       "\\item 75\n",
       "\\item 95\n",
       "\\item 69\n",
       "\\item 48\n",
       "\\item 76\n",
       "\\item 70\n",
       "\\item 45\n",
       "\\item 83\n",
       "\\item 58\n",
       "\\item 75\n",
       "\\item 85\n",
       "\\item 70\n",
       "\\item 62\n",
       "\\item 64\n",
       "\\item 39\n",
       "\\item 68\n",
       "\\item 67\n",
       "\\item 35\n",
       "\\item 55\n",
       "\\item 93\n",
       "\\item 51\n",
       "\\item 67\n",
       "\\item 86\n",
       "\\item 58\n",
       "\\item 49\n",
       "\\item 47\n",
       "\\item 42\n",
       "\\item 75\n",
       "\\end{enumerate*}\n"
      ],
      "text/markdown": [
       "1. 70\n",
       "2. 84\n",
       "3. 62\n",
       "4. 80\n",
       "5. 75\n",
       "6. 95\n",
       "7. 69\n",
       "8. 48\n",
       "9. 76\n",
       "10. 70\n",
       "11. 45\n",
       "12. 83\n",
       "13. 58\n",
       "14. 75\n",
       "15. 85\n",
       "16. 70\n",
       "17. 62\n",
       "18. 64\n",
       "19. 39\n",
       "20. 68\n",
       "21. 67\n",
       "22. 35\n",
       "23. 55\n",
       "24. 93\n",
       "25. 51\n",
       "26. 67\n",
       "27. 86\n",
       "28. 58\n",
       "29. 49\n",
       "30. 47\n",
       "31. 42\n",
       "32. 75\n",
       "\n",
       "\n"
      ],
      "text/plain": [
       " [1] 70 84 62 80 75 95 69 48 76 70 45 83 58 75 85 70 62 64 39 68 67 35 55 93 51\n",
       "[26] 67 86 58 49 47 42 75"
      ]
     },
     "metadata": {},
     "output_type": "display_data"
    }
   ],
   "source": [
    "data"
   ]
  },
  {
   "cell_type": "markdown",
   "metadata": {},
   "source": [
    "## sort the data"
   ]
  },
  {
   "cell_type": "code",
   "execution_count": 3,
   "metadata": {},
   "outputs": [
    {
     "data": {
      "text/html": [
       "<ol class=list-inline>\n",
       "\t<li>35</li>\n",
       "\t<li>39</li>\n",
       "\t<li>42</li>\n",
       "\t<li>45</li>\n",
       "\t<li>47</li>\n",
       "\t<li>48</li>\n",
       "\t<li>49</li>\n",
       "\t<li>51</li>\n",
       "\t<li>55</li>\n",
       "\t<li>58</li>\n",
       "\t<li>58</li>\n",
       "\t<li>62</li>\n",
       "\t<li>62</li>\n",
       "\t<li>64</li>\n",
       "\t<li>67</li>\n",
       "\t<li>67</li>\n",
       "\t<li>68</li>\n",
       "\t<li>69</li>\n",
       "\t<li>70</li>\n",
       "\t<li>70</li>\n",
       "\t<li>70</li>\n",
       "\t<li>75</li>\n",
       "\t<li>75</li>\n",
       "\t<li>75</li>\n",
       "\t<li>76</li>\n",
       "\t<li>80</li>\n",
       "\t<li>83</li>\n",
       "\t<li>84</li>\n",
       "\t<li>85</li>\n",
       "\t<li>86</li>\n",
       "\t<li>93</li>\n",
       "\t<li>95</li>\n",
       "</ol>\n"
      ],
      "text/latex": [
       "\\begin{enumerate*}\n",
       "\\item 35\n",
       "\\item 39\n",
       "\\item 42\n",
       "\\item 45\n",
       "\\item 47\n",
       "\\item 48\n",
       "\\item 49\n",
       "\\item 51\n",
       "\\item 55\n",
       "\\item 58\n",
       "\\item 58\n",
       "\\item 62\n",
       "\\item 62\n",
       "\\item 64\n",
       "\\item 67\n",
       "\\item 67\n",
       "\\item 68\n",
       "\\item 69\n",
       "\\item 70\n",
       "\\item 70\n",
       "\\item 70\n",
       "\\item 75\n",
       "\\item 75\n",
       "\\item 75\n",
       "\\item 76\n",
       "\\item 80\n",
       "\\item 83\n",
       "\\item 84\n",
       "\\item 85\n",
       "\\item 86\n",
       "\\item 93\n",
       "\\item 95\n",
       "\\end{enumerate*}\n"
      ],
      "text/markdown": [
       "1. 35\n",
       "2. 39\n",
       "3. 42\n",
       "4. 45\n",
       "5. 47\n",
       "6. 48\n",
       "7. 49\n",
       "8. 51\n",
       "9. 55\n",
       "10. 58\n",
       "11. 58\n",
       "12. 62\n",
       "13. 62\n",
       "14. 64\n",
       "15. 67\n",
       "16. 67\n",
       "17. 68\n",
       "18. 69\n",
       "19. 70\n",
       "20. 70\n",
       "21. 70\n",
       "22. 75\n",
       "23. 75\n",
       "24. 75\n",
       "25. 76\n",
       "26. 80\n",
       "27. 83\n",
       "28. 84\n",
       "29. 85\n",
       "30. 86\n",
       "31. 93\n",
       "32. 95\n",
       "\n",
       "\n"
      ],
      "text/plain": [
       " [1] 35 39 42 45 47 48 49 51 55 58 58 62 62 64 67 67 68 69 70 70 70 75 75 75 76\n",
       "[26] 80 83 84 85 86 93 95"
      ]
     },
     "metadata": {},
     "output_type": "display_data"
    }
   ],
   "source": [
    "sort(data)"
   ]
  },
  {
   "cell_type": "code",
   "execution_count": 4,
   "metadata": {},
   "outputs": [],
   "source": [
    "data = sort(data)"
   ]
  },
  {
   "cell_type": "markdown",
   "metadata": {},
   "source": [
    "## five number summary"
   ]
  },
  {
   "cell_type": "code",
   "execution_count": 5,
   "metadata": {},
   "outputs": [
    {
     "data": {
      "text/html": [
       "<dl class=dl-horizontal>\n",
       "\t<dt>0%</dt>\n",
       "\t\t<dd>35</dd>\n",
       "\t<dt>25%</dt>\n",
       "\t\t<dd>54</dd>\n",
       "\t<dt>50%</dt>\n",
       "\t\t<dd>67.5</dd>\n",
       "\t<dt>75%</dt>\n",
       "\t\t<dd>75.25</dd>\n",
       "\t<dt>100%</dt>\n",
       "\t\t<dd>95</dd>\n",
       "</dl>\n"
      ],
      "text/latex": [
       "\\begin{description*}\n",
       "\\item[0\\textbackslash{}\\%] 35\n",
       "\\item[25\\textbackslash{}\\%] 54\n",
       "\\item[50\\textbackslash{}\\%] 67.5\n",
       "\\item[75\\textbackslash{}\\%] 75.25\n",
       "\\item[100\\textbackslash{}\\%] 95\n",
       "\\end{description*}\n"
      ],
      "text/markdown": [
       "0%\n",
       ":   3525%\n",
       ":   5450%\n",
       ":   67.575%\n",
       ":   75.25100%\n",
       ":   95\n",
       "\n"
      ],
      "text/plain": [
       "   0%   25%   50%   75%  100% \n",
       "35.00 54.00 67.50 75.25 95.00 "
      ]
     },
     "metadata": {},
     "output_type": "display_data"
    }
   ],
   "source": [
    "quantile(data)"
   ]
  },
  {
   "cell_type": "code",
   "execution_count": 6,
   "metadata": {},
   "outputs": [
    {
     "data": {
      "text/plain": [
       "   0%   25%   50%   75%  100% \n",
       "35.00 54.00 67.50 75.25 95.00 "
      ]
     },
     "metadata": {},
     "output_type": "display_data"
    }
   ],
   "source": [
    "as.table(quantile(data))"
   ]
  },
  {
   "cell_type": "code",
   "execution_count": 13,
   "metadata": {},
   "outputs": [],
   "source": [
    "fivenumsum <- fivenum(data)"
   ]
  },
  {
   "cell_type": "code",
   "execution_count": 9,
   "metadata": {},
   "outputs": [
    {
     "data": {
      "text/plain": [
       "   Min. 1st Qu.  Median    Mean 3rd Qu.    Max. \n",
       "  35.00   54.00   67.50   65.72   75.25   95.00 "
      ]
     },
     "metadata": {},
     "output_type": "display_data"
    }
   ],
   "source": [
    "summary(data)"
   ]
  },
  {
   "cell_type": "markdown",
   "metadata": {},
   "source": [
    "## outliers (mild)"
   ]
  },
  {
   "cell_type": "code",
   "execution_count": 11,
   "metadata": {},
   "outputs": [],
   "source": [
    "iqr  <- IQR(data)"
   ]
  },
  {
   "cell_type": "code",
   "execution_count": 12,
   "metadata": {},
   "outputs": [
    {
     "data": {
      "text/html": [
       "21.25"
      ],
      "text/latex": [
       "21.25"
      ],
      "text/markdown": [
       "21.25"
      ],
      "text/plain": [
       "[1] 21.25"
      ]
     },
     "metadata": {},
     "output_type": "display_data"
    }
   ],
   "source": [
    "iqr"
   ]
  },
  {
   "cell_type": "code",
   "execution_count": 22,
   "metadata": {},
   "outputs": [
    {
     "data": {
      "text/html": [
       "<ol class=list-inline>\n",
       "\t<li>85</li>\n",
       "\t<li>86</li>\n",
       "\t<li>93</li>\n",
       "\t<li>95</li>\n",
       "</ol>\n"
      ],
      "text/latex": [
       "\\begin{enumerate*}\n",
       "\\item 85\n",
       "\\item 86\n",
       "\\item 93\n",
       "\\item 95\n",
       "\\end{enumerate*}\n"
      ],
      "text/markdown": [
       "1. 85\n",
       "2. 86\n",
       "3. 93\n",
       "4. 95\n",
       "\n",
       "\n"
      ],
      "text/plain": [
       "[1] 85 86 93 95"
      ]
     },
     "metadata": {},
     "output_type": "display_data"
    }
   ],
   "source": [
    "data[(data < fivenumsum[2]-(1.5*iqr))|(data > fivenumsum[2]+(1.5*iqr))]"
   ]
  },
  {
   "cell_type": "markdown",
   "metadata": {},
   "source": [
    "## boxplot"
   ]
  },
  {
   "cell_type": "markdown",
   "metadata": {},
   "source": [
    "__par__ func can be used to set or query graphical parameters"
   ]
  },
  {
   "cell_type": "code",
   "execution_count": 29,
   "metadata": {
    "scrolled": true
   },
   "outputs": [
    {
     "data": {
      "image/png": "[encoded data removed]",
      "text/plain": [
       "plot without title"
      ]
     },
     "metadata": {},
     "output_type": "display_data"
    }
   ],
   "source": [
    "boxplot(data,horizontal=T)"
   ]
  },
  {
   "cell_type": "markdown",
   "metadata": {},
   "source": [
    "## shape, center and spread\n",
    "\n",
    "The shape of the plot is almost symmetrical\n",
    "The center is around 68\n",
    "The spread is not skewed"
   ]
  },
  {
   "cell_type": "markdown",
   "metadata": {},
   "source": [
    "## mean, median"
   ]
  },
  {
   "cell_type": "code",
   "execution_count": 30,
   "metadata": {},
   "outputs": [
    {
     "data": {
      "text/html": [
       "65.71875"
      ],
      "text/latex": [
       "65.71875"
      ],
      "text/markdown": [
       "65.71875"
      ],
      "text/plain": [
       "[1] 65.71875"
      ]
     },
     "metadata": {},
     "output_type": "display_data"
    }
   ],
   "source": [
    "mean(data)"
   ]
  },
  {
   "cell_type": "code",
   "execution_count": 31,
   "metadata": {},
   "outputs": [
    {
     "data": {
      "text/html": [
       "67.5"
      ],
      "text/latex": [
       "67.5"
      ],
      "text/markdown": [
       "67.5"
      ],
      "text/plain": [
       "[1] 67.5"
      ]
     },
     "metadata": {},
     "output_type": "display_data"
    }
   ],
   "source": [
    "median(data)"
   ]
  }
 ],
 "metadata": {
  "kernelspec": {
   "display_name": "R",
   "language": "R",
   "name": "ir"
  },
  "language_info": {
   "codemirror_mode": "r",
   "file_extension": ".r",
   "mimetype": "text/x-r-source",
   "name": "R",
   "pygments_lexer": "r",
   "version": "3.6.1"
  }
 },
 "nbformat": 4,
 "nbformat_minor": 2
}
